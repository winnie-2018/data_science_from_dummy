{
 "cells": [
  {
   "cell_type": "markdown",
   "metadata": {},
   "source": [
    "# 1.1  Python data types and variables\n",
    "In this topic, we will learn to use variables and different data types in Python programming to represent data, including declaring, assigning, and reassigning values using Python variables."
   ]
  },
  {
   "cell_type": "markdown",
   "metadata": {},
   "source": [
    "## 1.1.1 Variables\n",
    "A variable is a location in computer memory, given a specific name, used for storing object references. The names given to variables are called identifiers. There are specific rules applied to an identifier:\n",
    "\n",
    "Identifiers may only begin with an underscore (_) or a letter, not numbers. Therefore, myvar or my_var is valid, 1var is invalid.\n",
    "\n",
    "Identifiers may consist of numbers, letters, and underscores, no other characters. So, for example, we can have python_101 or _python101, but we cannot have $python$ because the $ sign is invalid.\n",
    "\n",
    "There is no limit on the length of an identifier name, although keeping them concise is recommended.\n",
    "\n",
    "We cannot use any Python keywords as an identifier name. They are reserved words for use by Python for specific purposes. "
   ]
  },
  {
   "cell_type": "markdown",
   "metadata": {},
   "source": [
    "## 1.1.2 Python keywords \n",
    "Following lists some of the commonly used Python keywords: \n",
    "\n",
    "`and`|`as`|`break`|`class`|`continue`|`def`|`del`|`elif`|`else`\n",
    "-----|----|-------|-------|----------|-----|-----|------|-------             \n",
    "`for`|`from`|`global`|`if`|`import`|`in`|`is`|`lambda`|`not`\n",
    "`return`|`True`|`try`|`while`|`with`|`yield`|`False`|`or`|`None`\n",
    "\n",
    "The above keywords may get altered or removed in different versions of Python. Some extra might get added. We can always get the list of keywords in the current Python version we use by typing the following codes in the Python console. You can click on the Run button to see the list of keywords printed using the Python command print(keyword.kwlist) in the following example"
   ]
  },
  {
   "cell_type": "code",
   "execution_count": 1,
   "metadata": {},
   "outputs": [
    {
     "name": "stdout",
     "output_type": "stream",
     "text": [
      "['False', 'None', 'True', 'and', 'as', 'assert', 'async', 'await', 'break', 'class', 'continue', 'def', 'del', 'elif', 'else', 'except', 'finally', 'for', 'from', 'global', 'if', 'import', 'in', 'is', 'lambda', 'nonlocal', 'not', 'or', 'pass', 'raise', 'return', 'try', 'while', 'with', 'yield']\n"
     ]
    }
   ],
   "source": [
    "import keyword\n",
    "print(keyword.kwlist)"
   ]
  },
  {
   "cell_type": "markdown",
   "metadata": {},
   "source": [
    "## 1.1.3 Using comments \n",
    "A comment is a note added by a programmer to explain the codes. The interpreter will not execute them. Python comments start with a hash sign (#). For example:"
   ]
  },
  {
   "cell_type": "code",
   "execution_count": 2,
   "metadata": {},
   "outputs": [
    {
     "name": "stdout",
     "output_type": "stream",
     "text": [
      "Hello, Python programming!\n"
     ]
    }
   ],
   "source": [
    "# This statement is a  comment. \n",
    "# This is the second comment - we can add more than one comment.\n",
    "# This is the third comment.\n",
    "print(\"Hello, Python programming!\")\n",
    "# This is the fourth comment."
   ]
  },
  {
   "cell_type": "markdown",
   "metadata": {},
   "source": [
    "The interpreter will ignore the statement # This statement is a comment. Instead, the interpreter will execute the `print(\"Hello, Python programming!\")`. We can also add more than one comment in a Python program. Try it for yourself by clicking the Run button above the Python console. You should see Hello, Python programming! displayed on the result below the codes. You can also add comments and print statements to the last codes' following line using the Python console above. Try this example: \n",
    "\n",
    "#This program will print \"Hi, this is my comment.\" \n",
    "\n",
    "`print(“This is my message”)`\n",
    "\n",
    "#display “This is my message.” \n",
    "\n",
    "After adding the above statements into the Python console, click on the Run button above, and observe the results."
   ]
  },
  {
   "cell_type": "markdown",
   "metadata": {},
   "source": [
    "## 1.1.4 Data types\n",
    "In computer coding, values are also called literals, which may be of different types. For example, 5 and 12 are integers, 7.12 are floats, and \"Hi, Python programming!\" is a string type. The following lists the main data types in Python:\n",
    "\n",
    "* Number\n",
    "* String\n",
    "* List\n",
    "* Dictionary \n",
    "* Tuple\n",
    "* Boolean\n",
    "\n",
    "There are four built-in data types in Python used to store collections of data: List, Set, Tuple, and Dictionary. These four data types have different characteristics and usage, which we are going to learn each of them at the end of this topic.\n",
    "\n",
    "The Boolean type, which has two values, True and False.\n",
    "\n",
    "The following shows other false values in the condition of no value assigned to the data types:\n",
    "\n",
    "0|# zero\n",
    "-|-------\n",
    "0.0|# zero with decimal\n",
    "[]|# an empty list\n",
    "()|# an empty tuple\n",
    "{}|# an empty Dictionary\n",
    "None|# none \n",
    "\n",
    "We have seen the example of possible values of Boolean data type. Other data types will be presented in the following sections and the next few topics."
   ]
  },
  {
   "cell_type": "markdown",
   "metadata": {},
   "source": [
    "### 1.1.4.1 Declaring the data type via value assignment\n",
    "Everything in Python is an object, including the data types such as integer, float, and string. A value assigned to a variable is a reference to the object's location in memory.  \n",
    "\n",
    "In Python, the data type is declared when you assign a value to a variable. Following lists some examples of commonly used data types:\n",
    "\n",
    "Example of declaring data type   |                  Data Type (Syntax in Python)\n",
    "---------------------------------|-----------------------------------------------\n",
    "x = \"Hello, Python\"                               |str \n",
    "x = 10                                            |int \n",
    "x = 50.1                                          |float \n",
    "x = 5y                                            |complex \n",
    "x = [\"milk\", \"cereal\", \"orange\", \"beer\"]          |list \n",
    "x = (\"milk\", \"cereal\", \"orange\", \"beer\")          |tuple \n",
    "x = {\"name\" : \"Alice\", \"age\" : 57}                |dict \n",
    "x = {\"milk\", \"cereal, \"orange\", \"beer\"}           |set \n",
    "x = True                                          |bool \n",
    "\n",
    "For Python programming, as we can see from the examples given above, we do not need to declare variable types before using them. Instead, the interpreter will comprehend which variable type is using the data in it. We use the equal sign = to assign a value to a variable. "
   ]
  },
  {
   "cell_type": "markdown",
   "metadata": {},
   "source": [
    "### 1.1.4.2 More examples of assigning a value to a variable\n",
    "The Python console below shows examples of variables assigned with values. \n",
    "\n",
    ">`x` is an integer assigned with value `10`; \n",
    ">\n",
    ">`y` is a float assigned with value `2.15`; \n",
    ">\n",
    ">`sname` is a string type assigned with `\"Hi, Python programming!\"`;  \n",
    ">\n",
    ">`a` is assigned with value in `x`; \n",
    ">\n",
    ">`b = c = 56` indicates `b` and `c` are assigned with integer value `56`; \n",
    ">\n",
    ">`print(a)` prints the value of `a`; \n",
    ">\n",
    ">`print(sname)` prints the value of `sname`; \n",
    ">\n",
    ">`print(c)` prints the value of `c`.\n",
    "\n",
    "You should see the print results after the codes when you click on the Run button above the following command box:"
   ]
  },
  {
   "cell_type": "code",
   "execution_count": 3,
   "metadata": {},
   "outputs": [
    {
     "name": "stdout",
     "output_type": "stream",
     "text": [
      "10\n",
      "Hello, Python programming!\n",
      "56\n"
     ]
    }
   ],
   "source": [
    "x = 10\n",
    "y = 2.15\n",
    "sname = \"Hello, Python programming!\"\n",
    "a = x\n",
    "b = c = 56\n",
    "print(a)\n",
    "print(sname)\n",
    "print(c)"
   ]
  },
  {
   "cell_type": "markdown",
   "metadata": {},
   "source": [
    "The number data type supports numerical values only, such as 2.15, -70, 0.00169, and 17799999. There are three types of numerical values supported by Python: \n",
    "\n",
    "* int (integer values), which are whole numbers, such as 7, 122, -100000, and 54321\n",
    "* float (floating-point numbers with decimal points), for example, 1.12, 9.17, -65.621\n",
    "* complex (complex numbers), for example, 3+7x, -1+7y, 21a, 4.5+1.92b"
   ]
  },
  {
   "cell_type": "markdown",
   "metadata": {},
   "source": [
    "### 1.1.4.3 Declaring a specific data type\n",
    "We can use the following constructor functions to explicitly specify a data type for a variable:\n",
    "\n",
    "Example of specifying data type                     |Data Type (Syntax in Python)\n",
    "----------------------------------------------------|----------------------------------\n",
    "x = str(\"Hello, Python\")                            |str \n",
    "x = int(10)                                         |int \n",
    "x = float(50.1)                                     |float \n",
    "x = complex(5y)                                     |complex \n",
    "x = list((\"milk\", \"cereal\", \"orange\", \"beer\"))      |list \n",
    "x = tuple((\"milk\", \"cereal\", \"orange\", \"beer\"))     |tuple \n",
    "x = dict(\"name\" : \"Alice\", \"age\" : 57)              |dict \n",
    "x = set((\"milk\", \"cereal, \"orange\", \"beer\"))        |set \n",
    "x = bool(7)                                         |bool"
   ]
  },
  {
   "cell_type": "markdown",
   "metadata": {},
   "source": [
    "### 1.1.4.4 Discovering a variable's data type\n",
    "Python has a built-in function named type(), used for discovering a variable’s type. \n",
    "\n",
    "The following shows the example codes of assigning a value 12 to a variable named a, and then printing the type of variable a. \n",
    "\n",
    "The Python console below will display `<class 'int'>` after the Run button above the console is clicked."
   ]
  },
  {
   "cell_type": "code",
   "execution_count": 4,
   "metadata": {},
   "outputs": [
    {
     "name": "stdout",
     "output_type": "stream",
     "text": [
      "<class 'list'>\n",
      "<class 'tuple'>\n",
      "<class 'dict'>\n",
      "<class 'int'>\n"
     ]
    }
   ],
   "source": [
    "x = [\"milk\", \"cereal\", \"orange\", \"beer\"]            \n",
    "y = (\"milk\", \"cereal\", \"orange\", \"beer\")            \n",
    "z = {\"name\" : \"Alice\", \"age\" : 57}                  \n",
    "a = 12\n",
    "print(type(x))\n",
    "print(type(y))\n",
    "print(type(z))\n",
    "print(type(a))"
   ]
  },
  {
   "cell_type": "markdown",
   "metadata": {},
   "source": [
    "### 1.1.4.5 Naming a variable: Case-sensitive\n",
    "In Python programming, variable names are case-sensitive. In the following example, two variables will be created:\n",
    "\n",
    "> `x = 5`\n",
    "> \n",
    "> `X = \"Hello, Python\"`\n",
    ">\n",
    "> `# X will not overwrite x`"
   ]
  },
  {
   "cell_type": "markdown",
   "metadata": {},
   "source": [
    "## 1.1.5 Python strings\n",
    "### 1.1.5.1 Single or double quotation marks\n",
    "Strings in Python programming are enclosed by either single quotation marks or double quotation marks. For example:\n",
    "\n",
    "\n",
    ">`sname = \"Hello, Python\"`\n",
    ">\n",
    ">`# is the same as `\n",
    ">\n",
    ">`sname = 'Hello, Python'`\n",
    "\n",
    "\n",
    "### 1.1.5.2 Multiline strings\n",
    "We can assign a multiline string to a variable by using three single or double quotes as the examples given in the following Python console. Try it yourself to run the codes to observe the results by clicking the Run button:"
   ]
  },
  {
   "cell_type": "code",
   "execution_count": 5,
   "metadata": {},
   "outputs": [
    {
     "name": "stdout",
     "output_type": "stream",
     "text": [
      "Python supports programming paradigms for data collection, \n",
      "data cleaning, data exploration, and preparing raw data sets to \n",
      "fit into data modeling and data visualization.\n",
      "Python supports programming paradigms for data collection, \n",
      "data cleaning, data exploration, and preparing raw data sets to \n",
      "fit into data modeling and data visualization.\n"
     ]
    }
   ],
   "source": [
    "i = \"\"\"Python supports programming paradigms for data collection, \n",
    "data cleaning, data exploration, and preparing raw data sets to \n",
    "fit into data modeling and data visualization.\"\"\"\n",
    "print(i)\n",
    "\n",
    "j = '''Python supports programming paradigms for data collection, \n",
    "data cleaning, data exploration, and preparing raw data sets to \n",
    "fit into data modeling and data visualization.'''\n",
    "print(j)"
   ]
  },
  {
   "cell_type": "markdown",
   "metadata": {},
   "source": [
    "## 1.1.6 Boolean values and expressions\n",
    "We can evaluate any expression in Python to compare two values, or a condition in an if statement, or evaluate any value, and get the Boolean answer, True or False. The following shows the examples. Try it yourself by clicking the Run button above the console window:"
   ]
  },
  {
   "cell_type": "code",
   "execution_count": 6,
   "metadata": {},
   "outputs": [
    {
     "name": "stdout",
     "output_type": "stream",
     "text": [
      "True\n",
      "False\n",
      "False\n",
      "y is not greater than x\n"
     ]
    }
   ],
   "source": [
    "# To test an expression\n",
    "print(7 > 6)\n",
    "print(7 == 6)\n",
    "print(7 < 5)\n",
    "# To test a condition\n",
    "x = 100\n",
    "y = 55\n",
    "if y > x:\n",
    "  print(\"y is greater than x\")\n",
    "else:\n",
    "  print(\"y is not greater than x\")"
   ]
  },
  {
   "cell_type": "markdown",
   "metadata": {},
   "source": [
    "To evaluate any value, we use the bool() function. Any string is True, except empty strings. Any number is True, except 0. Any list, tuple, set, and dictionary are True, except empty ones. The following shows the examples. Try it yourself by clicking the Run button above the console window:"
   ]
  },
  {
   "cell_type": "code",
   "execution_count": 7,
   "metadata": {},
   "outputs": [
    {
     "name": "stdout",
     "output_type": "stream",
     "text": [
      "True\n",
      "True\n",
      "False\n",
      "False\n",
      "True\n",
      "False\n"
     ]
    }
   ],
   "source": [
    "# To evaluate any value using bool() function\n",
    "print(bool(\"Hello, Python programming!\"))\n",
    "print(bool(12))\n",
    "print(bool(0))\n",
    "a = ()\n",
    "print(bool([]))                  # an empty list\n",
    "print(bool({\"milk\",\"cereal\"}))   # a set with item values of \"milk\" and \"cereal\"\n",
    "print(bool(a))                   # variable a is an empty tuple"
   ]
  },
  {
   "cell_type": "markdown",
   "metadata": {},
   "source": [
    "## 1.1.7 Built-in data types for collection of data\n",
    "In Python, there are four built-in data types we can use to store collections of data. These built-in data types are List, Tuple, Set, and Dictionary, all with different characteristics and usage."
   ]
  }
 ],
 "metadata": {
  "kernelspec": {
   "display_name": "Python 3",
   "language": "python",
   "name": "python3"
  },
  "language_info": {
   "codemirror_mode": {
    "name": "ipython",
    "version": 3
   },
   "file_extension": ".py",
   "mimetype": "text/x-python",
   "name": "python",
   "nbconvert_exporter": "python",
   "pygments_lexer": "ipython3",
   "version": "3.12.2"
  }
 },
 "nbformat": 4,
 "nbformat_minor": 2
}
