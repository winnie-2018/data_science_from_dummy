{
 "cells": [
  {
   "cell_type": "markdown",
   "metadata": {},
   "source": [
    "# 2.1 Functions\n",
    "What are functions?\n",
    "A function is a named code block that can be easily called by using the function name, the function may or may not require input arguments, and may or may not produce output.\n",
    "\n",
    "For example, if we defined a function with the name `sayhello`, we can execute the function by calling `sayhello()` ."
   ]
  },
  {
   "cell_type": "code",
   "execution_count": 1,
   "metadata": {},
   "outputs": [
    {
     "name": "stdout",
     "output_type": "stream",
     "text": [
      "Hi there!\n"
     ]
    }
   ],
   "source": [
    "def sayhello():\n",
    "    print(\"Hi there!\")\n",
    "\n",
    "sayhello()"
   ]
  },
  {
   "cell_type": "markdown",
   "metadata": {},
   "source": [
    "### What is the difference between a user-defined function and a built-in function?\n",
    "`Built-in` functions are functions readily defined in the Python libraries when you installed Python and/or Python libraries. \n",
    "\n",
    "`User-defined` functions are functions defined and designed by the users, normally for specific tasks that the users need to fulfill.\n",
    "\n",
    "### an we just code everything in a script without using functions?\n",
    "Yes, that is completely feasible. However, there are a few reasons why we would define our own functions. User-defined functions are useful especially under situations where\n",
    "\n",
    "repetitive: same repetitive code block is used for different parts of the script;\n",
    "\n",
    "reusability: a code block is to be reused or shared in different scripts/modules/functions;\n",
    "\n",
    "readability: long scripts can benefit from extracting part of the codes into functions to improve readability.\n",
    "\n",
    "Especially in the situations of repetitive and reusability, one important benefit is that when we need to do any modification on the code block, we only need to change once. We do not need to worry about searching everywhere in the script to make sure we change every repeated block correctly.\n",
    "\n",
    "How may we possibly extract from the following code snippet to utilise the concept of functions?\n"
   ]
  },
  {
   "cell_type": "code",
   "execution_count": 2,
   "metadata": {},
   "outputs": [
    {
     "name": "stdout",
     "output_type": "stream",
     "text": [
      "a is 1, a + 1 is 2, a + 2 is 3\n",
      "a is 7, a + 1 is 8, a + 2 is 9\n",
      "a is 49, a + 1 is 50, a + 2 is 51\n"
     ]
    }
   ],
   "source": [
    "a = 1\n",
    "print(f\"a is {a}, a + 1 is {a+1}, a + 2 is {a+2}\")\n",
    "a = a*2 + 5\n",
    "print(f\"a is {a}, a + 1 is {a+1}, a + 2 is {a+2}\")\n",
    "a = a**2\n",
    "print(f\"a is {a}, a + 1 is {a+1}, a + 2 is {a+2}\")"
   ]
  },
  {
   "cell_type": "markdown",
   "metadata": {},
   "source": [
    "### Function definition\n",
    "A function is defined by the keyword def follows by the function name. A function consists of four components, the `function name`, `input`, `body`, and `output`.\n",
    "\n",
    "~~~\n",
    "def name(input):\n",
    "    body\n",
    "    return output\n",
    "~~~"
   ]
  },
  {
   "cell_type": "markdown",
   "metadata": {},
   "source": [
    "## 2.1.1 Function name\n",
    "The name of a function comes right after the def keyword. The following limitations applied for a function name:\n",
    "\n",
    "The function name should not have any space.\n",
    "\n",
    "The only symbol allowed in the function name is underscore `_`.\n",
    "\n",
    "All numbers and alphabets (both lowercase and uppercase) are allowed.\n",
    "\n",
    "Reserved keywords such as `def`, `in`, `for`, etc. cannot be used as a function name.\n",
    "\n",
    "\n",
    "A function can be called by using the function name followed by the parenthesis `()`. For example, to call a Python function with the name of `fcn`, we will use `fcn()`. "
   ]
  },
  {
   "cell_type": "code",
   "execution_count": 3,
   "metadata": {},
   "outputs": [
    {
     "name": "stdout",
     "output_type": "stream",
     "text": [
      "some function\n"
     ]
    }
   ],
   "source": [
    "def fcn():\n",
    "    print(\"some function\")\n",
    "\n",
    "fcn()"
   ]
  },
  {
   "cell_type": "markdown",
   "metadata": {},
   "source": [
    "If two functions are defined with the same name, which one will be executed? \n",
    "\n"
   ]
  },
  {
   "cell_type": "code",
   "execution_count": 4,
   "metadata": {},
   "outputs": [
    {
     "name": "stdout",
     "output_type": "stream",
     "text": [
      "second function\n"
     ]
    }
   ],
   "source": [
    "def fcn():\n",
    "    print(\"first function\")\n",
    "\n",
    "def fcn():\n",
    "    print(\"second function\")\n",
    "\n",
    "fcn()"
   ]
  },
  {
   "cell_type": "markdown",
   "metadata": {},
   "source": [
    "After executing the previous code snippet, we would see second function being printed. That means the second function, i.e. the latter-defined function, is being executed. This is because, similar to assigning a value to a variable, the latter definition or assignment will overwrite the earlier definition."
   ]
  },
  {
   "cell_type": "markdown",
   "metadata": {},
   "source": [
    "## 2.1.2 Function body\n",
    "Function body is the code block that is to be executed when the function is being called. As the body of a function, the code block should be at least one indentation level deeper than the function definition.\n",
    "\n",
    "How do we make the line three statement printed after line two?"
   ]
  },
  {
   "cell_type": "code",
   "execution_count": 5,
   "metadata": {},
   "outputs": [
    {
     "name": "stdout",
     "output_type": "stream",
     "text": [
      "line three\n",
      "line one\n",
      "line two\n"
     ]
    }
   ],
   "source": [
    "def fcn():\n",
    "    print(\"line one\")\n",
    "    print(\"line two\")\n",
    "print(\"line three\")\n",
    "\n",
    "fcn()"
   ]
  },
  {
   "cell_type": "markdown",
   "metadata": {},
   "source": [
    "### Placeholder for function body\n",
    "In the process of creating a system, we might create an empty function as a placeholder while working on another function first. For example, if we want to write a code to execute an algorithm and the algorithm consists of three actions. To keep the structure of the algorithm clear, we could define three functions, one for each of the actions.\n",
    "\n",
    "```\n",
    "def algorithm:\n",
    "    action_one()\n",
    "    action_two()\n",
    "    action_three()\n",
    "    \n",
    "algorithm()\n",
    "```\n",
    "\n",
    "Most likely we will be working on one function at a time, and in the process, we will run the code for the testing and debugging. However, when we are working on `action_one` and we have not defined `action_two` and `action_three`, we will not be able to run the code without error, thus making the debugging process harder. \n",
    "\n",
    "One way to solve this is to create placeholder for action_two and `action_three`. But in Python we are not allowed to create a function with no body. The following code snippet will run with error."
   ]
  },
  {
   "cell_type": "code",
   "execution_count": 6,
   "metadata": {},
   "outputs": [
    {
     "ename": "IndentationError",
     "evalue": "expected an indented block after function definition on line 1 (1145978731.py, line 3)",
     "output_type": "error",
     "traceback": [
      "\u001b[1;36m  Cell \u001b[1;32mIn[6], line 3\u001b[1;36m\u001b[0m\n\u001b[1;33m    def action_two():\u001b[0m\n\u001b[1;37m    ^\u001b[0m\n\u001b[1;31mIndentationError\u001b[0m\u001b[1;31m:\u001b[0m expected an indented block after function definition on line 1\n"
     ]
    }
   ],
   "source": [
    "def action_one():\n",
    "\n",
    "def action_two():\n",
    "\n",
    "def action_three():\n",
    "\n",
    "def algorithm():\n",
    "    action_one()\n",
    "    action_two()\n",
    "    action_three()\n",
    "\n",
    "algorithm()"
   ]
  },
  {
   "cell_type": "markdown",
   "metadata": {},
   "source": [
    "In order to solve this, Python provides two keywords to be used as empty body: `pass` and `...` If you use `pass` or `...` as the body for the function fcn, the code snippet runs without error. The two keywords are interchangeable and produce identical outcome."
   ]
  },
  {
   "cell_type": "code",
   "execution_count": 7,
   "metadata": {},
   "outputs": [],
   "source": [
    "def action_one():\n",
    "    ...\n",
    "\n",
    "def action_two():\n",
    "    pass\n",
    "\n",
    "def action_three():\n",
    "    pass\n",
    "\n",
    "def algorithm():\n",
    "    action_one()\n",
    "    action_two()\n",
    "    action_three()\n",
    "\n",
    "algorithm()"
   ]
  },
  {
   "cell_type": "markdown",
   "metadata": {},
   "source": [
    "## 2.1.3 Function outputs\n",
    "The examples that have been shown until now are functions with no input and output. There are times when we need a function to perform some operations and provide the value to be saved to a variable. This is when we need to create a function that will return the output values.\n",
    "\n",
    "\n",
    "The return keyword defines the values to be provided as outputs. Simultaneously the return keyword also terminates the function."
   ]
  },
  {
   "cell_type": "code",
   "execution_count": 8,
   "metadata": {},
   "outputs": [
    {
     "name": "stdout",
     "output_type": "stream",
     "text": [
      "15\n"
     ]
    }
   ],
   "source": [
    "def fcn():\n",
    "    a = 5\n",
    "    b = a * 3\n",
    "    return b\n",
    "\n",
    "c = fcn()\n",
    "print(c)"
   ]
  },
  {
   "cell_type": "markdown",
   "metadata": {},
   "source": [
    "### Multiple output values\n",
    "If we need to return values from multiple variables from the function, we may use , to separate the variables."
   ]
  },
  {
   "cell_type": "code",
   "execution_count": 10,
   "metadata": {},
   "outputs": [
    {
     "name": "stdout",
     "output_type": "stream",
     "text": [
      "(5, 15)\n"
     ]
    }
   ],
   "source": [
    "def fcn():\n",
    "    a = 5\n",
    "    b = a * 3\n",
    "    return a, b\n",
    "\n",
    "c = fcn()\n",
    "print(c)"
   ]
  },
  {
   "cell_type": "markdown",
   "metadata": {},
   "source": [
    "The variable c is assigned with a tuple of the two values. We can access the two values individually by indexing the variable `c`, i.e. using `c[0]` and `c[1]`. Alternatively, we can also assign the outputs of the function to multiple variables using the concept of unpacking."
   ]
  },
  {
   "cell_type": "code",
   "execution_count": 11,
   "metadata": {},
   "outputs": [
    {
     "name": "stdout",
     "output_type": "stream",
     "text": [
      "c is 5 and d is 15\n"
     ]
    }
   ],
   "source": [
    "def fcn():\n",
    "    a = 5\n",
    "    b = a * 3\n",
    "    return a, b\n",
    "\n",
    "c, d = fcn()\n",
    "print(f\"c is {c} and d is {d}\")"
   ]
  },
  {
   "cell_type": "markdown",
   "metadata": {},
   "source": [
    "However, we need to be cautious in using the unpacking method. The number of variables to be assigned to (in this case, `c` and `d`) must be equal to the number of values returned by the function (in this case, `a` and `b`). If the numbers do not equate, an error will be raised.\n",
    "\n",
    "\n",
    "### Can we return multiple values in a different format than tuple?\n",
    "\n",
    "Yes. In fact, we can return any valid data type in Python from a function. Therefore in terms of returning multiple values, we can also use lists and dictionaries."
   ]
  },
  {
   "cell_type": "code",
   "execution_count": 13,
   "metadata": {},
   "outputs": [
    {
     "name": "stdout",
     "output_type": "stream",
     "text": [
      "c is [5, 15]\n",
      "d is 5 and e is 15\n",
      "f is {'a': 1, 'b': 3}\n",
      "g is a and h is b\n"
     ]
    }
   ],
   "source": [
    "def fcn_list():\n",
    "    a = 5\n",
    "    b = a * 3\n",
    "    return [a,b]\n",
    "\n",
    "def fcn_dict():\n",
    "    a = 1\n",
    "    b = a * 3\n",
    "    return {'a': a, 'b': b}\n",
    "\n",
    "c = fcn_list()\n",
    "d, e = fcn_list()\n",
    "print(f\"c is {c}\")\n",
    "print(f\"d is {d} and e is {e}\")\n",
    "\n",
    "f = fcn_dict()\n",
    "g, h = fcn_dict()\n",
    "print(f\"f is {f}\")\n",
    "print(f\"g is {g} and h is {h}\")"
   ]
  },
  {
   "cell_type": "markdown",
   "metadata": {},
   "source": [
    "Take note that returning a list from a function is identical to returning a tuple from a function. We can unpack the values into variables by providing multiple variables on the left of the equal sign `=`.\n",
    "\n",
    "In terms of returning a dictionary from a function, note that if we return the dictionary output into one variable, we get the dictionary; if we try to unpack a dictionary, the keys of the dictionary get unpacked but not the values.\n",
    "\n",
    ">Dictionaries are also called key-value pairs. The labels of the values are called keys. The dictionary `{'a': 1}` has `a` as the `key` and `1` is the `value` corresponds to the key '`a`'."
   ]
  },
  {
   "cell_type": "markdown",
   "metadata": {},
   "source": [
    "# 2.1.4 Function inputs\n",
    "Inputs to be passed into a function are defined within the parentheses next to the function name.\n",
    "\n",
    "## 2.1.4.1 Defining input arguments\n",
    "**Mandatory input arguments**\n",
    "\n",
    "When we define a function with input arguments in this way: `def fcn(a, b, c):`, `a`, `b`, and `c` are mandatory arguments. That means the function expects three input arguments. "
   ]
  },
  {
   "cell_type": "code",
   "execution_count": 1,
   "metadata": {},
   "outputs": [
    {
     "name": "stdout",
     "output_type": "stream",
     "text": [
      "10\n"
     ]
    }
   ],
   "source": [
    "def fcn(a,b,c):\n",
    "    return a + b + c\n",
    "\n",
    "x = fcn(5,3,2)\n",
    "print(x)"
   ]
  },
  {
   "cell_type": "markdown",
   "metadata": {},
   "source": [
    "If we call the function without passing exactly 3 inputs, type error will be raised.\n",
    "\n"
   ]
  },
  {
   "cell_type": "code",
   "execution_count": 2,
   "metadata": {},
   "outputs": [
    {
     "ename": "TypeError",
     "evalue": "fcn() missing 1 required positional argument: 'c'",
     "output_type": "error",
     "traceback": [
      "\u001b[1;31m---------------------------------------------------------------------------\u001b[0m",
      "\u001b[1;31mTypeError\u001b[0m                                 Traceback (most recent call last)",
      "Cell \u001b[1;32mIn[2], line 4\u001b[0m\n\u001b[0;32m      1\u001b[0m \u001b[38;5;28;01mdef\u001b[39;00m \u001b[38;5;21mfcn\u001b[39m(a,b,c):\n\u001b[0;32m      2\u001b[0m     \u001b[38;5;28;01mreturn\u001b[39;00m a \u001b[38;5;241m+\u001b[39m b \u001b[38;5;241m+\u001b[39m c\n\u001b[1;32m----> 4\u001b[0m x \u001b[38;5;241m=\u001b[39m \u001b[43mfcn\u001b[49m\u001b[43m(\u001b[49m\u001b[38;5;241;43m5\u001b[39;49m\u001b[43m,\u001b[49m\u001b[38;5;241;43m3\u001b[39;49m\u001b[43m)\u001b[49m\n\u001b[0;32m      5\u001b[0m \u001b[38;5;28mprint\u001b[39m(x)\n",
      "\u001b[1;31mTypeError\u001b[0m: fcn() missing 1 required positional argument: 'c'"
     ]
    }
   ],
   "source": [
    "def fcn(a,b,c):\n",
    "    return a + b + c\n",
    "\n",
    "x = fcn(5,3)\n",
    "print(x)"
   ]
  },
  {
   "cell_type": "markdown",
   "metadata": {},
   "source": [
    "**Optional input arguments**\n",
    "\n",
    "When we provide an input argument with a default value, the input argument becomes an optional input arguments. If the input argument is not defined when we call the function, the function will use the default value as the value within the function."
   ]
  },
  {
   "cell_type": "code",
   "execution_count": 3,
   "metadata": {},
   "outputs": [
    {
     "name": "stdout",
     "output_type": "stream",
     "text": [
      "10\n",
      "9\n",
      "8\n"
     ]
    }
   ],
   "source": [
    "def fcn(a,b=2,c=1):\n",
    "    return a + b + c\n",
    "\n",
    "x = fcn(5,3,2)\n",
    "print(x)\n",
    "x = fcn(5,3)\n",
    "print(x)\n",
    "x = fcn(5)\n",
    "print(x)"
   ]
  },
  {
   "cell_type": "markdown",
   "metadata": {},
   "source": [
    "The optional input arguments are also called the default arguments whereas the mandatory input arguments are the non-default arguments. The limitation of defining default arguments is that the non-default arguments must come before the default arguments. In this example, since we have defined the default value for `b`, we must define the default value for `c`. If we remove the default value for `c`, we will run into syntax error.\n",
    "\n",
    "### 1.1.4.2 Calling function with input arguments\n",
    "**Positional input arguments**\n",
    "\n",
    "When we call a function with input arguments, typically we pass the input values in a positional manner. The first value is passed to the first input variable, the second value to the second variable.\n",
    "\n",
    "If the order of the input values is changed, the values are passed to different variables.\n",
    "\n"
   ]
  },
  {
   "cell_type": "code",
   "execution_count": 4,
   "metadata": {},
   "outputs": [
    {
     "name": "stdout",
     "output_type": "stream",
     "text": [
      "a is 1\n",
      "b is 2\n",
      "c is 3\n"
     ]
    }
   ],
   "source": [
    "def fcn(a,b,c):\n",
    "    print(f\"a is {a}\")\n",
    "    print(f\"b is {b}\")\n",
    "    print(f\"c is {c}\")\n",
    "\n",
    "fcn(1,2,3)"
   ]
  },
  {
   "cell_type": "markdown",
   "metadata": {},
   "source": [
    "**Keyword input arguments**\n",
    "\n",
    "Alternatively, we can pass the input values with keywords. In the function call, we can specify the variable name to which the value should be passed.\n",
    "\n",
    "The order of the keyword arguments is not significant. If we change the order of the keyword arguments, the values are still passed to the correct variable in the function. For example, `fcn(a=1,b=2,c=3)` is equivalent to `fcn(b=2,c=3,a=1)`.\n",
    "\n"
   ]
  },
  {
   "cell_type": "code",
   "execution_count": 5,
   "metadata": {},
   "outputs": [
    {
     "name": "stdout",
     "output_type": "stream",
     "text": [
      "a is 1\n",
      "b is 2\n",
      "c is 3\n"
     ]
    }
   ],
   "source": [
    "def fcn(a,b,c):\n",
    "    print(f\"a is {a}\")\n",
    "    print(f\"b is {b}\")\n",
    "    print(f\"c is {c}\")\n",
    "\n",
    "fcn(a=1,b=2,c=3)"
   ]
  },
  {
   "cell_type": "markdown",
   "metadata": {},
   "source": [
    "**Mixing positional and keyword arguments**\n",
    "\n",
    "The usage of positional and keyword arguments can be mixed with one constraint: positional arguments must come before keyword arguments. \n",
    "\n",
    "The positional arguments will be passed according to the order of the definition of input arguments before assigning the keyword arguments to the corresponding variables. For `fcn(1,2,c=3)`, `a` is `1`, `b` is `2`, `c` is `3`. As `1` and `2` are specified as positional arguments, they are assigned following the order as in the function definition."
   ]
  },
  {
   "cell_type": "code",
   "execution_count": 6,
   "metadata": {},
   "outputs": [
    {
     "name": "stdout",
     "output_type": "stream",
     "text": [
      "a is 1\n",
      "b is 2\n",
      "c is 3\n",
      "a is 1\n",
      "b is 2\n",
      "c is 3\n",
      "a is 1\n",
      "b is 2\n",
      "c is 3\n"
     ]
    }
   ],
   "source": [
    "def fcn(a,b,c):\n",
    "    print(f\"a is {a}\")\n",
    "    print(f\"b is {b}\")\n",
    "    print(f\"c is {c}\")\n",
    "\n",
    "fcn(1,b=2,c=3)\n",
    "fcn(1,c=3,b=2)\n",
    "fcn(1,2,c=3)"
   ]
  },
  {
   "cell_type": "markdown",
   "metadata": {},
   "source": [
    "### 2.1.4.3 Dynamic construction of input arguments\n",
    "Sometimes we prepare the input values separately (such as in another function or an extensive code block) before passing the values to the function call. In these scenarios, we can save the input values into a list or a dictionary and pass the list or dictionary into the function call using the concept of unpacking.\n",
    "\n",
    "\n",
    "**Passing input values as a list**\n",
    "\n",
    "A list can be unpacked by adding an asterisk `*` before the variable. To pass the elements of a list into a function as positional arguments, we add the asterisk before the list variable."
   ]
  },
  {
   "cell_type": "code",
   "execution_count": 7,
   "metadata": {},
   "outputs": [
    {
     "name": "stdout",
     "output_type": "stream",
     "text": [
      "a is 1\n",
      "b is 2\n",
      "c is 3\n"
     ]
    }
   ],
   "source": [
    "def fcn(a,b,c):\n",
    "    print(f\"a is {a}\")\n",
    "    print(f\"b is {b}\")\n",
    "    print(f\"c is {c}\")\n",
    "\n",
    "varlist = [1,2,3]\n",
    "fcn(*varlist)"
   ]
  },
  {
   "cell_type": "markdown",
   "metadata": {},
   "source": [
    "**Passing input values as dictionary**\n",
    "\n",
    "A dictionary is unpacked with a double asterisk `**`."
   ]
  },
  {
   "cell_type": "code",
   "execution_count": 8,
   "metadata": {},
   "outputs": [
    {
     "name": "stdout",
     "output_type": "stream",
     "text": [
      "a is 1\n",
      "b is 2\n",
      "c is 3\n"
     ]
    }
   ],
   "source": [
    "def fcn(a,b,c):\n",
    "    print(f\"a is {a}\")\n",
    "    print(f\"b is {b}\")\n",
    "    print(f\"c is {c}\")\n",
    "\n",
    "vardict = {\n",
    "    \"a\": 1,\n",
    "    \"b\": 2,\n",
    "    \"c\": 3\n",
    "}\n",
    "fcn(**vardict)"
   ]
  },
  {
   "cell_type": "markdown",
   "metadata": {},
   "source": [
    "As passing an unpacked list is equivalent to using positional arguments and an unpacked dictionary is equivalent to keyword arguments, the unpacked dictionary should always come after the unpacked list when we use both of them in the same function call."
   ]
  },
  {
   "cell_type": "code",
   "execution_count": 9,
   "metadata": {},
   "outputs": [
    {
     "name": "stdout",
     "output_type": "stream",
     "text": [
      "a is 1\n",
      "b is 2\n",
      "c is 3\n"
     ]
    }
   ],
   "source": [
    "def fcn(a,b,c):\n",
    "    print(f\"a is {a}\")\n",
    "    print(f\"b is {b}\")\n",
    "    print(f\"c is {c}\")\n",
    "\n",
    "varlist = [1]\n",
    "vardict = {\n",
    "    \"c\": 3,\n",
    "    \"b\": 2\n",
    "}\n",
    "fcn(*varlist, **vardict)"
   ]
  },
  {
   "cell_type": "markdown",
   "metadata": {},
   "source": [
    "**Constructing function with unknown or dynamic number of input arguments**\n",
    "\n",
    "When we need to construct a function but we want to keep the number of input arguments flexible, we can also use the concept of unpacking to construct the function.\n",
    "\n",
    "All positional arguments will be saved in args as a tuple and all keyword arguments are saved to kwargs as a dictionary.\n",
    "\n",
    "> Note that args and kwargs are not reserved words. We can use other words just like how we define the input arguments for a function, for example, `def fcn(*positional, **keywords):`. The values stored in args and kwargs are saved in positional and keywords in this function."
   ]
  },
  {
   "cell_type": "code",
   "execution_count": 10,
   "metadata": {},
   "outputs": [
    {
     "name": "stdout",
     "output_type": "stream",
     "text": [
      "(1, 2, 3)\n",
      "{'a': 1, 'b': 2, 'c': 3}\n"
     ]
    }
   ],
   "source": [
    "def fcn(*args, **kwargs):\n",
    "    print(args)\n",
    "    print(kwargs)\n",
    "\n",
    "fcn(1,2,3,a=1,b=2,c=3)"
   ]
  },
  {
   "cell_type": "markdown",
   "metadata": {},
   "source": [
    "We are allowed to also include named non-default arguments and named default arguments in the function definition."
   ]
  },
  {
   "cell_type": "code",
   "execution_count": 11,
   "metadata": {},
   "outputs": [
    {
     "name": "stdout",
     "output_type": "stream",
     "text": [
      "1\n",
      "(2, 3)\n",
      "5\n",
      "{'a': 1, 'b': 2, 'c': 3}\n"
     ]
    }
   ],
   "source": [
    "def fcn(x, *args, y=5, **kwargs):\n",
    "    print(x)\n",
    "    print(args)\n",
    "    print(y)\n",
    "    print(kwargs)\n",
    "\n",
    "fcn(1,2,3,a=1,b=2,c=3)"
   ]
  },
  {
   "cell_type": "markdown",
   "metadata": {},
   "source": [
    "Here is a potential usage of defining a function with a dynamic length of inputs."
   ]
  },
  {
   "cell_type": "code",
   "execution_count": 12,
   "metadata": {},
   "outputs": [
    {
     "name": "stdout",
     "output_type": "stream",
     "text": [
      "[1]\n",
      "[1, 2]\n",
      "[1, 2, 3]\n"
     ]
    }
   ],
   "source": [
    "def fcn1(a, *args, **kwargs):\n",
    "    print([a])\n",
    "\n",
    "def fcn2(a, b, *args, **kwargs):\n",
    "    print([a, b])\n",
    "\n",
    "def fcn3(a, b, c, *args, **kwargs):\n",
    "    print([a, b, c])\n",
    "\n",
    "fcns = [fcn1, fcn2, fcn3]\n",
    "for fcn in fcns:\n",
    "    fcn(1,2,3)"
   ]
  },
  {
   "cell_type": "markdown",
   "metadata": {},
   "source": [
    "## 2.1.5 Additional information on functions\n",
    "### 2.1.5.1 Python built-in functions\n",
    "Python has provided numerous built-in functions. The commonly used built-in functions are listed as follows:\n",
    "\n",
    "Function Name         |Description\n",
    "----------------------|--------------\n",
    "len(x)                |returns string x length\n",
    "max(x)                |returns the x character with the highest ASCII value\n",
    "max(x1, x2, … )       |the biggest value from the arguments supplied\n",
    "min(x)                |returns the x character with the lowest ASCII value\n",
    "min(x1, x2, … )       |the smallest value from the arguments supplied\n",
    "int(a)                |convert a string or float a to an integer\n",
    "str(b)                |convert a number b to a string\n",
    "float()               |convert an int to a float\n",
    "round(b)              |round number b with the syntax round(number[, ndigits])\n",
    "pow(x,y)              |x raised to the power of y is returned\n",
    "range(a, b)           |return a sequence made up of integers ranging from a, a + 1, a + 2, … b – 2, b – 1.\n",
    "sum(tuple)            |return the sum of the numbers in a tuple\n",
    "\n",
    "To test and understand the functionality of these built-in function, we can use the following code snippet to observe the outcome of the functions.\n",
    "\n"
   ]
  },
  {
   "cell_type": "code",
   "execution_count": 13,
   "metadata": {},
   "outputs": [
    {
     "name": "stdout",
     "output_type": "stream",
     "text": [
      "5\n",
      "y\n",
      "!\n",
      "456\n",
      "12\n",
      "15.0\n",
      "456\n",
      "12.46\n",
      "25\n",
      "Yes, x is in the range!\n",
      "15\n"
     ]
    }
   ],
   "source": [
    "print(len(\"Hello\"))\n",
    "print(max(\"Python\"))\n",
    "print(min(\"programming!\"))\n",
    "print(int(\"456\"))\n",
    "print(int(12.456))\n",
    "print(float(15))\n",
    "print(str(456))\n",
    "print(round(12.456, 2))\n",
    "print(pow(5,2))\n",
    "x= 2\n",
    "if x in range(1,5):\n",
    "  print(\"Yes, x is in the range!\")\n",
    "print(sum((1,2,3,4,5)))"
   ]
  }
 ],
 "metadata": {
  "kernelspec": {
   "display_name": "Python 3",
   "language": "python",
   "name": "python3"
  },
  "language_info": {
   "codemirror_mode": {
    "name": "ipython",
    "version": 3
   },
   "file_extension": ".py",
   "mimetype": "text/x-python",
   "name": "python",
   "nbconvert_exporter": "python",
   "pygments_lexer": "ipython3",
   "version": "3.12.2"
  }
 },
 "nbformat": 4,
 "nbformat_minor": 2
}
