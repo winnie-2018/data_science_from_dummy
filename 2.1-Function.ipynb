{
 "cells": [
  {
   "cell_type": "markdown",
   "metadata": {},
   "source": [
    "# 2.1 Functions\n",
    "What are functions?\n",
    "A function is a named code block that can be easily called by using the function name, the function may or may not require input arguments, and may or may not produce output.\n",
    "\n",
    "For example, if we defined a function with the name `sayhello`, we can execute the function by calling `sayhello()` ."
   ]
  },
  {
   "cell_type": "code",
   "execution_count": 1,
   "metadata": {},
   "outputs": [
    {
     "name": "stdout",
     "output_type": "stream",
     "text": [
      "Hi there!\n"
     ]
    }
   ],
   "source": [
    "def sayhello():\n",
    "    print(\"Hi there!\")\n",
    "\n",
    "sayhello()"
   ]
  },
  {
   "cell_type": "markdown",
   "metadata": {},
   "source": [
    "### What is the difference between a user-defined function and a built-in function?\n",
    "`Built-in` functions are functions readily defined in the Python libraries when you installed Python and/or Python libraries. \n",
    "\n",
    "`User-defined` functions are functions defined and designed by the users, normally for specific tasks that the users need to fulfill.\n",
    "\n",
    "### an we just code everything in a script without using functions?\n",
    "Yes, that is completely feasible. However, there are a few reasons why we would define our own functions. User-defined functions are useful especially under situations where\n",
    "\n",
    "repetitive: same repetitive code block is used for different parts of the script;\n",
    "\n",
    "reusability: a code block is to be reused or shared in different scripts/modules/functions;\n",
    "\n",
    "readability: long scripts can benefit from extracting part of the codes into functions to improve readability.\n",
    "\n",
    "Especially in the situations of repetitive and reusability, one important benefit is that when we need to do any modification on the code block, we only need to change once. We do not need to worry about searching everywhere in the script to make sure we change every repeated block correctly.\n",
    "\n",
    "How may we possibly extract from the following code snippet to utilise the concept of functions?\n"
   ]
  },
  {
   "cell_type": "code",
   "execution_count": 2,
   "metadata": {},
   "outputs": [
    {
     "name": "stdout",
     "output_type": "stream",
     "text": [
      "a is 1, a + 1 is 2, a + 2 is 3\n",
      "a is 7, a + 1 is 8, a + 2 is 9\n",
      "a is 49, a + 1 is 50, a + 2 is 51\n"
     ]
    }
   ],
   "source": [
    "a = 1\n",
    "print(f\"a is {a}, a + 1 is {a+1}, a + 2 is {a+2}\")\n",
    "a = a*2 + 5\n",
    "print(f\"a is {a}, a + 1 is {a+1}, a + 2 is {a+2}\")\n",
    "a = a**2\n",
    "print(f\"a is {a}, a + 1 is {a+1}, a + 2 is {a+2}\")"
   ]
  },
  {
   "cell_type": "markdown",
   "metadata": {},
   "source": [
    "### Function definition\n",
    "A function is defined by the keyword def follows by the function name. A function consists of four components, the `function name`, `input`, `body`, and `output`.\n",
    "\n",
    "~~~\n",
    "def name(input):\n",
    "    body\n",
    "    return output\n",
    "~~~"
   ]
  },
  {
   "cell_type": "markdown",
   "metadata": {},
   "source": [
    "## 2.1.1 Function name\n",
    "The name of a function comes right after the def keyword. The following limitations applied for a function name:\n",
    "\n",
    "The function name should not have any space.\n",
    "\n",
    "The only symbol allowed in the function name is underscore `_`.\n",
    "\n",
    "All numbers and alphabets (both lowercase and uppercase) are allowed.\n",
    "\n",
    "Reserved keywords such as `def`, `in`, `for`, etc. cannot be used as a function name.\n",
    "\n",
    "\n",
    "A function can be called by using the function name followed by the parenthesis `()`. For example, to call a Python function with the name of `fcn`, we will use `fcn()`. "
   ]
  },
  {
   "cell_type": "code",
   "execution_count": 3,
   "metadata": {},
   "outputs": [
    {
     "name": "stdout",
     "output_type": "stream",
     "text": [
      "some function\n"
     ]
    }
   ],
   "source": [
    "def fcn():\n",
    "    print(\"some function\")\n",
    "\n",
    "fcn()"
   ]
  },
  {
   "cell_type": "markdown",
   "metadata": {},
   "source": [
    "If two functions are defined with the same name, which one will be executed? \n",
    "\n"
   ]
  },
  {
   "cell_type": "code",
   "execution_count": 4,
   "metadata": {},
   "outputs": [
    {
     "name": "stdout",
     "output_type": "stream",
     "text": [
      "second function\n"
     ]
    }
   ],
   "source": [
    "def fcn():\n",
    "    print(\"first function\")\n",
    "\n",
    "def fcn():\n",
    "    print(\"second function\")\n",
    "\n",
    "fcn()"
   ]
  },
  {
   "cell_type": "markdown",
   "metadata": {},
   "source": [
    "After executing the previous code snippet, we would see second function being printed. That means the second function, i.e. the latter-defined function, is being executed. This is because, similar to assigning a value to a variable, the latter definition or assignment will overwrite the earlier definition."
   ]
  },
  {
   "cell_type": "markdown",
   "metadata": {},
   "source": [
    "## 2.1.2 Function body\n",
    "Function body is the code block that is to be executed when the function is being called. As the body of a function, the code block should be at least one indentation level deeper than the function definition.\n",
    "\n",
    "How do we make the line three statement printed after line two?"
   ]
  },
  {
   "cell_type": "code",
   "execution_count": 5,
   "metadata": {},
   "outputs": [
    {
     "name": "stdout",
     "output_type": "stream",
     "text": [
      "line three\n",
      "line one\n",
      "line two\n"
     ]
    }
   ],
   "source": [
    "def fcn():\n",
    "    print(\"line one\")\n",
    "    print(\"line two\")\n",
    "print(\"line three\")\n",
    "\n",
    "fcn()"
   ]
  },
  {
   "cell_type": "markdown",
   "metadata": {},
   "source": [
    "### Placeholder for function body\n",
    "In the process of creating a system, we might create an empty function as a placeholder while working on another function first. For example, if we want to write a code to execute an algorithm and the algorithm consists of three actions. To keep the structure of the algorithm clear, we could define three functions, one for each of the actions.\n",
    "\n",
    "```\n",
    "def algorithm:\n",
    "    action_one()\n",
    "    action_two()\n",
    "    action_three()\n",
    "    \n",
    "algorithm()\n",
    "```\n",
    "\n",
    "Most likely we will be working on one function at a time, and in the process, we will run the code for the testing and debugging. However, when we are working on `action_one` and we have not defined `action_two` and `action_three`, we will not be able to run the code without error, thus making the debugging process harder. \n",
    "\n",
    "One way to solve this is to create placeholder for action_two and `action_three`. But in Python we are not allowed to create a function with no body. The following code snippet will run with error."
   ]
  },
  {
   "cell_type": "code",
   "execution_count": 6,
   "metadata": {},
   "outputs": [
    {
     "ename": "IndentationError",
     "evalue": "expected an indented block after function definition on line 1 (1145978731.py, line 3)",
     "output_type": "error",
     "traceback": [
      "\u001b[1;36m  Cell \u001b[1;32mIn[6], line 3\u001b[1;36m\u001b[0m\n\u001b[1;33m    def action_two():\u001b[0m\n\u001b[1;37m    ^\u001b[0m\n\u001b[1;31mIndentationError\u001b[0m\u001b[1;31m:\u001b[0m expected an indented block after function definition on line 1\n"
     ]
    }
   ],
   "source": [
    "def action_one():\n",
    "\n",
    "def action_two():\n",
    "\n",
    "def action_three():\n",
    "\n",
    "def algorithm():\n",
    "    action_one()\n",
    "    action_two()\n",
    "    action_three()\n",
    "\n",
    "algorithm()"
   ]
  },
  {
   "cell_type": "markdown",
   "metadata": {},
   "source": [
    "In order to solve this, Python provides two keywords to be used as empty body: `pass` and `...` If you use `pass` or `...` as the body for the function fcn, the code snippet runs without error. The two keywords are interchangeable and produce identical outcome."
   ]
  },
  {
   "cell_type": "code",
   "execution_count": 7,
   "metadata": {},
   "outputs": [],
   "source": [
    "def action_one():\n",
    "    ...\n",
    "\n",
    "def action_two():\n",
    "    pass\n",
    "\n",
    "def action_three():\n",
    "    pass\n",
    "\n",
    "def algorithm():\n",
    "    action_one()\n",
    "    action_two()\n",
    "    action_three()\n",
    "\n",
    "algorithm()"
   ]
  },
  {
   "cell_type": "markdown",
   "metadata": {},
   "source": [
    "## 2.1.3 Function outputs\n",
    "The examples that have been shown until now are functions with no input and output. There are times when we need a function to perform some operations and provide the value to be saved to a variable. This is when we need to create a function that will return the output values.\n",
    "\n",
    "\n",
    "The return keyword defines the values to be provided as outputs. Simultaneously the return keyword also terminates the function."
   ]
  },
  {
   "cell_type": "code",
   "execution_count": 8,
   "metadata": {},
   "outputs": [
    {
     "name": "stdout",
     "output_type": "stream",
     "text": [
      "15\n"
     ]
    }
   ],
   "source": [
    "def fcn():\n",
    "    a = 5\n",
    "    b = a * 3\n",
    "    return b\n",
    "\n",
    "c = fcn()\n",
    "print(c)"
   ]
  },
  {
   "cell_type": "markdown",
   "metadata": {},
   "source": [
    "### Multiple output values\n",
    "If we need to return values from multiple variables from the function, we may use , to separate the variables."
   ]
  },
  {
   "cell_type": "code",
   "execution_count": 10,
   "metadata": {},
   "outputs": [
    {
     "name": "stdout",
     "output_type": "stream",
     "text": [
      "(5, 15)\n"
     ]
    }
   ],
   "source": [
    "def fcn():\n",
    "    a = 5\n",
    "    b = a * 3\n",
    "    return a, b\n",
    "\n",
    "c = fcn()\n",
    "print(c)"
   ]
  },
  {
   "cell_type": "markdown",
   "metadata": {},
   "source": [
    "The variable c is assigned with a tuple of the two values. We can access the two values individually by indexing the variable `c`, i.e. using `c[0]` and `c[1]`. Alternatively, we can also assign the outputs of the function to multiple variables using the concept of unpacking."
   ]
  },
  {
   "cell_type": "code",
   "execution_count": 11,
   "metadata": {},
   "outputs": [
    {
     "name": "stdout",
     "output_type": "stream",
     "text": [
      "c is 5 and d is 15\n"
     ]
    }
   ],
   "source": [
    "def fcn():\n",
    "    a = 5\n",
    "    b = a * 3\n",
    "    return a, b\n",
    "\n",
    "c, d = fcn()\n",
    "print(f\"c is {c} and d is {d}\")"
   ]
  },
  {
   "cell_type": "markdown",
   "metadata": {},
   "source": [
    "However, we need to be cautious in using the unpacking method. The number of variables to be assigned to (in this case, `c` and `d`) must be equal to the number of values returned by the function (in this case, `a` and `b`). If the numbers do not equate, an error will be raised.\n",
    "\n",
    "\n",
    "### Can we return multiple values in a different format than tuple?\n",
    "\n",
    "Yes. In fact, we can return any valid data type in Python from a function. Therefore in terms of returning multiple values, we can also use lists and dictionaries."
   ]
  },
  {
   "cell_type": "code",
   "execution_count": 13,
   "metadata": {},
   "outputs": [
    {
     "name": "stdout",
     "output_type": "stream",
     "text": [
      "c is [5, 15]\n",
      "d is 5 and e is 15\n",
      "f is {'a': 1, 'b': 3}\n",
      "g is a and h is b\n"
     ]
    }
   ],
   "source": [
    "def fcn_list():\n",
    "    a = 5\n",
    "    b = a * 3\n",
    "    return [a,b]\n",
    "\n",
    "def fcn_dict():\n",
    "    a = 1\n",
    "    b = a * 3\n",
    "    return {'a': a, 'b': b}\n",
    "\n",
    "c = fcn_list()\n",
    "d, e = fcn_list()\n",
    "print(f\"c is {c}\")\n",
    "print(f\"d is {d} and e is {e}\")\n",
    "\n",
    "f = fcn_dict()\n",
    "g, h = fcn_dict()\n",
    "print(f\"f is {f}\")\n",
    "print(f\"g is {g} and h is {h}\")"
   ]
  },
  {
   "cell_type": "markdown",
   "metadata": {},
   "source": [
    "Take note that returning a list from a function is identical to returning a tuple from a function. We can unpack the values into variables by providing multiple variables on the left of the equal sign `=`.\n",
    "\n",
    "In terms of returning a dictionary from a function, note that if we return the dictionary output into one variable, we get the dictionary; if we try to unpack a dictionary, the keys of the dictionary get unpacked but not the values.\n",
    "\n",
    ">Dictionaries are also called key-value pairs. The labels of the values are called keys. The dictionary {'a': 1} has 'a' as the key and 1 is the value corresponds to the key 'a'."
   ]
  }
 ],
 "metadata": {
  "kernelspec": {
   "display_name": "Python 3",
   "language": "python",
   "name": "python3"
  },
  "language_info": {
   "codemirror_mode": {
    "name": "ipython",
    "version": 3
   },
   "file_extension": ".py",
   "mimetype": "text/x-python",
   "name": "python",
   "nbconvert_exporter": "python",
   "pygments_lexer": "ipython3",
   "version": "3.12.2"
  }
 },
 "nbformat": 4,
 "nbformat_minor": 2
}
