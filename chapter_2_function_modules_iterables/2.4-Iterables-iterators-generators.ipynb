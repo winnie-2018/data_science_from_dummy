{
 "cells": [
  {
   "cell_type": "markdown",
   "metadata": {},
   "source": [
    "# 2.4 Iterables, iterators, and generators\n",
    "Iterables, iterators, and generators provide us the ability to access to a list of items sequentially.\n",
    "\n",
    "## 2.4.1 Iterables\n",
    "Iterables are variables in which the elements can be accessed through looping. Examples of an iterable are `tuple`, `list`, `set`, `dictionary`, and `string`. All iterables can be looped through with a `for ... in ... loop`."
   ]
  },
  {
   "cell_type": "code",
   "execution_count": 1,
   "metadata": {},
   "outputs": [
    {
     "name": "stdout",
     "output_type": "stream",
     "text": [
      "This is a <class 'tuple'> variable\n",
      "1\n",
      "2\n",
      "3\n",
      "This is a <class 'list'> variable\n",
      "1\n",
      "2\n",
      "3\n",
      "This is a <class 'set'> variable\n",
      "1\n",
      "2\n",
      "3\n",
      "This is a <class 'dict'> variable\n",
      "a\n",
      "b\n",
      "c\n",
      "This is a <class 'str'> variable\n",
      "a\n",
      "b\n",
      "c\n"
     ]
    }
   ],
   "source": [
    "tuplevar = (1,2,3)\n",
    "listvar = [1,2,3]\n",
    "setvar = set([1,1,2,3,2])\n",
    "dictvar = {\"a\": 1, \"b\": 2, \"c\": 3}\n",
    "strvar = \"abc\"\n",
    "\n",
    "for v in [tuplevar, listvar, setvar, dictvar, strvar]:\n",
    "    print(f\"This is a {type(v)} variable\")\n",
    "    for x in v:\n",
    "        print(x)"
   ]
  },
  {
   "cell_type": "markdown",
   "metadata": {},
   "source": [
    "## 2.4.2 Iterators\n",
    "Iterators are special objects that implement the iterator protocol, i.e. having a `__next()__` method. By having a `__next()__` method, we can call the `next()` function on an iterator object to get the next item in the iterator.\n",
    "\n",
    "All iterators are iterables, but not all iterables are iterators. We can convert an iterable to an iterator by using the iter() function on the iterable."
   ]
  },
  {
   "cell_type": "code",
   "execution_count": 2,
   "metadata": {},
   "outputs": [
    {
     "name": "stdout",
     "output_type": "stream",
     "text": [
      "1\n"
     ]
    }
   ],
   "source": [
    "listvar = [1,2,3]\n",
    "itervar = iter(listvar)\n",
    "print(next(itervar))"
   ]
  },
  {
   "cell_type": "markdown",
   "metadata": {},
   "source": [
    "Iterator is useful in producing cleaner code especially while dealing with an infinite sequence. To illustrate this, we use the functions in the itertools module to create the iterators. `itertools` is a built-in module for Python designed to create iterators. More details onitertools can be found [here](https://docs.python.org/3/library/itertools.html)."
   ]
  },
  {
   "cell_type": "code",
   "execution_count": 3,
   "metadata": {},
   "outputs": [
    {
     "name": "stdout",
     "output_type": "stream",
     "text": [
      "I prefer fried rice.\n",
      "I prefer soup noodle.\n",
      "I prefer fried rice.\n",
      "I prefer soup noodle.\n",
      "I prefer fried rice.\n"
     ]
    }
   ],
   "source": [
    "from itertools import cycle\n",
    "food = cycle([\"fried rice\", \"soup noodle\"])\n",
    "for _ in range(5):\n",
    "    print(f\"I prefer {next(food)}.\")"
   ]
  },
  {
   "cell_type": "code",
   "execution_count": 4,
   "metadata": {},
   "outputs": [
    {
     "name": "stdout",
     "output_type": "stream",
     "text": [
      "1\n",
      "3\n",
      "5\n",
      "7\n",
      "9\n",
      "11\n",
      "13\n",
      "15\n",
      "17\n",
      "19\n"
     ]
    }
   ],
   "source": [
    "from itertools import count\n",
    "counter = count(start=1, step=2)\n",
    "for _ in range(10):\n",
    "    print(next(counter))"
   ]
  },
  {
   "cell_type": "markdown",
   "metadata": {},
   "source": [
    "Another notable property of an iterator is that the item is only generated when the `next()` function is called on the iterator object. Therefore an iterator, compared to a list, is more memory efficient as it does not generate all the items and save them in the memory.\n",
    "\n",
    "* Construct an iterator class\n",
    "  \n",
    "With itertools we can create iterators to perform specific functions. We can also construct a custom iterator class by implementing `__iter__` and `__next__` as class methods."
   ]
  },
  {
   "cell_type": "code",
   "execution_count": 5,
   "metadata": {},
   "outputs": [
    {
     "name": "stdout",
     "output_type": "stream",
     "text": [
      "0\n",
      "1\n",
      "2\n",
      "3\n",
      "4\n",
      "5\n",
      "6\n",
      "7\n",
      "8\n",
      "9\n"
     ]
    }
   ],
   "source": [
    "class upcounter:\n",
    "    def __init__(self):\n",
    "        self.curr = 0\n",
    "    \n",
    "    def __iter__(self):\n",
    "        return self\n",
    "\n",
    "    def __next__(self):\n",
    "        value = self.curr\n",
    "        self.curr += 1\n",
    "        return value\n",
    "\n",
    "uc = upcounter()\n",
    "for _ in range(10):\n",
    "    print(next(uc))"
   ]
  },
  {
   "cell_type": "markdown",
   "metadata": {},
   "source": [
    "As an iterator, `__iter__` method normally just return the object itself as the output of the `__iter__` method should be an iterator. The `__next__` method is the important part. In `__next__` we should\n",
    "\n",
    "* return the current value and\n",
    "* update the necessary values to calculate the next value.\n",
    "\n",
    "Here's another example of iterator to create a counter starting from 0 that counts up by 1 follows by counting up by 2, and repeat. The result of this iterator will be `[0,1,3,4,6,7,9,...]`."
   ]
  },
  {
   "cell_type": "code",
   "execution_count": 6,
   "metadata": {},
   "outputs": [
    {
     "name": "stdout",
     "output_type": "stream",
     "text": [
      "0\n",
      "1\n",
      "3\n",
      "4\n",
      "6\n",
      "7\n",
      "9\n",
      "10\n",
      "12\n",
      "13\n"
     ]
    }
   ],
   "source": [
    "class upcounter:\n",
    "    def __init__(self):\n",
    "        self.curr = 0\n",
    "        self.inc = 1\n",
    "    \n",
    "    def __iter__(self):\n",
    "        return self\n",
    "\n",
    "    def __next__(self):\n",
    "        value = self.curr\n",
    "        self.curr += self.inc\n",
    "        if self.inc == 1:\n",
    "            self.inc = 2\n",
    "        else:\n",
    "            self.inc = 1\n",
    "        return value\n",
    "\n",
    "uc = upcounter()\n",
    "for _ in range(10):\n",
    "    print(next(uc))"
   ]
  },
  {
   "cell_type": "markdown",
   "metadata": {},
   "source": [
    "## 2.4.3 Generators\n",
    "Generators are similar to iterators in which they are capable to produce an infinite sequence. Many have considered generators to be the elegant kind of iterators. Instead of implementing `__iter__` and `__next__` , a generator uses yield to provide the next value.\n",
    "\n",
    "Taking the example of a up-counting counter,\n",
    "\n"
   ]
  },
  {
   "cell_type": "code",
   "execution_count": 7,
   "metadata": {},
   "outputs": [
    {
     "name": "stdout",
     "output_type": "stream",
     "text": [
      "0\n",
      "1\n",
      "2\n",
      "3\n",
      "4\n",
      "5\n",
      "6\n",
      "7\n",
      "8\n",
      "9\n"
     ]
    }
   ],
   "source": [
    "def upcounter():\n",
    "    curr = 0\n",
    "    while True:\n",
    "        yield curr\n",
    "        curr += 1\n",
    "\n",
    "cnt = upcounter()\n",
    "for _ in range(10):\n",
    "    print(next(cnt))"
   ]
  },
  {
   "cell_type": "markdown",
   "metadata": {},
   "source": [
    "the generator is defined as a function. By calling the function, we created a generator that is stored as `cnt`. When we call next on the generator object `cnt`, the code in `upcounter` will be execute up to yield to produce one value, and then become idle. When the `next` is called on `cnt` again, the code will continue until a `yield` is executed.\n",
    "\n",
    "We can also produce the same `+1`, `+2` increment sequence as in the example in iterators."
   ]
  },
  {
   "cell_type": "code",
   "execution_count": 8,
   "metadata": {},
   "outputs": [
    {
     "name": "stdout",
     "output_type": "stream",
     "text": [
      "0\n",
      "1\n",
      "3\n",
      "4\n",
      "6\n",
      "7\n",
      "9\n",
      "10\n",
      "12\n",
      "13\n"
     ]
    }
   ],
   "source": [
    "def upcounter():\n",
    "    curr = 0\n",
    "    inc = 1\n",
    "    while True:\n",
    "        yield curr\n",
    "        curr += inc\n",
    "        inc = 2 if inc == 1 else 1 # this is a one-line expression for if-else\n",
    "\n",
    "cnt = upcounter()\n",
    "for _ in range(10):\n",
    "    print(next(cnt))"
   ]
  },
  {
   "cell_type": "markdown",
   "metadata": {},
   "source": [
    "* Generator expressions\n",
    "\n",
    "The previous examples show one type of generators, i.e. the generator functions. Generators can be generated similar to a list comprehension, and this type of generators is called the generator expressions.\n",
    "\n",
    ">Generator functions are functions utilising yield, while generator expressions are created with syntax similar to list comprehension.\n",
    "\n",
    "Before going to generator expressions, we need to be familiar with the syntax of list comprehension. List comprehension is a one-line expression to create a list."
   ]
  },
  {
   "cell_type": "code",
   "execution_count": 9,
   "metadata": {},
   "outputs": [
    {
     "name": "stdout",
     "output_type": "stream",
     "text": [
      "[0, 1, 4, 9, 16]\n",
      "<class 'list'>\n"
     ]
    }
   ],
   "source": [
    "numbers = [0,1,2,3,4]\n",
    "squared = [x**2 for x in numbers]\n",
    "print(squared)\n",
    "print(type(squared))"
   ]
  },
  {
   "cell_type": "markdown",
   "metadata": {},
   "source": [
    "Similar syntax is used for set comprehension and dictionary comprehension."
   ]
  },
  {
   "cell_type": "code",
   "execution_count": 10,
   "metadata": {},
   "outputs": [
    {
     "name": "stdout",
     "output_type": "stream",
     "text": [
      "{0, 1, 4, 9, 16}\n",
      "<class 'set'>\n",
      "{0: 0, 1: 1, 2: 4, 3: 9, 4: 16}\n",
      "<class 'dict'>\n"
     ]
    }
   ],
   "source": [
    "numbers = [0,1,2,3,4]\n",
    "squared = {x**2 for x in numbers}\n",
    "print(squared)\n",
    "print(type(squared))\n",
    "\n",
    "squared = {x:x**2 for x in numbers}\n",
    "print(squared)\n",
    "print(type(squared))\n"
   ]
  },
  {
   "cell_type": "markdown",
   "metadata": {},
   "source": [
    "> List, set, and dictionary are iterables, they are not iterators or generators.\n",
    "\n",
    "By using parentheses, it is not tuple comprehension, it is a generator expression (genexpr). We are creating a generator."
   ]
  },
  {
   "cell_type": "code",
   "execution_count": 11,
   "metadata": {},
   "outputs": [
    {
     "name": "stdout",
     "output_type": "stream",
     "text": [
      "<generator object <genexpr> at 0x000001D4E990C2B0>\n",
      "<class 'generator'>\n",
      "0\n",
      "1\n",
      "4\n"
     ]
    }
   ],
   "source": [
    "numbers = [0,1,2,3,4]\n",
    "squared = (x**2 for x in numbers)\n",
    "print(squared)\n",
    "print(type(squared))\n",
    "\n",
    "for _ in range(3):\n",
    "    print(next(squared))"
   ]
  }
 ],
 "metadata": {
  "kernelspec": {
   "display_name": "Python 3",
   "language": "python",
   "name": "python3"
  },
  "language_info": {
   "codemirror_mode": {
    "name": "ipython",
    "version": 3
   },
   "file_extension": ".py",
   "mimetype": "text/x-python",
   "name": "python",
   "nbconvert_exporter": "python",
   "pygments_lexer": "ipython3",
   "version": "3.12.2"
  }
 },
 "nbformat": 4,
 "nbformat_minor": 2
}
