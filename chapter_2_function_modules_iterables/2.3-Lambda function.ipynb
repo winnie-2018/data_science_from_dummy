{
 "cells": [
  {
   "cell_type": "markdown",
   "metadata": {},
   "source": [
    "# 2.3 Lambda function\n",
    "A lambda function is a special type of function. A lambda function is an anonymous function, i.e. at definition lambda function has no function name, that only consist of a one-line expression.\n",
    "\n",
    "## 2.3.1 Lambda function definition\n",
    "Lambda function is defined with the lambda keyword, followed by the input arguments. A colon `:` follows directly after the input arguments to denote the beginning of the one-line expression.\n",
    "\n",
    "> lambda arguments : expression\n",
    "\n",
    "The value of the expression is returned as the output value without the use of the return keyword. A lambda function can be executed during definition."
   ]
  },
  {
   "cell_type": "code",
   "execution_count": 2,
   "metadata": {},
   "outputs": [
    {
     "name": "stdout",
     "output_type": "stream",
     "text": [
      "10\n"
     ]
    }
   ],
   "source": [
    "# lambda x: x + x # this is the lambda function\n",
    "print( (lambda x: x + x)(5) )"
   ]
  },
  {
   "cell_type": "markdown",
   "metadata": {},
   "source": [
    "A lambda function can also be assigned to a variable and the variable name would be used as the function name of the lambda function."
   ]
  },
  {
   "cell_type": "code",
   "execution_count": 3,
   "metadata": {},
   "outputs": [
    {
     "name": "stdout",
     "output_type": "stream",
     "text": [
      "10 10\n"
     ]
    }
   ],
   "source": [
    "# fcn and l_fcn are equivalent\n",
    "def fcn(x):\n",
    "    return x + x\n",
    "\n",
    "l_fcn = lambda x: x + x\n",
    "\n",
    "print(fcn(5), l_fcn(5))"
   ]
  },
  {
   "cell_type": "markdown",
   "metadata": {},
   "source": [
    "## 2.3.2 Inputs\n",
    "Previous examples show lambda functions defined with a single non-default input argument. Lambda function can be defined without input argument, with more than one input argument, and with default input arguments."
   ]
  },
  {
   "cell_type": "code",
   "execution_count": 4,
   "metadata": {},
   "outputs": [
    {
     "name": "stdout",
     "output_type": "stream",
     "text": [
      "5\n",
      "5\n",
      "3\n"
     ]
    }
   ],
   "source": [
    "fcn1 = lambda : 5 # without input arguments\n",
    "fcn2 = lambda x,y: x + y # multiple arguments\n",
    "fcn3 = lambda x,y=2: x + y # with default input arguments\n",
    "\n",
    "print(fcn1())\n",
    "print(fcn2(2,3))\n",
    "print(fcn3(1))"
   ]
  }
 ],
 "metadata": {
  "kernelspec": {
   "display_name": "Python 3",
   "language": "python",
   "name": "python3"
  },
  "language_info": {
   "codemirror_mode": {
    "name": "ipython",
    "version": 3
   },
   "file_extension": ".py",
   "mimetype": "text/x-python",
   "name": "python",
   "nbconvert_exporter": "python",
   "pygments_lexer": "ipython3",
   "version": "3.12.2"
  }
 },
 "nbformat": 4,
 "nbformat_minor": 2
}
