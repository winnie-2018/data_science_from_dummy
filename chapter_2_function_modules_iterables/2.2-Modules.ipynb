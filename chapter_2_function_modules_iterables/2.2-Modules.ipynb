{
 "cells": [
  {
   "cell_type": "markdown",
   "metadata": {},
   "source": [
    "# 2.2 Modules\n",
    "\n",
    "Modules are files with `.py` extension containing Python code (`functions` or `classes`) that can be imported into a Python script/code.\n",
    "\n",
    "Taking the example of a module with the name of modulename that contains a function called functionname and a class called `classname`. "
   ]
  },
  {
   "cell_type": "code",
   "execution_count": 2,
   "metadata": {},
   "outputs": [],
   "source": [
    "# modulename.py\n",
    "def functionname():\n",
    "    pass\n",
    "\n",
    "class classname:\n",
    "    def __init__(self):\n",
    "        pass"
   ]
  },
  {
   "cell_type": "markdown",
   "metadata": {},
   "source": [
    "We can import the module directly by doing import `modulename` and call the function with `modulename`.`functionname`. Or, we can import the functions or classes in the module by doing from `modulename` import `functionname`, `classname` and call the function directly with `functionname()`."
   ]
  },
  {
   "cell_type": "code",
   "execution_count": null,
   "metadata": {},
   "outputs": [],
   "source": [
    "# Python script\n",
    "import modulename\n",
    "\n",
    "modulename.functionname()\n",
    "modulename.classname()\n",
    "\n",
    "functionname() # this will not work"
   ]
  },
  {
   "cell_type": "code",
   "execution_count": null,
   "metadata": {},
   "outputs": [],
   "source": [
    "# Python script\n",
    "from modulename import functionname, classname\n",
    "\n",
    "functionname()\n",
    "classname()\n",
    "\n",
    "modulename.functionname() # this will not work"
   ]
  },
  {
   "cell_type": "markdown",
   "metadata": {},
   "source": [
    "# 2.2.1 Imports\n",
    "When we import a module with its module name directly, the Python program will search for the module from the current directory before searching from the paths in `sys.path`. The output of `sys.path` may vary with different machines depending on your installation and the OS environment variables.\n",
    "\n",
    ">import sys\n",
    ">\n",
    ">print(sys.path)"
   ]
  },
  {
   "cell_type": "markdown",
   "metadata": {},
   "source": [
    "## 2.2.2 Folder as module\n",
    "Often times we would use a folder to store the different modules containing different functions.\n",
    "\n",
    "~~~\n",
    "root\n",
    "├─ folder\n",
    "│  └─ module.py\n",
    "└─ script.py \n",
    "~~~\n",
    "\n",
    "With this setup, `script.py` is able to import `module.py` as module by doing from folder import module. "
   ]
  },
  {
   "cell_type": "markdown",
   "metadata": {},
   "source": [
    "## 2.2.3 Reuse function in a different module\n",
    "Let's consider the following example. We have two modules, `module1` and `module2`, provided by `module1.py` and `module2.py`respectively. In `module1` we have `fcn1`. Let's say we want to use `fcn1` in `module2`, we would do from module1 import `fcn1` in the file of `module2.py`."
   ]
  },
  {
   "cell_type": "code",
   "execution_count": null,
   "metadata": {},
   "outputs": [],
   "source": [
    "# module1.py\n",
    "def fcn1():\n",
    "    pass\n",
    "\n",
    "# module2.py\n",
    "from module1 import fcn1"
   ]
  },
  {
   "cell_type": "markdown",
   "metadata": {},
   "source": [
    "In this case, by importing fcn1 from module1 into module2, we have fcn1 in module2 as well. So if we have a script file called main.py in the same folder as `module1.py` and `module2.py`, when we use\n",
    "\n",
    "~~~\n",
    "from module1 import fcn1\n",
    "~~~\n",
    "and\n",
    "~~~\n",
    "from module2 import fcn1\n",
    "~~~\n",
    "would provide the same function."
   ]
  }
 ],
 "metadata": {
  "kernelspec": {
   "display_name": "Python 3",
   "language": "python",
   "name": "python3"
  },
  "language_info": {
   "codemirror_mode": {
    "name": "ipython",
    "version": 3
   },
   "file_extension": ".py",
   "mimetype": "text/x-python",
   "name": "python",
   "nbconvert_exporter": "python",
   "pygments_lexer": "ipython3",
   "version": "3.12.2"
  }
 },
 "nbformat": 4,
 "nbformat_minor": 2
}
