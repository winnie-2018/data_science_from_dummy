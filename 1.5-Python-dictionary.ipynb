{
 "cells": [
  {
   "cell_type": "markdown",
   "metadata": {},
   "source": [
    "# 1.5 Python dictionary\n",
    "As of Python version 3.7, a dictionary is a collection that is ordered (meaning items have a defined order), changeable (meaning we can change, add or remove items of a dictionary after it has been created), and does not allow duplicates (meaning a dictionary cannot have two items with the same key).  In Python 3.6 and earlier, dictionaries are unordered. We can use dictionaries to store data values in key:value pairs, and can be uniquely referred to by using the key name.\n",
    "\n",
    "Dictionaries are written with curly brackets {}, and contain keys and values. \n",
    "\n",
    "\n",
    "## 1.5.1 Accessing key values from a dictionary\n",
    "The following shows the examples. Try it yourself by clicking the Run button above the console window:"
   ]
  },
  {
   "cell_type": "code",
   "execution_count": 2,
   "metadata": {},
   "outputs": [
    {
     "name": "stdout",
     "output_type": "stream",
     "text": [
      "{'id': '1001', 'name': 'Alice', 'birthyear': 1962}\n",
      "1001\n",
      "{'id': '1001', 'name': 'Alice', 'birthyear': 2007}\n"
     ]
    }
   ],
   "source": [
    "mydict = {\"id\": \"1001\", \"name\": \"Alice\", \"birthyear\": 1962}\n",
    "print(mydict)\n",
    "print(mydict[\"id\"])   #Print the \"id\" value of the dictionary\n",
    "mydict = {\"id\": \"1001\", \"name\": \"Alice\", \"birthyear\": 1962,\n",
    "  \"birthyear\": 2007   # Duplicate value will overwrite the existing value\n",
    "}\n",
    "print(mydict)"
   ]
  },
  {
   "cell_type": "markdown",
   "metadata": {},
   "source": [
    "## 1.5.2 Data types of dictionary key values\n",
    "A dictionary's key values items can be of any data type. The following examples show a dictionary can contain string, integer, and boolean data types, or a dictionary can contain a combination of key values with different data types."
   ]
  },
  {
   "cell_type": "code",
   "execution_count": 3,
   "metadata": {},
   "outputs": [
    {
     "name": "stdout",
     "output_type": "stream",
     "text": [
      "<class 'int'>\n",
      "<class 'str'>\n",
      "<class 'float'>\n",
      "<class 'bool'>\n"
     ]
    }
   ],
   "source": [
    "mydict = {\"id\": 105, \"name\": \"Alice\", \"score\": 96.27, \"enrolled\": True}\n",
    "print(type(mydict[\"id\"]))   #Print the \"id\" type  of the dictionary\n",
    "print(type(mydict[\"name\"]))   #Print the \"name\" type  of the dictionary\n",
    "print(type(mydict[\"score\"]))   #Print the \"score\" type  of the dictionary\n",
    "print(type(mydict[\"enrolled\"]))   #Print the \"score\" type  of the dictionary"
   ]
  },
  {
   "cell_type": "markdown",
   "metadata": {},
   "source": [
    "## 1.5.3 Methods for a Python dictionary\n",
    "Python has a number of methods to work with dictionaries. The following lists the methods:\n",
    "\n",
    "Method         |Description\n",
    "---|-\n",
    "items()        |returns all the keys as items of a dictionary and their values \n",
    "clear()        |deletes all keys as items from the dictionary\n",
    "keys()         |returns all the keys as a list\n",
    "values()       |returns all the values as a list\n",
    "get(key)       |returns the keys of a dictionary by referring to its key name\n",
    "pop(key)       |removes the specified key; if the key isn’t found, a KeyError exception is thrown\n",
    "popitem()      |removes the last inserted key as item\n",
    "update()       |updates the dictionary with the keys from the given argument\n",
    "copy()         |makes a copy from an existing dictionary\n",
    "\n",
    "\n",
    "Try Run the following examples to observe how a dictionary's methods work in retrieving the key values of a dictionary using the methods of `get()`, `keys()`, `values()`, and `items()`:"
   ]
  },
  {
   "cell_type": "code",
   "execution_count": 5,
   "metadata": {},
   "outputs": [
    {
     "name": "stdout",
     "output_type": "stream",
     "text": [
      "Alice\n",
      "dict_keys(['id', 'name', 'birthyear'])\n",
      "dict_values(['1001', 'Alice', 1962])\n",
      "dict_items([('id', '1001'), ('name', 'Alice'), ('birthyear', 1962)])\n"
     ]
    }
   ],
   "source": [
    "mydict = {\"id\": \"1001\", \"name\": \"Alice\", \"birthyear\": 1962 }\n",
    "print(mydict.get(\"name\"))     # this is equavalent to print(mydict[\"name\"])\n",
    "print(mydict.keys())          # returns all keys in mydict\n",
    "print(mydict.values())        # returns all keys' values in mydict\n",
    "print(mydict.items())         # returns all keys and their values"
   ]
  },
  {
   "cell_type": "markdown",
   "metadata": {},
   "source": [
    "Try Run the following examples to observe how a dictionary's methods work in updating and copying the key values of a dictionary using the methods of `update()` and `copy()`:"
   ]
  },
  {
   "cell_type": "code",
   "execution_count": 7,
   "metadata": {},
   "outputs": [
    {
     "name": "stdout",
     "output_type": "stream",
     "text": [
      "dict_items([('id', '1001'), ('name', 'Alice'), ('birthyear', 1972), ('height', 165)])\n",
      "dict_items([('id', '1001'), ('name', 'Alice'), ('birthyear', 1972), ('height', 165)])\n"
     ]
    }
   ],
   "source": [
    "mydict = {\"id\": \"1001\", \"name\": \"Alice\", \"birthyear\": 1962 }\n",
    "mydict.update({\"birthyear\": 1972})  # update the key \"birthyear\" value\n",
    "mydict.update({\"height\": 165})      # update new key \"height\"\n",
    "print(mydict.items())       \n",
    "mydict2 = mydict.copy()             # copy mydict to mydict2 \n",
    "print(mydict2.items())"
   ]
  },
  {
   "cell_type": "markdown",
   "metadata": {},
   "source": [
    "Try Run the following examples to observe how a dictionary's methods remove or clear the keys of a dictionary using the methods of `pop()`, `popitem()`, and `clear()`:\n",
    "\n"
   ]
  },
  {
   "cell_type": "code",
   "execution_count": 8,
   "metadata": {},
   "outputs": [
    {
     "name": "stdout",
     "output_type": "stream",
     "text": [
      "dict_items([('id', '1001'), ('birthyear', 1962)])\n",
      "dict_items([('id', '1001')])\n",
      "dict_items([])\n"
     ]
    }
   ],
   "source": [
    "mydict = {\"id\": \"1001\", \"name\": \"Alice\", \"birthyear\": 1962}\n",
    "mydict.pop(\"name\")           # remove the key of \"name\"   \n",
    "print(mydict.items())        \n",
    "mydict.popitem()             # remove the last key as item \n",
    "print(mydict.items())        \n",
    "mydict.clear()               # clear all items in a dictionary\n",
    "print(mydict.items())    "
   ]
  },
  {
   "cell_type": "markdown",
   "metadata": {},
   "source": [
    "## 1.5.4 Nested dictionaries\n",
    "A dictionary can contain dictionaries, this is called nested dictionaries. In the following examples, we create  three dictionaries, and then create one dictionary that will contain the three dictionaries:\n"
   ]
  },
  {
   "cell_type": "code",
   "execution_count": 9,
   "metadata": {},
   "outputs": [
    {
     "name": "stdout",
     "output_type": "stream",
     "text": [
      "dict_items([('person1', {'name': 'Alice', 'birthyear': 1972}), ('person2', {'name': 'John', 'birthyear': 1991}), ('person3', {'name': 'Larry', 'birthyear': 1979})])\n"
     ]
    }
   ],
   "source": [
    "person1= {\"name\" : \"Alice\", \"birthyear\" : 1972}\n",
    "person2 = {\"name\" : \"John\", \"birthyear\" : 1991}\n",
    "person3 = {\"name\" : \"Larry\", \"birthyear\" : 1979}\n",
    "company = {\n",
    "  \"person1\" : person1, \"person2\" : person2, \"person3\" : person3\n",
    "}\n",
    "print(company.items())"
   ]
  },
  {
   "cell_type": "markdown",
   "metadata": {},
   "source": [
    "## 1.5.5 Check if a key exists\n",
    "The following example shows how we can use if statement to determine if a specified key is present in a dictionary using the in keyword:"
   ]
  },
  {
   "cell_type": "code",
   "execution_count": 10,
   "metadata": {},
   "outputs": [
    {
     "name": "stdout",
     "output_type": "stream",
     "text": [
      "Yes, 'name' is one of the keys in the mydict dictionary\n"
     ]
    }
   ],
   "source": [
    "mydict = {\n",
    " \"id\": \"1001\",\n",
    " \"name\": \"Alice\",\n",
    " \"birthyear\": 1962\n",
    "}\n",
    "if \"name\" in mydict:\n",
    "  print(\"Yes, 'name' is one of the keys in the mydict dictionary\")"
   ]
  },
  {
   "cell_type": "markdown",
   "metadata": {},
   "source": [
    "## 1.5.6 Determining number of keys in a dictionary\n",
    "We can use len() to determine how many keys a dictionary has, use the len() function. Try the following examples and observe the results:\n",
    "\n",
    "\n",
    "  "
   ]
  },
  {
   "cell_type": "code",
   "execution_count": 11,
   "metadata": {},
   "outputs": [
    {
     "name": "stdout",
     "output_type": "stream",
     "text": [
      "2\n"
     ]
    }
   ],
   "source": [
    "a = {\"name\" : \"Alice\", \"age\" : 57} \n",
    "print(len(a))"
   ]
  }
 ],
 "metadata": {
  "kernelspec": {
   "display_name": "Python 3",
   "language": "python",
   "name": "python3"
  },
  "language_info": {
   "codemirror_mode": {
    "name": "ipython",
    "version": 3
   },
   "file_extension": ".py",
   "mimetype": "text/x-python",
   "name": "python",
   "nbconvert_exporter": "python",
   "pygments_lexer": "ipython3",
   "version": "3.12.2"
  }
 },
 "nbformat": 4,
 "nbformat_minor": 2
}
