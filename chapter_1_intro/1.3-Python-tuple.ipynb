{
 "cells": [
  {
   "cell_type": "markdown",
   "metadata": {},
   "source": [
    "# 1.3 Python tuple\n",
    "A tuple is a collection that is ordered (meaning items have a defined order), unchangeable (meaning we cannot change, add or remove items of a tuple after it has been created), and it allows duplicate values.  Tuple items are indexed, the first item has an index [0], the second item has an index [1] , and so on. To create a tuple with only one item, it is necessary to add a comma after the item, otherwise, Python will not recognise it as a tuple. A Tuple can be of any data type such as string, int, and boolean data types, and may contain different data types.\n",
    "\n",
    "Tuples are written with round brackets (). \n",
    "\n",
    "## 1.3.1 Accessing items from a tuple\n",
    "The following shows examples of how we can access items from a tuple. Try it yourself by clicking the Run button above the console window:"
   ]
  },
  {
   "cell_type": "code",
   "execution_count": null,
   "metadata": {},
   "outputs": [],
   "source": [
    "mytuple = (\"milk\", \"cereal\", \"orange\", \"juice\",\"bread\")\n",
    "print(mytuple)\n",
    "print(mytuple[1])\n",
    "print(mytuple[-1])\n",
    "print(mytuple[-2])"
   ]
  },
  {
   "cell_type": "markdown",
   "metadata": {},
   "source": [
    "## 1.3.2 Data types of tuple items\n",
    "Tuple items can be of any data type. The following examples show a tuple can contain string, integer, and boolean data types, or a tuple may contain a combination of items with different data types."
   ]
  },
  {
   "cell_type": "code",
   "execution_count": 1,
   "metadata": {},
   "outputs": [
    {
     "name": "stdout",
     "output_type": "stream",
     "text": [
      "('milk', 'cereal', 'orange')\n",
      "(1, 5, 2, 9, 6)\n",
      "(True, False, False)\n",
      "('milk', 12, True)\n"
     ]
    }
   ],
   "source": [
    "mytuple = (\"milk\", \"cereal\", \"orange\")\n",
    "mytuple2 = (1, 5, 2, 9, 6)\n",
    "mytuple3 = (True, False, False)\n",
    "mytuple4 = (\"milk\", 12, True)\n",
    "print(mytuple)\n",
    "print(mytuple2)\n",
    "print(mytuple3)\n",
    "print(mytuple4)"
   ]
  },
  {
   "cell_type": "markdown",
   "metadata": {},
   "source": [
    "## 1.3.3 Change tuple item value \n",
    "Tuples in Python are immutable. When trying to re-assign/change a specific tuple value, we get an exception. If we run the below code, we get an exception. The following examples demonstrate an exception will be raised when we try to change a specific tuple's value:"
   ]
  },
  {
   "cell_type": "code",
   "execution_count": 2,
   "metadata": {},
   "outputs": [
    {
     "ename": "TypeError",
     "evalue": "'tuple' object does not support item assignment",
     "output_type": "error",
     "traceback": [
      "\u001b[1;31m---------------------------------------------------------------------------\u001b[0m",
      "\u001b[1;31mTypeError\u001b[0m                                 Traceback (most recent call last)",
      "Cell \u001b[1;32mIn[2], line 2\u001b[0m\n\u001b[0;32m      1\u001b[0m mytuple \u001b[38;5;241m=\u001b[39m (\u001b[38;5;124m\"\u001b[39m\u001b[38;5;124mmilk\u001b[39m\u001b[38;5;124m\"\u001b[39m, \u001b[38;5;124m\"\u001b[39m\u001b[38;5;124mcereal\u001b[39m\u001b[38;5;124m\"\u001b[39m, \u001b[38;5;124m\"\u001b[39m\u001b[38;5;124morange\u001b[39m\u001b[38;5;124m\"\u001b[39m, \u001b[38;5;124m\"\u001b[39m\u001b[38;5;124mjuice\u001b[39m\u001b[38;5;124m\"\u001b[39m,\u001b[38;5;124m\"\u001b[39m\u001b[38;5;124mbread\u001b[39m\u001b[38;5;124m\"\u001b[39m, \u001b[38;5;124m\"\u001b[39m\u001b[38;5;124mapple\u001b[39m\u001b[38;5;124m\"\u001b[39m)\n\u001b[1;32m----> 2\u001b[0m \u001b[43mmytuple\u001b[49m\u001b[43m[\u001b[49m\u001b[38;5;241;43m1\u001b[39;49m\u001b[43m]\u001b[49m \u001b[38;5;241m=\u001b[39m \u001b[38;5;124m\"\u001b[39m\u001b[38;5;124mgrain\u001b[39m\u001b[38;5;124m\"\u001b[39m   \u001b[38;5;66;03m# change the second item\u001b[39;00m\n\u001b[0;32m      3\u001b[0m \u001b[38;5;28mprint\u001b[39m(mytuple)\n",
      "\u001b[1;31mTypeError\u001b[0m: 'tuple' object does not support item assignment"
     ]
    }
   ],
   "source": [
    "mytuple = (\"milk\", \"cereal\", \"orange\", \"juice\",\"bread\", \"apple\")\n",
    "mytuple[1] = \"grain\"   # change the second item\n",
    "print(mytuple)"
   ]
  },
  {
   "cell_type": "markdown",
   "metadata": {},
   "source": [
    "## 1.3.4 Methods for a python tuple\n",
    "The following presents the built-in methods for a Python tuple:\n",
    "\n",
    "Method       |Description\n",
    "-------------|---------------------------------------------------\n",
    "count()      |returns the number of times a specified value occurs in a tuple\n",
    "index()      |searchs the tuple for a specified value and returns the position found earliest \n",
    "\n",
    "The following examples demonstrate how we can use the count() and index() methods to search for position and numbers of an item occurrence in a tuple:"
   ]
  },
  {
   "cell_type": "code",
   "execution_count": 3,
   "metadata": {},
   "outputs": [
    {
     "name": "stdout",
     "output_type": "stream",
     "text": [
      "5\n",
      "2\n",
      "0\n",
      "1\n",
      "3\n"
     ]
    }
   ],
   "source": [
    "mytuple = (\"milk\", 2, 5, \"cereal\", 2, 9, \"milk\", 2, 7, \"coffee\", \"5\", 2, 2, 5)\n",
    "# count() method\n",
    "print(mytuple.count(2))        # number 2 occurs 5 times in mytuple\n",
    "print(mytuple.count(\"milk\"))   # \"milk\" occurs 2 times in mytuple\n",
    "# index() method\n",
    "print(mytuple.index(\"milk\"))\n",
    "print(mytuple.index(2))\n",
    "print(mytuple.index(\"cereal\"))"
   ]
  },
  {
   "cell_type": "markdown",
   "metadata": {},
   "source": [
    "## 1.3.5 Adding items into a tuple \n",
    "In Python, tuples are immutable, therefore they do not have a built-in `append()` or `extend()` method, but there are other approaches to add items to a tuple. \n",
    "\n",
    "In the first method, we can use the way of adding items of a tuple to another tuple using arithmetic operators. We first create a new tuple with the item(s), and add it to the existing tuple as demonstrated by the following examples:\n",
    "\n"
   ]
  },
  {
   "cell_type": "code",
   "execution_count": 4,
   "metadata": {},
   "outputs": [
    {
     "name": "stdout",
     "output_type": "stream",
     "text": [
      "('milk', 'cereal', 'bread')\n",
      "('milk', 'cereal', 'bread', 2, 5, 7)\n",
      "('walnut', 5, 'almond', 'walnut', 5, 'almond')\n"
     ]
    }
   ],
   "source": [
    "mytuple = (\"milk\", \"cereal\")\n",
    "x = (\"bread\",)  # create a new tuple x\n",
    "mytuple += x    # use += to add \"bread\" in x to mytuple\n",
    "print(mytuple)\n",
    "\n",
    "mytuple2 = (2, 5, 7)\n",
    "mytuple3 = mytuple + mytuple2   # join two tuples using the + operator\n",
    "print(mytuple3)\n",
    "\n",
    "mytuple4 = (\"walnut\", 5, \"almond\")\n",
    "mytuple5 = mytuple4 * 2   # Multiply the items in mytuple by 2 using the * operator \n",
    "print(mytuple5)"
   ]
  },
  {
   "cell_type": "markdown",
   "metadata": {},
   "source": [
    "Another approach is making use of the mutable characteristic of the Python List to a workaround for changing a tuple. With this approach, we first convert a tuple into a list, add the new item(s), and then convert it back into a tuple. \n",
    "\n",
    "Examples in the following present how we can use this approach:\n",
    "\n",
    "\n",
    "The codes also show that that the created mytuple to which the list is assigned is not the same as the first one to be changed. This difference reflects that their ids are varied due to the fact the tuples are immutable. \n"
   ]
  },
  {
   "cell_type": "code",
   "execution_count": 5,
   "metadata": {},
   "outputs": [
    {
     "name": "stdout",
     "output_type": "stream",
     "text": [
      "1783074641920\n",
      "1783070156032\n",
      "('milk', 'cereal', 'orange', 'juice', 'apple', 'bread')\n"
     ]
    }
   ],
   "source": [
    "mytuple = (\"milk\", \"cereal\", \"orange\", \"juice\", \"apple\")\n",
    "print(id(mytuple))\n",
    "x = list(mytuple)         # convert mytuple into a list\n",
    "x.append(\"bread\")         # add \"bread\" item\n",
    "mytuple = tuple(x)        # and convert x list back into mytuple \n",
    "print(id(mytuple))\n",
    "print(mytuple)"
   ]
  },
  {
   "cell_type": "markdown",
   "metadata": {},
   "source": [
    "## 1.3.6 Remove items of a tuple \n",
    "In Python, tuples are unchangeable. Therefore, we cannot remove items from a tuple, however, we can use the same workaround as we made use of the remove() method of a list for changing and adding tuple items demonstrated in the previous examples. Codes in the following give examples of how we can remove items from a tuple using the approach:"
   ]
  },
  {
   "cell_type": "code",
   "execution_count": 6,
   "metadata": {},
   "outputs": [
    {
     "name": "stdout",
     "output_type": "stream",
     "text": [
      "('cereal', 'orange')\n"
     ]
    }
   ],
   "source": [
    "mytuple = (\"milk\", \"cereal\", \"orange\")    \n",
    "x = list(mytuple)      # convert the tuple into a list\n",
    "x.remove(\"milk\")       # remove \"milk\"\n",
    "mytuple = tuple(x)     # convert it back into a tuple\n",
    "print(mytuple)"
   ]
  },
  {
   "cell_type": "markdown",
   "metadata": {},
   "source": [
    "Or, we can delete a tuple completely using the del keyword as shown in the following example codes:\n",
    "\n"
   ]
  },
  {
   "cell_type": "code",
   "execution_count": 7,
   "metadata": {},
   "outputs": [
    {
     "ename": "NameError",
     "evalue": "name 'mytuple' is not defined",
     "output_type": "error",
     "traceback": [
      "\u001b[1;31m---------------------------------------------------------------------------\u001b[0m",
      "\u001b[1;31mNameError\u001b[0m                                 Traceback (most recent call last)",
      "Cell \u001b[1;32mIn[7], line 3\u001b[0m\n\u001b[0;32m      1\u001b[0m mytuple \u001b[38;5;241m=\u001b[39m (\u001b[38;5;124m\"\u001b[39m\u001b[38;5;124mmilk\u001b[39m\u001b[38;5;124m\"\u001b[39m, \u001b[38;5;124m\"\u001b[39m\u001b[38;5;124mcereal\u001b[39m\u001b[38;5;124m\"\u001b[39m, \u001b[38;5;124m\"\u001b[39m\u001b[38;5;124morange\u001b[39m\u001b[38;5;124m\"\u001b[39m) \n\u001b[0;32m      2\u001b[0m \u001b[38;5;28;01mdel\u001b[39;00m mytuple\n\u001b[1;32m----> 3\u001b[0m \u001b[38;5;28mprint\u001b[39m(\u001b[43mmytuple\u001b[49m) \u001b[38;5;66;03m#this will raise an error because the tuple no longer exists\u001b[39;00m\n",
      "\u001b[1;31mNameError\u001b[0m: name 'mytuple' is not defined"
     ]
    }
   ],
   "source": [
    "mytuple = (\"milk\", \"cereal\", \"orange\") \n",
    "del mytuple\n",
    "print(mytuple) #this will raise an error because the tuple no longer exists"
   ]
  },
  {
   "cell_type": "markdown",
   "metadata": {},
   "source": [
    "## 1.3.7 Unpacking a tuple\n",
    "When we create a tuple, we usually assign values as items to it. This is called \"packing\" a tuple. \n",
    "\n",
    "In Python, we are also allowed to retrieve the items back into variables defined. This is called \"unpacking\".\n",
    "\n",
    "The following examples show how Python pack and unpack a tuple's item values into variables."
   ]
  },
  {
   "cell_type": "code",
   "execution_count": 8,
   "metadata": {},
   "outputs": [
    {
     "name": "stdout",
     "output_type": "stream",
     "text": [
      "milk\n",
      "cereal\n",
      "orange\n"
     ]
    }
   ],
   "source": [
    "mytuple = (\"milk\", \"cereal\", \"orange\")  # Pack a tuple, i.e. assigning values\n",
    "(var1, var2, var3) = mytuple  # assinging a tuple's items to variables\n",
    "print(var1)\n",
    "print(var2)\n",
    "print(var3)"
   ]
  },
  {
   "cell_type": "markdown",
   "metadata": {},
   "source": [
    "## 1.3.8 Check if an item exists\n",
    "The following example shows how we can use if statement to determine if a specified item is present in a tuple using the in keyword:"
   ]
  },
  {
   "cell_type": "code",
   "execution_count": 9,
   "metadata": {},
   "outputs": [
    {
     "name": "stdout",
     "output_type": "stream",
     "text": [
      "Yes, 'cereal' is in the tuple\n"
     ]
    }
   ],
   "source": [
    "mytuple = (\"milk\", \"cereal\", \"orange\", \"beer\", \"bread\")\n",
    "if \"cereal\" in mytuple:\n",
    "  print(\"Yes, 'cereal' is in the tuple\")"
   ]
  },
  {
   "cell_type": "markdown",
   "metadata": {},
   "source": [
    "## 1.3.9 Determining number of items in a tuple\n",
    "We can use len() to determine how many items a tuple has, use the len() function. Try the following example and observe the result:"
   ]
  },
  {
   "cell_type": "code",
   "execution_count": 10,
   "metadata": {},
   "outputs": [
    {
     "name": "stdout",
     "output_type": "stream",
     "text": [
      "2\n"
     ]
    }
   ],
   "source": [
    "a = (\"milk\", \"cereal\")                    # a tuple\n",
    "print(len(a))"
   ]
  }
 ],
 "metadata": {
  "kernelspec": {
   "display_name": "Python 3",
   "language": "python",
   "name": "python3"
  },
  "language_info": {
   "codemirror_mode": {
    "name": "ipython",
    "version": 3
   },
   "file_extension": ".py",
   "mimetype": "text/x-python",
   "name": "python",
   "nbconvert_exporter": "python",
   "pygments_lexer": "ipython3",
   "version": "3.12.2"
  }
 },
 "nbformat": 4,
 "nbformat_minor": 2
}
