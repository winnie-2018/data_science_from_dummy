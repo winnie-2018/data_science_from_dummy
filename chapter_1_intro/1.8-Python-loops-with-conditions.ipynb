{
 "cells": [
  {
   "cell_type": "markdown",
   "metadata": {},
   "source": [
    "# 1.8 Python loops with conditions\n",
    "In Python programming, there are two types of loops which are the for loop and the while loop. These two loops are used to control the flow of a program.\n",
    "\n",
    "## 1.8.1 The for loop \n",
    "The syntax for a for loop is:\n",
    "\n",
    "```\n",
    "for i in iterable_object:  # \"for\" is the keyword, i is a user-defined variable name.\n",
    "       # do something      # iterable_object can be a collection such as list,\n",
    "       # do something      # tuple or set. i in iterable_object is the a condition \n",
    "                           # to pass (i.e. True) to execute the loop's statements\n",
    "```\n",
    "\n",
    "Every statement within a for or a while loop must have the same indentation spaces; else, we will get a syntax error. To further understand how a for loop works, let's look at the following example: "
   ]
  },
  {
   "cell_type": "code",
   "execution_count": 1,
   "metadata": {},
   "outputs": [
    {
     "name": "stdout",
     "output_type": "stream",
     "text": [
      "5\n",
      "6\n",
      "7\n"
     ]
    }
   ],
   "source": [
    "my_list = [5, 6, 7] \n",
    "for i in my_list: \n",
    "    print(i) "
   ]
  },
  {
   "cell_type": "markdown",
   "metadata": {},
   "source": [
    "The output we would expect from the above example is 5 6 7. The first loop iteration, we assign i with an initial value of  my_list starting from the first item, and then the program executes the print statement. In the second loop iteration, the i value will take the next item in the list and then the program will execute the print statement again. This will continue until all the my_list elements have been iterated over and the for loop exits.\n",
    "\n",
    "We can also send any data type of argument to a function (such as string, number, list, dictionary), and it will be treated as the same data type inside the function. For example, if we send a List as an argument, it will still be a List when it reaches the function as follows."
   ]
  },
  {
   "cell_type": "code",
   "execution_count": 2,
   "metadata": {},
   "outputs": [
    {
     "name": "stdout",
     "output_type": "stream",
     "text": [
      "milk\n",
      "cereal\n",
      "orange\n"
     ]
    }
   ],
   "source": [
    "def my_function(item):\n",
    "  for x in item:\n",
    "    print(x)\n",
    "items = [\"milk\", \"cereal\", \"orange\"]\n",
    "my_function(items)"
   ]
  },
  {
   "cell_type": "markdown",
   "metadata": {},
   "source": [
    "In Python loops, strings are iterable objects because they contain a sequence of characters. The example codes will Loop through the letters in the word \"Hi, loops!\"."
   ]
  },
  {
   "cell_type": "code",
   "execution_count": 3,
   "metadata": {},
   "outputs": [
    {
     "name": "stdout",
     "output_type": "stream",
     "text": [
      "H\n",
      "i\n",
      ",\n",
      " \n",
      "l\n",
      "o\n",
      "o\n",
      "p\n",
      "s\n",
      "!\n"
     ]
    }
   ],
   "source": [
    "for x in \"Hi, loops!\":\n",
    "  print(x)"
   ]
  },
  {
   "cell_type": "markdown",
   "metadata": {},
   "source": [
    "### 1.8.1.1 range() function in loops \n",
    "The range(n, m) function will return a sequence of numbers. That sequence is made up of integers ranging from n, n + 1, n + 2, …, m – 2, m – 1\n",
    "\n",
    "The output we expect from the above example will be a number from 10 to 14 printed on each line."
   ]
  },
  {
   "cell_type": "code",
   "execution_count": 4,
   "metadata": {},
   "outputs": [
    {
     "name": "stdout",
     "output_type": "stream",
     "text": [
      "10\n",
      "11\n",
      "12\n",
      "13\n",
      "14\n"
     ]
    }
   ],
   "source": [
    "for i in range(10, 15):\n",
    "    print(i)"
   ]
  },
  {
   "cell_type": "markdown",
   "metadata": {},
   "source": [
    "The `range()` function can also be used with a single argument without specifying the first argument as the starting range number of 0 by default. For example, the following loop will print a number starting from `0` to `4` on each line. "
   ]
  },
  {
   "cell_type": "code",
   "execution_count": 5,
   "metadata": {},
   "outputs": [
    {
     "name": "stdout",
     "output_type": "stream",
     "text": [
      "0\n",
      "1\n",
      "2\n",
      "3\n",
      "4\n"
     ]
    }
   ],
   "source": [
    "for i in range(5):\n",
    "      print(i)"
   ]
  },
  {
   "cell_type": "markdown",
   "metadata": {},
   "source": [
    "The `range()` function allows a third parameter as an optional argument to specify the size of the increment number of the `i`. The following example shows the third argument, i.e. 2, resulting in `i` to increase of `2`. The output we expect from the example will be the numbers `1`,`3`,`5`, `7`, `9` printed on each line. "
   ]
  },
  {
   "cell_type": "code",
   "execution_count": 6,
   "metadata": {},
   "outputs": [
    {
     "name": "stdout",
     "output_type": "stream",
     "text": [
      "1\n",
      "3\n",
      "5\n",
      "7\n",
      "9\n"
     ]
    }
   ],
   "source": [
    "for i in range(1, 10, 2):\n",
    "    print(i)"
   ]
  },
  {
   "cell_type": "markdown",
   "metadata": {},
   "source": [
    "### 1.8.1.2 The else in for loop\n",
    "The else keyword in a for loop specifies a block of codes to be executed when the loop is completed. In the following, we use `else` in a `for` loop to print all numbers from `1` to `5` and print a message when the loop has ended. "
   ]
  },
  {
   "cell_type": "code",
   "execution_count": 7,
   "metadata": {},
   "outputs": [
    {
     "name": "stdout",
     "output_type": "stream",
     "text": [
      "1\n",
      "2\n",
      "3\n",
      "4\n",
      "5\n",
      "The loop has ended.\n"
     ]
    }
   ],
   "source": [
    "for x in  range(1,6):\n",
    "  print(x)\n",
    "else:\n",
    "  print(\"The loop has ended.\")"
   ]
  },
  {
   "cell_type": "markdown",
   "metadata": {},
   "source": [
    "## 1.8.2 The while loop \n",
    "The syntax for the while loop is: \n",
    "\n",
    "~~~\n",
    "while condition:               # \"while\" is the keyword\n",
    "    # do something             # condition is the requisite to pass (i.e. True)\n",
    "                               #   to run the loop's statements  \n",
    "~~~ \n",
    " A while loop will execute the statements it contains until a specified condition is no longer true. "
   ]
  },
  {
   "cell_type": "code",
   "execution_count": 8,
   "metadata": {},
   "outputs": [
    {
     "name": "stdout",
     "output_type": "stream",
     "text": [
      "1\n",
      "2\n",
      "3\n",
      "4\n",
      "5\n"
     ]
    }
   ],
   "source": [
    "x = 1 \n",
    "while x <= 5: \n",
    "    print(x) \n",
    "    x += 1 "
   ]
  },
  {
   "cell_type": "markdown",
   "metadata": {},
   "source": [
    "### 1.8.2.1 Comparing while loop and for loop\n",
    "What makes for and while loop different is in terms of the code structure and number of iterations; in while loop it continues executing the statement whenever the condition is true, else when the condition becomes false, the loop stops, and the Python program proceeds to exit from the loop. In for loop, the statements in the body execute for a specific number of times. "
   ]
  },
  {
   "cell_type": "code",
   "execution_count": 19,
   "metadata": {},
   "outputs": [
    {
     "data": {
      "image/jpeg": "[encoded data removed]",
      "text/html": [
       "\n",
       "        <iframe\n",
       "            width=\"800\"\n",
       "            height=\"300\"\n",
       "            src=\"https://www.youtube.com/embed/9AJ0uoxtdCQ\"\n",
       "            frameborder=\"0\"\n",
       "            allowfullscreen\n",
       "            \n",
       "        ></iframe>\n",
       "        "
      ],
      "text/plain": [
       "<IPython.lib.display.YouTubeVideo at 0x2a267e11df0>"
      ]
     },
     "execution_count": 19,
     "metadata": {},
     "output_type": "execute_result"
    }
   ],
   "source": [
    "from IPython.display import YouTubeVideo\n",
    "\n",
    "YouTubeVideo('9AJ0uoxtdCQ', width=800, height=300)"
   ]
  },
  {
   "cell_type": "markdown",
   "metadata": {},
   "source": [
    "### 1.8.2.2 The else in while loop\n",
    "With the else statement in a while loop, we can execute a block of codes once when the while condition no longer is true. For example, the codes below will print a message once the condition is false. "
   ]
  },
  {
   "cell_type": "code",
   "execution_count": 20,
   "metadata": {},
   "outputs": [
    {
     "name": "stdout",
     "output_type": "stream",
     "text": [
      "1\n",
      "2\n",
      "3\n",
      "4\n",
      "5\n",
      "x is larger than 6\n"
     ]
    }
   ],
   "source": [
    "x = 1\n",
    "while x < 6:\n",
    " print(x)\n",
    " x += 1\n",
    "else:    # the x < 6 condition is false\n",
    "  print(\"x is larger than 6\")"
   ]
  },
  {
   "cell_type": "markdown",
   "metadata": {},
   "source": [
    "## 1.8.3 The break statement\n",
    "We can use the break statement to force the control of a program to exit or break out from the loop even though the loop condition is met. In the following example: if `x` is equal to `5`, the condition `x == 5` is true and the break keyword will force the program to exit from the loop."
   ]
  },
  {
   "cell_type": "code",
   "execution_count": 21,
   "metadata": {},
   "outputs": [
    {
     "name": "stdout",
     "output_type": "stream",
     "text": [
      "inside loop 2\n",
      "inside loop 3\n",
      "inside loop 4\n",
      "out of while loop\n"
     ]
    }
   ],
   "source": [
    "x = 1\n",
    "while x <= 9:\n",
    "    x += 1\n",
    "    if x == 5:                # if statement condition x equals to 5\n",
    "        break                 # exit from the loop if condition is true\n",
    "    print(\"inside loop\", x)   # still in loop before exit \n",
    "print(\"out of while loop\")    # exit loop - observe the indentation  \n"
   ]
  },
  {
   "cell_type": "markdown",
   "metadata": {},
   "source": [
    "Another example of break statement in a loop is shown in the following example. When `x` is `3`, the `break` statement will be executed, resulting in the for loop to stop and proceed to the `else` statement.\n",
    "\n",
    "In the above example, we should observe that the \"Entering else statement\" will not be executed at all because once the `i` reaches `3`, the control of the program will force it to exit from the loop."
   ]
  },
  {
   "cell_type": "code",
   "execution_count": 22,
   "metadata": {},
   "outputs": [
    {
     "name": "stdout",
     "output_type": "stream",
     "text": [
      "0\n",
      "1\n",
      "2\n",
      "The loop has ended.\n"
     ]
    }
   ],
   "source": [
    "for i in range(5):\n",
    "  if i == 3: break    # we can position \"break\" right after the condition\n",
    "  print(i)\n",
    "else:\n",
    "  print(\"Entering else statement.\")\n",
    "print(\"The loop has ended.\")"
   ]
  },
  {
   "cell_type": "markdown",
   "metadata": {},
   "source": [
    "## 18.4 The continue statement\n",
    "Whenever a program encounters a continue statement, the current iteration ends, and control of the program will go straight to the end of the body of the loop. For the example demonstrated below, as soon as `x % 2 == 0`, execution of the continue statement occurs; the current iteration will end and control goes onto the next iteration. We would expect to see the output of each number of `7` `9` `11` printed on each line. "
   ]
  },
  {
   "cell_type": "code",
   "execution_count": 23,
   "metadata": {},
   "outputs": [
    {
     "name": "stdout",
     "output_type": "stream",
     "text": [
      "7\n",
      "9\n",
      "11\n"
     ]
    }
   ],
   "source": [
    "x = 5\n",
    "while x < 12:\n",
    "    x += 1\n",
    "    if x % 2 == 0:\n",
    "        continue    # current iteration ends, move to the begining of loop\n",
    "    print(x)        # this print(x) will be ignore if x % 2 == 0 is true"
   ]
  },
  {
   "cell_type": "markdown",
   "metadata": {},
   "source": [
    "Below shows another example of continue statement in loops."
   ]
  },
  {
   "cell_type": "code",
   "execution_count": 24,
   "metadata": {},
   "outputs": [
    {
     "name": "stdout",
     "output_type": "stream",
     "text": [
      "milk\n",
      "orange\n",
      "bread\n",
      "beer\n"
     ]
    }
   ],
   "source": [
    "items = [\"milk\", \"cereal\", \"orange\", \"bread\", \"beer\"]\n",
    "for x in items:\n",
    "  if x == \"cereal\":\n",
    "    continue\n",
    "  print(x)"
   ]
  },
  {
   "cell_type": "markdown",
   "metadata": {},
   "source": [
    "## 1.8.5 Nested loops\n",
    "A nested loop is a loop containing another loop. The \"`inner loop`\" that is contained inside a loop (i.e. outer loop), will be executed one time for each iteration of the \"`outer loop`\". \n",
    "\n",
    "The following example demonstrates how a nested loop works. In this example, the program will print each id (i.e. ids)  mapping every item in the items list."
   ]
  },
  {
   "cell_type": "code",
   "execution_count": 25,
   "metadata": {},
   "outputs": [
    {
     "name": "stdout",
     "output_type": "stream",
     "text": [
      "2 milk\n",
      "2 cereal\n",
      "2 orange\n",
      "exit from the inner for loop\n",
      "5 milk\n",
      "5 cereal\n",
      "5 orange\n",
      "exit from the inner for loop\n",
      "exit from the outer loop\n"
     ]
    }
   ],
   "source": [
    "ids = [2, 5]\n",
    "items = [\"milk\", \"cereal\", \"orange\"]\n",
    "for i in ids:\n",
    "  for j in items:\n",
    "    print(i, j)\n",
    "  print(\"exit from the inner for loop\")\n",
    "print(\"exit from the outer loop\")"
   ]
  }
 ],
 "metadata": {
  "kernelspec": {
   "display_name": "Python 3",
   "language": "python",
   "name": "python3"
  },
  "language_info": {
   "codemirror_mode": {
    "name": "ipython",
    "version": 3
   },
   "file_extension": ".py",
   "mimetype": "text/x-python",
   "name": "python",
   "nbconvert_exporter": "python",
   "pygments_lexer": "ipython3",
   "version": "3.12.2"
  }
 },
 "nbformat": 4,
 "nbformat_minor": 2
}
