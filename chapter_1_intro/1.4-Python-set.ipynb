{
 "cells": [
  {
   "cell_type": "markdown",
   "metadata": {},
   "source": [
    "# 1.4 Python set\n",
    "We can use Set to store multiple items in a variable. A set is a collection that is unordered, unindexed, unchangeable, and does not allow duplicate values. Since Python Sets are unordered, we cannot be sure in which order the items will appear. This characteristic implies that Set items can appear in a different order every time we use them, and cannot be referred to by index or key. \n",
    "\n",
    "Sets are unchangeable, meaning that we cannot change the items after the set has been created. However, we can add new items once a set is created. Sets cannot have two items with the same value, where duplicate values will be ignored. \n",
    "\n",
    "Sets are written with curly brackets {}. \n",
    "\n",
    "\n",
    "## 1.4.1 Accessing items from a set\n",
    "The following shows the examples. Try it yourself by clicking the Run button above the console window:"
   ]
  },
  {
   "cell_type": "code",
   "execution_count": 1,
   "metadata": {},
   "outputs": [
    {
     "name": "stdout",
     "output_type": "stream",
     "text": [
      "{'milk', 'cereal', 'orange'}\n",
      "{'milk', 'cereal', 'orange'}\n"
     ]
    }
   ],
   "source": [
    "myset = {\"milk\", \"cereal\", \"orange\"}\n",
    "print(myset)\n",
    "myset = {\"milk\", \"cereal\", \"orange\", \"milk\"} # duplicate is not allowed\n",
    "print(myset)"
   ]
  },
  {
   "cell_type": "markdown",
   "metadata": {},
   "source": [
    "## 1.4.2 Data types of list items\n",
    "Set items can be of any data type. The following examples show a set can contain string, integer, and boolean data types, or a set can contain a combination of items with different data types."
   ]
  },
  {
   "cell_type": "code",
   "execution_count": 3,
   "metadata": {},
   "outputs": [
    {
     "name": "stdout",
     "output_type": "stream",
     "text": [
      "{'milk', 'cereal', 'orange'}\n",
      "{1, 5, 7}\n",
      "{False, True}\n",
      "{'Hi', True, 'milk', 9.5, 12}\n"
     ]
    }
   ],
   "source": [
    "myset1 = {\"milk\", \"cereal\", \"orange\"}\n",
    "myset2 = {1, 5, 7}\n",
    "myset3 = {True, False}\n",
    "myset4 = {\"milk\", 12, True, \"Hi\", 9.5}\n",
    "print(myset1)\n",
    "print(myset2)\n",
    "print(myset3)\n",
    "print(myset4)"
   ]
  },
  {
   "cell_type": "markdown",
   "metadata": {},
   "source": [
    "## 1.4.3 Methods for a Python set\n",
    "We can use Python built-in methods to manipulate a list and its items. The following presents the methods for a Python list:\n",
    "\n",
    "Method                         |Description   \n",
    "-------------------|--------\n",
    "add()                          |adds an item to a set\n",
    "update()                       |updates a set with the union with others\n",
    "clear()                        |removes all the items from a set\n",
    "copy()                         |returns a copy of the set\n",
    "discard()                      |remove the specified item\n",
    "pop()                          |removes an item from a set\n",
    "remove()                       |removes the specified item from a set\n",
    "difference()                   |returns a set containing the difference between two or more sets\n",
    "difference_update()            |removes the items in this set that are also included in another, specified set\n",
    "intersection()                 |returns a set, that is the intersection of two other sets\n",
    "intersection_update()          |removes the items in this set that are not present in other, specified set(s)\n",
    "isdisjoint()                   |returns if two sets are disjoint; (they do not have an intersection)\n",
    "issubset()                     |returns if a set exists in another set\n",
    "issuperset()                   |returns if a set contains another\n",
    "symmetric_difference()         |returns a set with the symmetric differences of two sets\n",
    "symmetric_difference_update()  |inserts the symmetric differences from a set and another\n",
    "union()                        |returns a set containing the union of sets\n",
    "\n",
    "After a set is created, we cannot change its items, but you can add new items. The following examples demonstrate how we can use add() and update() methods to add and update items into a set:"
   ]
  },
  {
   "cell_type": "code",
   "execution_count": 4,
   "metadata": {},
   "outputs": [
    {
     "name": "stdout",
     "output_type": "stream",
     "text": [
      "{'milk', 'juice', 'cereal', 'orange'}\n",
      "{'almond', 'milk', 'orange', 'juice', 'cereal', 'walnut', 'pecan'}\n",
      "{'bread', 'tea', 'coffee'}\n"
     ]
    }
   ],
   "source": [
    "myset = {\"milk\", \"cereal\", \"orange\"}\n",
    "myset.add(\"juice\")\n",
    "print(myset)\n",
    "nuts = {\"almond\", \"walnut\", \"pecan\"}\n",
    "myset.update(nuts)  # add items from nuts into myset\n",
    "print(myset)\n",
    "\n",
    "#update() method does not have to be a set, it can be any iterable object\n",
    "myset2 = {\"coffee\"}\n",
    "mylist = [\"tea\", \"bread\"]  # this is a list\n",
    "myset2.update(mylist)   # use update() to add list items into a set\n",
    "print(myset2)"
   ]
  },
  {
   "cell_type": "markdown",
   "metadata": {},
   "source": [
    "To remove items from a set, we use the methods of `remove()`, `pop()`, and `del` keyword. If an item to be removed does not exist in a set, `remove()` will raise an error. However, `discard()` will NOT raise an error if an item does not exist. We can also use the `pop()` method to remove an item, but this method will remove the first item. Since sets are unordered, therefore we will not know what item gets removed using the `pop()` method.  Try to Run the following codes to observe how the methods work:"
   ]
  },
  {
   "cell_type": "code",
   "execution_count": 6,
   "metadata": {},
   "outputs": [
    {
     "name": "stdout",
     "output_type": "stream",
     "text": [
      "{'bread', 'orange', 'milk', 'juice', 'coffee'}\n",
      "{'bread', 'orange', 'milk', 'juice', 'coffee'}\n",
      "{'orange', 'milk', 'juice', 'coffee'}\n",
      "set()\n"
     ]
    },
    {
     "ename": "NameError",
     "evalue": "name 'myset' is not defined",
     "output_type": "error",
     "traceback": [
      "\u001b[1;31m---------------------------------------------------------------------------\u001b[0m",
      "\u001b[1;31mNameError\u001b[0m                                 Traceback (most recent call last)",
      "Cell \u001b[1;32mIn[6], line 11\u001b[0m\n\u001b[0;32m      9\u001b[0m \u001b[38;5;28mprint\u001b[39m(myset)\n\u001b[0;32m     10\u001b[0m \u001b[38;5;28;01mdel\u001b[39;00m myset                 \u001b[38;5;66;03m# del keyword will delete the set completely\u001b[39;00m\n\u001b[1;32m---> 11\u001b[0m \u001b[38;5;28mprint\u001b[39m(\u001b[43mmyset\u001b[49m())            \u001b[38;5;66;03m# this will raise error because myset is deleted\u001b[39;00m\n",
      "\u001b[1;31mNameError\u001b[0m: name 'myset' is not defined"
     ]
    }
   ],
   "source": [
    "myset = {\"milk\", \"cereal\", \"orange\", \"juice\", \"bread\", \"coffee\"}\n",
    "myset.remove(\"cereal\")    # remove \"cereal\"\n",
    "print(myset)\n",
    "myset.discard(\"walnut\")   # remove \"walnut\" that does not exist\n",
    "print(myset)\n",
    "myset.pop()               # remove first item \n",
    "print(myset)              # does not follow the above order\n",
    "myset.clear()             # empties the set\n",
    "print(myset)\n",
    "del myset                 # del keyword will delete the set completely\n",
    "print(myset())            # this will raise error because myset is deleted"
   ]
  },
  {
   "cell_type": "markdown",
   "metadata": {},
   "source": [
    "We can apply several approaches to join two or more sets in Python. The `union()` method returns a new set containing all items from both sets that we use to join together, and the `update()` method inserts all the items from one set into another. Both `union()` and `update()` will exclude any duplicate items in a set, whereas the `intersection_update()` method will keep only the items that are present in both sets. Conversely, the `symmetric_difference_update()` method will keep only the items that do NOT exist in both sets.\n",
    "\n",
    "Try to Run the following codes to observe how the methods work:"
   ]
  },
  {
   "cell_type": "code",
   "execution_count": 7,
   "metadata": {},
   "outputs": [
    {
     "name": "stdout",
     "output_type": "stream",
     "text": [
      "{1, 'milk', 2, 'cereal'}\n",
      "{1, 'milk', 2, 'cereal'}\n",
      "{5}\n",
      "{9, 5, 'walnut'}\n",
      "{5}\n"
     ]
    }
   ],
   "source": [
    "a = {\"milk\", 2, \"cereal\"}\n",
    "b = {1, 2}\n",
    "c = {5}\n",
    "d = {\"walnut\", 5, 9}\n",
    "e = {\"walnut\", 9}\n",
    "myset = a.union(b)   # myset with all items from both sets\n",
    "print(myset)\n",
    "a.update(b)           # inserts the items of a into b\n",
    "print(a)\n",
    "c.intersection_update(d) # c will keep the items that exist in both sets\n",
    "print(c)\n",
    "print(d)\n",
    "d.symmetric_difference_update(e)  # keep items that are not in d and e\n",
    "print(d)"
   ]
  },
  {
   "cell_type": "markdown",
   "metadata": {},
   "source": [
    "We can use several methods to compare items in sets. The `intersection()` method will return a new set, that only contains the items that are present in both sets. The  `symmetric_difference()` method will return a new set, that contains only the items that do NOT exist in both sets.\n",
    "\n",
    "Try to Run the following codes to observe how the methods work:"
   ]
  },
  {
   "cell_type": "code",
   "execution_count": 8,
   "metadata": {},
   "outputs": [
    {
     "name": "stdout",
     "output_type": "stream",
     "text": [
      "{'milk'}\n",
      "{'orange', 'cereal', 'coffee', 'juice'}\n"
     ]
    }
   ],
   "source": [
    "a = {\"milk\", \"cereal\", \"orange\"}\n",
    "b = {\"juice\", \"milk\", \"coffee\"}\n",
    "c = a.intersection(b)      # c has the items that exist in both a and b\n",
    "print(c)\n",
    "d = a.symmetric_difference(b) # d has items that are not present in both sets\n",
    "print(d)"
   ]
  },
  {
   "cell_type": "markdown",
   "metadata": {},
   "source": [
    "To check if sets have an interaction or items of a set exist in another set, we use `isdisjoint()`, `issubset()`, and `issuperset()`. All these methods will return a boolean, i.e., `True` or `False`."
   ]
  },
  {
   "cell_type": "code",
   "execution_count": 10,
   "metadata": {},
   "outputs": [
    {
     "name": "stdout",
     "output_type": "stream",
     "text": [
      "False\n",
      "True\n",
      "False\n",
      "True\n",
      "False\n",
      "True\n"
     ]
    }
   ],
   "source": [
    "a = {\"milk\", \"cereal\", \"orange\"}\n",
    "b = {\"juice\", \"milk\", \"coffee\"}\n",
    "c = {\"milk\", \"orange\"}\n",
    "d = {\"walnut\"}\n",
    "print(a.isdisjoint(b))\n",
    "print(a.isdisjoint(d))\n",
    "print(b.issubset(a))\n",
    "print(c.issubset(a))\n",
    "print(a.issuperset(b))\n",
    "print(a.issuperset(c))"
   ]
  },
  {
   "cell_type": "markdown",
   "metadata": {},
   "source": [
    "## 1.4.4 Check if an item exists\n",
    "Without using a set's method, the following example shows how we can use if statement to determine if a specified item is present in a set using the in keyword:\n",
    "\n"
   ]
  },
  {
   "cell_type": "code",
   "execution_count": 12,
   "metadata": {},
   "outputs": [
    {
     "name": "stdout",
     "output_type": "stream",
     "text": [
      "Yes, 'cereal' is in the set\n"
     ]
    }
   ],
   "source": [
    "myset = {\"milk\", \"cereal\", \"orange\", \"beer\"}\n",
    "if \"cereal\" in myset:\n",
    "  print(\"Yes, 'cereal' is in the set\")"
   ]
  },
  {
   "cell_type": "markdown",
   "metadata": {},
   "source": [
    "## 1.4.5 Determining number of items in a set\n",
    "We can use len() to determine how many items a set has, use the len() function. Try the following examples and observe the results:"
   ]
  },
  {
   "cell_type": "code",
   "execution_count": 13,
   "metadata": {},
   "outputs": [
    {
     "name": "stdout",
     "output_type": "stream",
     "text": [
      "2\n"
     ]
    }
   ],
   "source": [
    "a = {\"milk\", \"cereal\"}           \n",
    "print(len(a))"
   ]
  }
 ],
 "metadata": {
  "kernelspec": {
   "display_name": "Python 3",
   "language": "python",
   "name": "python3"
  },
  "language_info": {
   "codemirror_mode": {
    "name": "ipython",
    "version": 3
   },
   "file_extension": ".py",
   "mimetype": "text/x-python",
   "name": "python",
   "nbconvert_exporter": "python",
   "pygments_lexer": "ipython3",
   "version": "3.12.2"
  }
 },
 "nbformat": 4,
 "nbformat_minor": 2
}
