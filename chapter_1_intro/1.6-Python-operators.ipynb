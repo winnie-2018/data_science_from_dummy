{
 "cells": [
  {
   "cell_type": "markdown",
   "metadata": {},
   "source": [
    "# 1.6 Python operators\n",
    "In this topic, we will learn to perform computations and create logical statements using Python’s operators: Arithmetic, Assignment, Comparison, Logical, Membership, and Identity.\n",
    "\n",
    "## 1.6.1 Arithmetic operators\n",
    "Python has several built-in operators used for performing operations on variables and values in code. The operators are:\n",
    "\n",
    "|Operator          |Usage      \n",
    "|--------------------------------|-\n",
    "|+               |Addition\n",
    "|-               |Substraction\n",
    "|*               |Multiplication\n",
    "|/               |Float division\n",
    "|//              |Integer division\n",
    "|**              |Exponentiation\n",
    "|%               |Modulus\n",
    "\n",
    "The first three arithmetic operators are self-explanatory. We will look at more explanations for the rest of the operators in the following.\n",
    "\n",
    "### 1.6.1.1 Float division\n",
    "The division operator `/` divides the given numbers and returns a floating-point number as the result. This means that the result will always return a fractional part, for example:"
   ]
  },
  {
   "cell_type": "code",
   "execution_count": 1,
   "metadata": {},
   "outputs": [
    {
     "data": {
      "text/plain": [
       "2.5"
      ]
     },
     "execution_count": 1,
     "metadata": {},
     "output_type": "execute_result"
    }
   ],
   "source": [
    "5/2 "
   ]
  },
  {
   "cell_type": "markdown",
   "metadata": {},
   "source": [
    "### 1.6.1.2 Division \n",
    "The division operator (//) is also called floor division rounds the result to the nearest whole number."
   ]
  },
  {
   "cell_type": "code",
   "execution_count": 3,
   "metadata": {},
   "outputs": [
    {
     "data": {
      "text/plain": [
       "5"
      ]
     },
     "execution_count": 3,
     "metadata": {},
     "output_type": "execute_result"
    }
   ],
   "source": [
    "17 // 3"
   ]
  },
  {
   "cell_type": "markdown",
   "metadata": {},
   "source": [
    "### 1.6.1.3 Exponential \n",
    "The exponential operator (**) will compute x raise to the power of a , which is: \n",
    ">$x^{a}$ \n",
    "\n",
    "2 ** 5  is the same as  2*2*2*2*2. And the result in both cases is 32. \n",
    ">$2^{5}$ = 32\n"
   ]
  },
  {
   "cell_type": "markdown",
   "metadata": {},
   "source": [
    "### 1.6.1.4 Modulus \n",
    "The modulus (%) is also called the remainder operator, and it returns the remainder after a division operation. "
   ]
  },
  {
   "cell_type": "code",
   "execution_count": 4,
   "metadata": {},
   "outputs": [
    {
     "data": {
      "text/plain": [
       "4"
      ]
     },
     "execution_count": 4,
     "metadata": {},
     "output_type": "execute_result"
    }
   ],
   "source": [
    "29 % 5"
   ]
  },
  {
   "cell_type": "markdown",
   "metadata": {},
   "source": [
    "## 1.6.2 Assignment operators\n",
    "Assignment operators are used to assign values to variables. The following table shows the assignment operators and their examples:\n",
    "\n",
    "|Operator                  |Example                 |Same As       \n",
    "---------------------------|------------------------|----------           \n",
    "|  =                       | x = 2                  | x = 2\n",
    "|  +=                      | x += 5                 | x = x + 5\n",
    "|  -=                      | x -= 5                 | x = x - 5\n",
    "|  *=                      | x *= 5                 | x = x * 5\n",
    "|  /=                      | x /= 5                 | x = x / 5\n",
    "|  %=                      | x %= 5                 | x = x % 5\n",
    "|  //=                     | x //= 5                | x = x // 5\n",
    "|  **=                     | x **= 5                | x = x ** 5\n",
    "\n",
    "You can click the following Run button to try some of the assignment operators' examples and observe the results: "
   ]
  },
  {
   "cell_type": "code",
   "execution_count": 5,
   "metadata": {},
   "outputs": [
    {
     "name": "stdout",
     "output_type": "stream",
     "text": [
      "14\n",
      "7.0\n",
      "2.0\n",
      "4.0\n"
     ]
    }
   ],
   "source": [
    "x = 7\n",
    "x *= 2\n",
    "print(x)\n",
    "x /= 2\n",
    "print(x)\n",
    "x %= 5\n",
    "print(x)\n",
    "x **= 2\n",
    "print(x)"
   ]
  },
  {
   "cell_type": "markdown",
   "metadata": {},
   "source": [
    "## 1.6.3 Comparison operators\n",
    "Comparison operators are used to comparing two values to return a Boolean value, i.e. True or False:\n",
    "\n",
    "|Operator          |Name                           |Example\n",
    "|------------------|-------------------------------|---------------\n",
    "|  ==              |Equal                          | a == b\n",
    "|  !=              |Not equal                      | a != b\n",
    "|  >               |Greater than                   | a > b\n",
    "|  <               |Less than                      | a < b\n",
    "|  >=              |Greater than or equal to       | a >= b\n",
    "|  <=              |Less than or equal to          | a <= b"
   ]
  },
  {
   "cell_type": "code",
   "execution_count": 6,
   "metadata": {},
   "outputs": [
    {
     "name": "stdout",
     "output_type": "stream",
     "text": [
      "False\n",
      "True\n",
      "True\n",
      "False\n",
      "False\n"
     ]
    }
   ],
   "source": [
    "a = 5\n",
    "b = 2\n",
    "print(a == b)\n",
    "print(a != b)\n",
    "print(a >= b)\n",
    "print(a < b)\n",
    "print(a <= b)"
   ]
  },
  {
   "cell_type": "markdown",
   "metadata": {},
   "source": [
    "## 1.6.4 Logical operators\n",
    "We can use Logical operators to combine conditional statements to return a Boolean value, i.e. True or False:\n",
    "\n",
    "|Operator  |Description                                               |Example\n",
    "|----------|----------------------------------------------------------|----------------\n",
    "|  and     |Returns True if both statements are true                  |a < 5 and b < 9\n",
    "|  or      |Returns True if one of the statements is true             |a < 5 or b < 7\n",
    "|  not     |Reverse the result, returns False if the result is true   |not(a < 5 or b < 9)"
   ]
  },
  {
   "cell_type": "code",
   "execution_count": 7,
   "metadata": {},
   "outputs": [
    {
     "name": "stdout",
     "output_type": "stream",
     "text": [
      "False\n",
      "True\n",
      "False\n"
     ]
    }
   ],
   "source": [
    "a = 5\n",
    "b = 2\n",
    "print(a < 5 and b < 9)\n",
    "print(a < 5 or b < 7)\n",
    "print(not(a < 5 or b < 9))"
   ]
  },
  {
   "cell_type": "markdown",
   "metadata": {},
   "source": [
    "## 1.6.5 Operators for strings using methods\n",
    "There is a typical pattern to all of the above examples for comparison and logical operators, where a condition is a Python \"test\" that yields either True or False. In the cases shown in the previous code example, the condition is always a logical, numerical comparison. However, we can also test various properties of words as strings, using the methods listed below:\n",
    "\n",
    "Method                 |Description\n",
    "-----------------------|------------------------\n",
    "s.startswith('x')      |test if s starts with x \n",
    "s.endswith('x')        |test if s ends with x\n",
    "s.islower()            |test if all cased characters in s are lowercase\n",
    "s.isupper()            |test if all cased characters in s are uppercase\n",
    "s.isalpha()            |test if all characters in s are alphabetic\n",
    "s.isalnum()            |test if all characters in s are alphanumeric\n",
    "s.isdigit()            |test if all characters in s are digits\n",
    "s.istitle()            |test if s is titlecased (all words in s have have initial capitals)\n",
    "\n",
    "NOTE: s represents a string variable defined for the examples"
   ]
  },
  {
   "cell_type": "code",
   "execution_count": 8,
   "metadata": {},
   "outputs": [
    {
     "name": "stdout",
     "output_type": "stream",
     "text": [
      "False\n",
      "True\n",
      "False\n",
      "False\n",
      "False\n"
     ]
    }
   ],
   "source": [
    "s = \"Hi, Python programming!\"\n",
    "print(s.startswith('h'))\n",
    "print(s.startswith('H'))\n",
    "print(s.islower())\n",
    "print(s.isalpha())  \n",
    "print(s.istitle())"
   ]
  },
  {
   "cell_type": "markdown",
   "metadata": {},
   "source": [
    "## 1.6.6 Identity operators\n",
    "We can use Identity operators to compare the objects, if they are equal or not the same object with the same memory location, to return a Boolean value, i.e. True or False:\n",
    "\n",
    "Operator     |Description                                               |Example\n",
    "-------------|----------------------------------------------------------|----------\n",
    " is          |Returns True if both variables are the same object        |a is b\n",
    " is not      |Returns True if both variables are not the same object    |a is not b"
   ]
  },
  {
   "cell_type": "code",
   "execution_count": 9,
   "metadata": {},
   "outputs": [
    {
     "name": "stdout",
     "output_type": "stream",
     "text": [
      "False\n",
      "True\n",
      "True\n"
     ]
    }
   ],
   "source": [
    "a = 5\n",
    "b = 2\n",
    "c = 'milk'\n",
    "d = \"milk\"\n",
    "print(a is b)\n",
    "print(a is not b)\n",
    "print(c is d)"
   ]
  },
  {
   "cell_type": "markdown",
   "metadata": {},
   "source": [
    "## 1.6.7 Membership operators\n",
    "Membership operators are used to test if a sequence is present in an object, to return a Boolean value, i.e. True or False. An object can be a list, tuple, dictionary, or set.\n",
    "\n",
    "Operator |Description                                                                        |Example\n",
    "---------|-----------------------------------------------------------------------------------|----------\n",
    " in      |Returns True if a sequence with the specified value exists in the object           |x in y\n",
    " not in  |Returns True if a sequence with the specified value does not exist in the object   |x not in y"
   ]
  },
  {
   "cell_type": "code",
   "execution_count": 10,
   "metadata": {},
   "outputs": [
    {
     "name": "stdout",
     "output_type": "stream",
     "text": [
      "True\n",
      "False\n",
      "True\n"
     ]
    }
   ],
   "source": [
    "a = {'milk','cereal','orange'}\n",
    "b = ['coffee','tea','juice','milk']\n",
    "c = 'milk'\n",
    "print(c in a)\n",
    "print (c not in a)\n",
    "print(c in b)"
   ]
  }
 ],
 "metadata": {
  "kernelspec": {
   "display_name": "Python 3",
   "language": "python",
   "name": "python3"
  },
  "language_info": {
   "codemirror_mode": {
    "name": "ipython",
    "version": 3
   },
   "file_extension": ".py",
   "mimetype": "text/x-python",
   "name": "python",
   "nbconvert_exporter": "python",
   "pygments_lexer": "ipython3",
   "version": "3.12.2"
  }
 },
 "nbformat": 4,
 "nbformat_minor": 2
}
