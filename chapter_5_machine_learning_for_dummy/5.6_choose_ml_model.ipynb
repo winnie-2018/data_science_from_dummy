{
 "cells": [
  {
   "cell_type": "markdown",
   "metadata": {},
   "source": [
    "# 5.6 Which machine learning model to choose?\n",
    "\n",
    "Although we focus on supervised learning, specifically `classification` problems, we provide here a general idea on how to choose a suitable machine learning algorithm for all kinds of problems.\n",
    "\n",
    "There are many machine learning algorithms available in the `scikit-learn` library and it is important to understand which algorithm to choose. Selecting a good model from a large number of possible machine learning models is one of the most difficult and trickiest tasks of machine learning. Some algorithms are better suited to different types of data and problems.\n",
    "\n",
    "To understand which algorithm to choose quickly and briefly, we can refer to the scikit-learn algorithm cheat-sheet at https://scikit-learn.org/stable/tutorial/machine_learning_map/index.html. It provides a rough guide on how to choose an algorithm. First, you ask, do we have more than 50 samples? Next, you keep on answering questions until you get an idea of what you should try.\n",
    "\n",
    "<img src=\"https://scikit-learn.org/stable/_static/ml_map.png\">\n",
    "\n",
    "Source: [scikit-learn algorithm cheat-sheet](https://scikit-learn.org/stable/tutorial/machine_learning_map/index.html) (scikit-learn, 2022)"
   ]
  },
  {
   "cell_type": "markdown",
   "metadata": {},
   "source": [
    "Apart from using the sheet, there are other issues to consider when choosing a model.\n",
    "\n",
    "- The first thing to consider is a problem tackled. For example, if you have a `supervised learning problem`, figuring out if you're trying to predict a `continuous` or `categorical` value can be an important first step.\n",
    "- Next, we consider the `size`, `quality` and `structure` of your data. No machine learning could take place without data.\n",
    "- Also, we should also consider the `advantages` and `limitations` of every algorithm we are considering. This is very important, as some algorithms take longer to make predictions. Also, more complex models are often more difficult to maintain.\n",
    "- Finally, we can also consider the `task urgency`. Some models take longer to train and tune.\n",
    "\n",
    "Indeed, based on the previous discussions and examples on different models for `classification`, it is up to you now to explore other models for `supervised learning` (including `classification` and `regression` models) and `unsupervised learning`. You can optimise your trained models to get better performance."
   ]
  }
 ],
 "metadata": {
  "language_info": {
   "name": "python"
  }
 },
 "nbformat": 4,
 "nbformat_minor": 2
}
