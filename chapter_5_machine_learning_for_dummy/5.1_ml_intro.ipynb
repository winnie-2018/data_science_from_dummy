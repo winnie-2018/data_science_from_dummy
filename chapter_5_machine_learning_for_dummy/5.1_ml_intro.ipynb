{
 "cells": [
  {
   "cell_type": "markdown",
   "metadata": {},
   "source": [
    "# 5.1 Introduction to machine learning libraries and packages\n",
    "\n",
    "The pandas library enables loading, examining, and cleaning data. However, the machine learning algorithms that enable doing predictive modelling are located in other packages. We explain some of these libraries next. \n",
    "\n",
    "## 1. Scikit-learn\n",
    "Scikit-learn is a machine learning library for Python that allows the implementation of several machine learning algorithms. For this reason, we focus on the scikit-learn library to develop skills in predictive modelling.  \n",
    "\n",
    "You can find more details on Scikit-learn in this link:  https://scikit-learn.org/stable/\n",
    "\n",
    "scikit-learn accommodates a wide range of classic approaches for classification, regression, and unsupervised learning. However, it does not offer much functionality for some more recent advancements, such as deep learning.\n",
    "\n",
    "## 2. SciPy \n",
    "Most of the libraries we've used so far, such as NumPy and pandas, are actually part of the SciPy ecosystem. SciPy offers lightweight functions for classic methods such as linear regression and linear programming.\n",
    "\n",
    "You can find more details on SciPy in the following link: https://scipy.org/\n",
    "\n",
    "## 3. statsmodels\n",
    "statsmodels is a Python module that provides classes and functions for the estimation of many different statistical models, as well as for conducting statistical tests, and statistical data exploration. An extensive list of result statistics are available for each estimator. The results are tested against existing statistical packages to ensure that they are correct.\n",
    "\n",
    "You can find more details on SciPy in the following link: https://www.statsmodels.org/stable/index.html\n",
    "\n",
    "## 4. Others: TensorFlow, Keras, PyTorch\n",
    "These libraries provide deep learning capabilities. \n",
    "More details on TensorFlow is in this link: https://www.tensorflow.org/\n",
    "More details on Keras is in this link: https://keras.io/\n",
    "More details on PyTorch is in this link: https://pytorch.org/\n",
    "\n",
    "\n",
    "## Note\n",
    "There are many other Python packages that may come in handy, but this gives you an idea of what's out there.\n",
    "\n",
    "Scikit-learn offers a wealth of different models for various tasks, but, conveniently, the syntax for using them is consistent. In this lecture, we will illustrate model syntax using several machine learning models: \n",
    "- logistic regression model. \n",
    "- Decision Tree model.\n",
    "- Random Forest."
   ]
  }
 ],
 "metadata": {
  "kernelspec": {
   "display_name": "Python 3",
   "language": "python",
   "name": "python3"
  },
  "language_info": {
   "codemirror_mode": {
    "name": "ipython",
    "version": 3
   },
   "file_extension": ".py",
   "mimetype": "text/x-python",
   "name": "python",
   "nbconvert_exporter": "python",
   "pygments_lexer": "ipython3",
   "version": "3.12.2"
  }
 },
 "nbformat": 4,
 "nbformat_minor": 2
}
