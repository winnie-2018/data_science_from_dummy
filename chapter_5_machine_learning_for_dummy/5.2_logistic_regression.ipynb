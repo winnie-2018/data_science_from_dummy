{
 "cells": [
  {
   "cell_type": "markdown",
   "metadata": {},
   "source": [
    "# 5.2 Logistic Regression\n",
    "\n",
    "### What is logistic regression?\n",
    "Logistic regression is a classification model. This is one of the simplest, and therefore most important, classification models. \n",
    "\n",
    "Logistic regression is a method of statistical analysis to predict a binary outcome (e.g., yes or no), which categorises data into discrete categories by examining the relationship from a given set of labeled data.\n",
    "\n",
    "- Predicting if a transaction is fraud/not fraud based on some input features (e.g. transaction time and amount). \n",
    "- Predicting if a person has heart disease or not based on input features (e.g. age, gender). \n",
    "\n",
    "Logistic regression is based on the sigmoid function where output is probability and input can be (from -∞ to +∞).\n",
    "\n",
    "In this subject, we will not go through mathematical details of how logistic regression works. You can simply think of it as a black box that can learn from labeled data, then make predictions.\n",
    "\n",
    "### Advantages of logistic regression\n",
    "\n",
    "- Logistic regression is easy to implement, interpret, and efficient to train.\n",
    "- It can easily extend to multiple classes(multinomial regression)  \n",
    "- It does not only provide a measure of how appropriate a predictor(coefficient size) is, but also its direction of association (positive or negative).\n",
    "- It can interpret model coefficients as indicators of feature importance.\n",
    "- It is rapid at classifying unknown records.\n",
    "- Good accuracy for many simple data sets.\n",
    "\n",
    "### Disadvantages of logistic regression \n",
    "\n",
    "- It assumes linearity between the dependent variable and the independent variables. However, linearly separable data is rarely found in real-world scenarios.\n",
    "- It can only be used to predict discrete functions.\n",
    "- If the number of observations is lesser than the number of features, Logistic Regression should not be used, otherwise, it may lead to overfitting."
   ]
  }
 ],
 "metadata": {
  "language_info": {
   "name": "python"
  }
 },
 "nbformat": 4,
 "nbformat_minor": 2
}
