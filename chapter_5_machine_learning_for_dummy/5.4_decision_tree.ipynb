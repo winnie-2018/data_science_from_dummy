{
 "cells": [
  {
   "cell_type": "markdown",
   "metadata": {},
   "source": [
    "# 5.4 Decision tree\n",
    "\n",
    "**What is a decision tree?**\n",
    "\n",
    "A decision tree builds classification or regression models in the form of a tree structure. It breaks down a dataset into smaller and smaller subsets while at the same time an associated decision tree is incrementally developed\n",
    "\n",
    "A decision Tree consists of :\n",
    "- Nodes: Test for the value of a certain attribute.\n",
    "- Edges/ branch: Correspond to the outcome of a test and connect to the next node or leaf.\n",
    "- Leaf nodes: Terminal nodes that predict the outcome (represent class labels or class distribution).\n",
    "\n",
    "![Decison Tres](Decision-Trees.png)\n",
    "\n",
    "Source: [F M Javed Mehedi Shamrat]([url_here](https://www.researchgate.net/figure/Sample-of-the-process-of-Decision-Trees_fig4_338924601))\n"
   ]
  },
  {
   "cell_type": "markdown",
   "metadata": {},
   "source": [
    "**Advantages of decision trees**\n",
    "\n",
    "- Simple to understand. This is because it uses a white-box model. If a given situation is observable in a model, the explanation for the condition is easily explained by Boolean logic. By contrast, in a black-box model (e.g., in an artificial neural network), results may be more difficult to interpret.\n",
    "- The data pre-processing step for decision trees requires less code and analysis.\n",
    "- When using the Decision tree algorithm, it is not necessary to normalise or scale the data.\n",
    "- When using the Decision tree algorithm it is not necessary to impute the missing values.\n",
    "- Able to handle both numerical and categorical data. "
   ]
  },
  {
   "cell_type": "markdown",
   "metadata": {},
   "source": [
    "**Disadvantages of decision trees**\n",
    "\n",
    "- The space and time complexity of decision trees is relatively higher.\n",
    "- Over-complex trees do not generalise the data well. This is called overfitting.\n",
    "- The decision tree model is highly sensitive as small changes in the data can change result in the tree structure.\n",
    "- Applying decision trees depends on the greedy algorithm where locally optimal decisions are made at each node. Such algorithms cannot guarantee to return a global optimal decision tree.\n",
    "- Decision tree learners create biased trees if some classes dominate. It is recommended to balance the dataset prior to fitting with the decision tree."
   ]
  }
 ],
 "metadata": {
  "language_info": {
   "name": "python"
  }
 },
 "nbformat": 4,
 "nbformat_minor": 2
}
