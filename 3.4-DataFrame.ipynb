{
 "cells": [
  {
   "cell_type": "markdown",
   "metadata": {},
   "source": [
    "# 3.4 DataFrame \n",
    "`DataFrame` is a data structure provided by pandas to store 2-dimensional labeled data that can be conceptually viewed as a table with rows and columns.\n",
    "\n",
    "- **From `dict` of lists**\n",
    "\n",
    "`DataFrame` can be created from a `dict` of `lists`. The keys in the `dict` are used as the label of the columns in the `DataFrame`. All lists should have the same size."
   ]
  },
  {
   "cell_type": "code",
   "execution_count": 1,
   "metadata": {},
   "outputs": [
    {
     "name": "stdout",
     "output_type": "stream",
     "text": [
      "   A  B\n",
      "0  1  a\n",
      "1  2  b\n",
      "2  3  c\n",
      "3  4  d\n",
      "4  5  e\n",
      "5  6  f\n"
     ]
    }
   ],
   "source": [
    "import pandas as pd\n",
    "\n",
    "d = {\n",
    "    \"A\": [1,2,3,4,5,6],\n",
    "    \"B\": ['a','b','c','d','e','f']\n",
    "}\n",
    "df = pd.DataFrame(d)\n",
    "print(df)"
   ]
  },
  {
   "cell_type": "markdown",
   "metadata": {},
   "source": [
    "By default, each row will be labelled with their integer positions. However this can be defined by providing the input argument index to `DataFrame`. "
   ]
  },
  {
   "cell_type": "code",
   "execution_count": 2,
   "metadata": {},
   "outputs": [
    {
     "name": "stdout",
     "output_type": "stream",
     "text": [
      "     A  B\n",
      "I    1  a\n",
      "II   2  b\n",
      "III  3  c\n",
      "IV   4  d\n",
      "V    5  e\n",
      "VI   6  f\n"
     ]
    }
   ],
   "source": [
    "import pandas as pd\n",
    "\n",
    "d = {\n",
    "    \"A\": [1,2,3,4,5,6],\n",
    "    \"B\": ['a','b','c','d','e','f']\n",
    "}\n",
    "df = pd.DataFrame(d, index=['I','II','III','IV','V','VI'])\n",
    "print(df)"
   ]
  },
  {
   "cell_type": "markdown",
   "metadata": {},
   "source": [
    "`dict` of `ndarray` can also be used with similar syntax to create a `DataFrame`.\n",
    "\n"
   ]
  },
  {
   "cell_type": "code",
   "execution_count": 3,
   "metadata": {},
   "outputs": [
    {
     "name": "stdout",
     "output_type": "stream",
     "text": [
      "     A  B\n",
      "I    1  a\n",
      "II   2  b\n",
      "III  3  c\n",
      "IV   4  d\n",
      "V    5  e\n",
      "VI   6  f\n"
     ]
    }
   ],
   "source": [
    "import pandas as pd\n",
    "import numpy as np\n",
    "d = {\n",
    "    \"A\": np.array([1,2,3,4,5,6]),\n",
    "    \"B\": np.array(['a','b','c','d','e','f'])\n",
    "}\n",
    "df = pd.DataFrame(d, index=['I','II','III','IV','V','VI'])\n",
    "print(df)"
   ]
  },
  {
   "cell_type": "markdown",
   "metadata": {},
   "source": [
    "- **From `dict` of Series**\n",
    "  \n",
    "`DataFrame` can also be created from a `dict` of `Series`. The main thing of a `Series` and a `list` is that `Series` is labeled, meaning each item of a Series is labelled with an index. Therefore when we pass a `dict` of `Series` to create a `DataFrame`, the items with same label/index are placed in the same row. The labels of the rows follow the label in the Series whereas the labels of the columns follow the key of the `dict`."
   ]
  },
  {
   "cell_type": "code",
   "execution_count": 4,
   "metadata": {},
   "outputs": [
    {
     "name": "stdout",
     "output_type": "stream",
     "text": [
      "       A    B\n",
      "I    1.0    a\n",
      "II   2.0    b\n",
      "III  3.0    c\n",
      "IV   4.0    d\n",
      "V    5.0    e\n",
      "VI   6.0  NaN\n",
      "VII  NaN    f\n"
     ]
    }
   ],
   "source": [
    "import pandas as pd\n",
    "d = {\n",
    "    \"A\": pd.Series([1,2,3,4,5,6], index=['I','II','III','IV','V','VI']),\n",
    "    \"B\": pd.Series(['a','b','c','d','e','f'], index=['I','II','III','IV','V','VII'])\n",
    "}\n",
    "df = pd.DataFrame(d)\n",
    "print(df)"
   ]
  },
  {
   "cell_type": "markdown",
   "metadata": {},
   "source": [
    "If one `Series` contains a label not exist in the other `Series`, it will be filled with `NaN` (not-a-number). Note that in this case we did not pass the input argument index to DataFrame. Therefore all labels from all the `Series` are used to create the labels for the `DataFrame`. This can be observed in the previous code snippet. `d[\"A\"]` has `index VI` but not `VII` whereas `d[\"B\"]` does not have index `VI` but `VII`. The created df has indices of `I`, `II`, `III`, `IV`, `V`, `VI`, `VII` with `NaN` in column `A` row `VII` and column `B` row `VI`.\n",
    "\n",
    "The created `DataFrame` will only contain labels specified by the index."
   ]
  },
  {
   "cell_type": "code",
   "execution_count": 5,
   "metadata": {},
   "outputs": [
    {
     "name": "stdout",
     "output_type": "stream",
     "text": [
      "    A  B\n",
      "I   1  a\n",
      "II  2  b\n",
      "IV  4  d\n"
     ]
    }
   ],
   "source": [
    "import pandas as pd\n",
    "d = {\n",
    "    \"A\": pd.Series([1,2,3,4,5,6], index=['I','II','III','IV','V','VI']),\n",
    "    \"B\": pd.Series(['a','b','c','d','e','f'], index=['I','II','III','IV','V','VII'])\n",
    "}\n",
    "df = pd.DataFrame(d, index=['I','II','IV'])\n",
    "print(df)"
   ]
  },
  {
   "cell_type": "markdown",
   "metadata": {},
   "source": [
    "- **From `list` of `dict`**\n",
    "\n",
    "`DataFrame` can be created form a `list` of `dict`. Each `dict` is considered as a row in the `DataFrame`, and the keys in each dict are the labels of the columns in the `DataFrame`.\n",
    "\n",
    "The labels of the rows can be specified with the index argument in `DataFrame`."
   ]
  },
  {
   "cell_type": "code",
   "execution_count": 6,
   "metadata": {},
   "outputs": [
    {
     "name": "stdout",
     "output_type": "stream",
     "text": [
      "   a  b    c\n",
      "0  1  2  3.0\n",
      "1  5  4  NaN\n"
     ]
    }
   ],
   "source": [
    "import pandas as pd\n",
    "d = [\n",
    "    {'a':1, 'b':2, 'c':3},\n",
    "    {'a':5, 'b':4}\n",
    "]\n",
    "df = pd.DataFrame(d)\n",
    "print(df)"
   ]
  },
  {
   "cell_type": "markdown",
   "metadata": {},
   "source": [
    "- **From `dict` of `dict`**\n",
    "\n",
    "`DataFrame` can also be created with a `dict` of `dict`. The keys of the external `dict` are used for the labels of the column (just like in the `dict` of `lists`) and the keys of the internal `dict` are used for the labels of the rows (just like in the `list` of `dict`)."
   ]
  },
  {
   "cell_type": "code",
   "execution_count": 7,
   "metadata": {},
   "outputs": [
    {
     "name": "stdout",
     "output_type": "stream",
     "text": [
      "   a  b  c  d\n",
      "x  1  3  5  7\n",
      "y  2  4  6  8\n"
     ]
    }
   ],
   "source": [
    "import pandas as pd\n",
    "d = {\n",
    "    'a': { 'x': 1, 'y': 2 },\n",
    "    'b': { 'x': 3, 'y': 4 },\n",
    "    'c': { 'x': 5, 'y': 6 },\n",
    "    'd': { 'x': 7, 'y': 8 }\n",
    "}\n",
    "df = pd.DataFrame(d)\n",
    "print(df)"
   ]
  },
  {
   "cell_type": "markdown",
   "metadata": {},
   "source": [
    "- **MultiIndexed DataFrame**\n",
    "\n",
    "MultiIndexed `DataFrame` is a type of `DataFrame` where we have multiple level of indexing. For example, for the labels of the columns, we can have `a`, `b`, `c` under the group of `A`, and also `a`, `b`, `c` under the group of `B`. Let's go for an example before this is getting more confusing. "
   ]
  },
  {
   "cell_type": "code",
   "execution_count": 8,
   "metadata": {},
   "outputs": [
    {
     "name": "stdout",
     "output_type": "stream",
     "text": [
      "       A              B\n",
      "       a    b    c    a\n",
      "X x  1.0  3.0  5.0  NaN\n",
      "  y  2.0  4.0  6.0  NaN\n",
      "  z  NaN  NaN  NaN  7.0\n",
      "Y x  NaN  NaN  NaN  8.0\n"
     ]
    }
   ],
   "source": [
    "import pandas as pd\n",
    "d = {\n",
    "    ('A', 'a'): { ('X', 'x'): 1, ('X', 'y'): 2 },\n",
    "    ('A', 'b'): { ('X', 'x'): 3, ('X', 'y'): 4 },\n",
    "    ('A', 'c'): { ('X', 'x'): 5, ('X', 'y'): 6 },\n",
    "    ('B', 'a'): { ('X', 'z'): 7, ('Y', 'x'): 8 }\n",
    "}\n",
    "df = pd.DataFrame(d)\n",
    "print(df)"
   ]
  },
  {
   "cell_type": "markdown",
   "metadata": {},
   "source": [
    "As the `DataFrame` is created with a `dict` of `dict`, the keys of the external dict are used as the columns whereas the keys of the internal `dict` are used as the rows."
   ]
  },
  {
   "cell_type": "markdown",
   "metadata": {},
   "source": [
    "## 3.4.1 Details of a DataFrame\n",
    "When we have a huge `DataFrame`, i.e with many rows and many columns, print a `DataFrame` will not show all the data. Therefore pandas has provided some methods to DataFrame to access and investigate some details of the DataFrame. "
   ]
  },
  {
   "cell_type": "markdown",
   "metadata": {},
   "source": [
    "**Inspect a sample of the DataFrame**\n",
    "\n",
    "We can use `.head` and `.tail` to inspect the first and last few samples of the `DataFrame`. By default, calling the method without any input argument will give the first 5 or the last 5 samples. The number of sample to be shown can be specified as the input argument for the methods."
   ]
  },
  {
   "cell_type": "code",
   "execution_count": 9,
   "metadata": {},
   "outputs": [
    {
     "name": "stdout",
     "output_type": "stream",
     "text": [
      "            a         b\n",
      "0    0.960176  0.434210\n",
      "1    0.444111  0.274507\n",
      "2    0.831334  0.395826\n",
      "3    0.970086  0.506639\n",
      "4    0.789747  0.902416\n",
      "..        ...       ...\n",
      "495  0.071509  0.860431\n",
      "496  0.402562  0.623391\n",
      "497  0.595817  0.083011\n",
      "498  0.416127  0.733303\n",
      "499  0.813301  0.617727\n",
      "\n",
      "[500 rows x 2 columns]\n",
      "          a         b\n",
      "0  0.960176  0.434210\n",
      "1  0.444111  0.274507\n",
      "2  0.831334  0.395826\n",
      "3  0.970086  0.506639\n",
      "4  0.789747  0.902416\n",
      "            a         b\n",
      "497  0.595817  0.083011\n",
      "498  0.416127  0.733303\n",
      "499  0.813301  0.617727\n"
     ]
    }
   ],
   "source": [
    "import pandas as pd\n",
    "import numpy as np\n",
    "df = pd.DataFrame({\n",
    "    \"a\": np.random.random(500),\n",
    "    \"b\": np.random.random(500)\n",
    "})\n",
    "print(df)\n",
    "print(df.head())\n",
    "print(df.tail(3))"
   ]
  },
  {
   "cell_type": "markdown",
   "metadata": {},
   "source": [
    "**Metadata**\n",
    "\n",
    "`pandas` provided a number of functions to facilitate accessing and managing a `DataFrame`. These include\n",
    "\n",
    "- `.shape`: the shape of the `DataFrame` in (row, column),\n",
    "- `.size`: the total number of elements in the `DataFrame`,\n",
    "- `.columns`: the column names of the `DataFrame`,\n",
    "- `.index`: the row labels of the `DataFrame`,\n",
    "- `.dtypes`: the data types of each column."
   ]
  },
  {
   "cell_type": "code",
   "execution_count": 10,
   "metadata": {},
   "outputs": [
    {
     "name": "stdout",
     "output_type": "stream",
     "text": [
      "(500, 2)\n",
      "1000\n",
      "Index(['a', 'b'], dtype='object')\n",
      "RangeIndex(start=0, stop=500, step=1)\n",
      "a    float64\n",
      "b    float64\n",
      "dtype: object\n"
     ]
    }
   ],
   "source": [
    "import pandas as pd\n",
    "import numpy as np\n",
    "df = pd.DataFrame({\n",
    "    \"a\": np.random.random(500),\n",
    "    \"b\": np.random.random(500)\n",
    "})\n",
    "print(df.shape)\n",
    "print(df.size)\n",
    "print(df.columns)\n",
    "print(df.index)\n",
    "print(df.dtypes)"
   ]
  },
  {
   "cell_type": "markdown",
   "metadata": {},
   "source": [
    "## 3.4.2 Columns manipulation\n",
    "### 3.4.2.1 Access a column\n",
    "In a `DataFrame`, columns can be accessed by treating the DataFrame as a `dict` and the column names as the keys of the `dict`.\n",
    "\n",
    "Each column of the `DataFrame` is a `Series` object. "
   ]
  },
  {
   "cell_type": "code",
   "execution_count": null,
   "metadata": {},
   "outputs": [],
   "source": [
    "import pandas as pd\n",
    "import numpy as np\n",
    "df = pd.DataFrame({\n",
    "    'a': np.random.random(500),\n",
    "    'b': np.random.random(500)\n",
    "})\n",
    "print(df['a'])\n",
    "print(type(df['a']))"
   ]
  },
  {
   "cell_type": "markdown",
   "metadata": {},
   "source": [
    "### 3.4.2.2 Add a new column\n",
    "A new column can be added easily to a `DataFrame`. The syntax of adding a new column is similar to adding a list to a `dict`."
   ]
  },
  {
   "cell_type": "code",
   "execution_count": 11,
   "metadata": {},
   "outputs": [
    {
     "name": "stdout",
     "output_type": "stream",
     "text": [
      "Index(['a', 'b'], dtype='object')\n",
      "Index(['a', 'b', 'c'], dtype='object')\n"
     ]
    }
   ],
   "source": [
    "import pandas as pd\n",
    "import numpy as np\n",
    "df = pd.DataFrame({\n",
    "    'a': np.random.random(500),\n",
    "    'b': np.random.random(500)\n",
    "})\n",
    "print(df.columns)\n",
    "\n",
    "df['c'] = np.random.random(500)\n",
    "print(df.columns)"
   ]
  },
  {
   "cell_type": "markdown",
   "metadata": {},
   "source": [
    "New column can also be created as an operation of other existing columns."
   ]
  },
  {
   "cell_type": "code",
   "execution_count": 12,
   "metadata": {},
   "outputs": [
    {
     "name": "stdout",
     "output_type": "stream",
     "text": [
      "Index(['a', 'b'], dtype='object')\n",
      "Index(['a', 'b', 'c'], dtype='object')\n",
      "          a         b         c\n",
      "0  0.103171  0.267172  0.370343\n",
      "1  0.991207  0.501179  1.492385\n",
      "2  0.150430  0.242248  0.392678\n",
      "3  0.723826  0.715942  1.439768\n",
      "4  0.555700  0.491119  1.046819\n"
     ]
    }
   ],
   "source": [
    "import pandas as pd\n",
    "import numpy as np\n",
    "df = pd.DataFrame({\n",
    "    'a': np.random.random(500),\n",
    "    'b': np.random.random(500)\n",
    "})\n",
    "print(df.columns)\n",
    "\n",
    "df['c'] = df['a'] + df['b']\n",
    "print(df.columns)\n",
    "print(df.head())"
   ]
  },
  {
   "cell_type": "markdown",
   "metadata": {},
   "source": [
    "\n",
    "If we want to create a new column populated with the same value, we can directly assign the scalar value to the column."
   ]
  },
  {
   "cell_type": "code",
   "execution_count": 13,
   "metadata": {},
   "outputs": [
    {
     "name": "stdout",
     "output_type": "stream",
     "text": [
      "          a         b  c\n",
      "0  0.621371  0.180713  5\n",
      "1  0.453127  0.453354  5\n",
      "2  0.507031  0.377923  5\n",
      "3  0.505304  0.024074  5\n",
      "4  0.196009  0.665105  5\n"
     ]
    }
   ],
   "source": [
    "import pandas as pd\n",
    "import numpy as np\n",
    "df = pd.DataFrame({\n",
    "    'a': np.random.random(500),\n",
    "    'b': np.random.random(500)\n",
    "})\n",
    "df['c'] = 5\n",
    "print(df.head())"
   ]
  },
  {
   "cell_type": "markdown",
   "metadata": {},
   "source": [
    "There are also situations where we do not want to modify the DataFrame inplace, but to add a column to create a copy of the current `DataFrame`. This can be achieved with `.assign(...)`. We will pass the column name of the new column as the input argument and the values to be assigned to the column as the values of that input argument. For example, if we were to add column `c` with random values, we would use `df.assign(c = np.random.random(500))`. This creates a copy of the current DataFrame and leave the original `DataFrame` untouched. Modifying the new `DataFrame` will not affect the original `DataFrame` too."
   ]
  },
  {
   "cell_type": "code",
   "execution_count": 14,
   "metadata": {},
   "outputs": [
    {
     "name": "stdout",
     "output_type": "stream",
     "text": [
      "          a         b\n",
      "0  0.686095  0.388992\n",
      "1  0.837058  0.561569\n",
      "2  0.962085  0.423793\n",
      "3  0.714289  0.773644\n",
      "4  0.921786  0.055345\n",
      "          a         b         c\n",
      "0  0.686095  0.388992  0.109178\n",
      "1  0.837058  0.561569  0.163869\n",
      "2  0.962085  0.423793  0.623563\n",
      "3  0.714289  0.773644  0.540113\n",
      "4  0.921786  0.055345  0.073329\n"
     ]
    }
   ],
   "source": [
    "import pandas as pd\n",
    "import numpy as np\n",
    "df = pd.DataFrame({\n",
    "    'a': np.random.random(500),\n",
    "    'b': np.random.random(500)\n",
    "})\n",
    "df2 = df.assign(c=np.random.random(500))\n",
    "print(df.head())\n",
    "print(df2.head())"
   ]
  },
  {
   "cell_type": "markdown",
   "metadata": {},
   "source": [
    "### 3.4.2.3 Modify the values of a column\n",
    "The values of a column can be modified by using the same syntax as adding a new column to a `DataFrame`. This applies to `.assign` too. If the new column name provided exists in the `DataFrame`, no column will be created but the existing column is replaced."
   ]
  },
  {
   "cell_type": "code",
   "execution_count": 15,
   "metadata": {},
   "outputs": [
    {
     "name": "stdout",
     "output_type": "stream",
     "text": [
      "          a         b\n",
      "0  0.776931  0.973798\n",
      "1  0.135711  0.749131\n",
      "2  0.494551  0.465076\n",
      "3  0.632927  0.342958\n",
      "4  0.630202  0.160836\n",
      "   a         b\n",
      "0  5  0.973798\n",
      "1  5  0.749131\n",
      "2  5  0.465076\n",
      "3  5  0.342958\n",
      "4  5  0.160836\n",
      "   a         b\n",
      "0  2  0.973798\n",
      "1  2  0.749131\n",
      "2  2  0.465076\n",
      "3  2  0.342958\n",
      "4  2  0.160836\n"
     ]
    }
   ],
   "source": [
    "import pandas as pd\n",
    "import numpy as np\n",
    "df = pd.DataFrame({\n",
    "    'a': np.random.random(500),\n",
    "    'b': np.random.random(500)\n",
    "})\n",
    "print(df.head())\n",
    "df['a'] = 5\n",
    "print(df.head())\n",
    "df2 = df.assign(a=2)\n",
    "print(df2.head())"
   ]
  },
  {
   "cell_type": "markdown",
   "metadata": {},
   "source": [
    "### 3.4.2.4 Insert a column\n",
    "By default the new columns are added to the end of the `DataFrame`. However we can insert a column based on the position using `.insert` with the syntax of `.insert(IndexToInsertInto, ColumnName, ColumnValues)`."
   ]
  },
  {
   "cell_type": "code",
   "execution_count": 16,
   "metadata": {},
   "outputs": [
    {
     "name": "stdout",
     "output_type": "stream",
     "text": [
      "          a         b\n",
      "0  0.181126  0.824040\n",
      "1  0.857533  0.376251\n",
      "2  0.090457  0.720562\n",
      "3  0.081715  0.971133\n",
      "4  0.456712  0.031960\n",
      "          a         c         b\n",
      "0  0.181126  0.343045  0.824040\n",
      "1  0.857533  0.196935  0.376251\n",
      "2  0.090457  0.372063  0.720562\n",
      "3  0.081715  0.116580  0.971133\n",
      "4  0.456712  0.220407  0.031960\n"
     ]
    }
   ],
   "source": [
    "import pandas as pd\n",
    "import numpy as np\n",
    "df = pd.DataFrame({\n",
    "    'a': np.random.random(500),\n",
    "    'b': np.random.random(500)\n",
    "})\n",
    "print(df.head())\n",
    "df.insert(1,\"c\",np.random.random(500))\n",
    "print(df.head())"
   ]
  },
  {
   "cell_type": "markdown",
   "metadata": {},
   "source": [
    "### 3.4.2.5 Delete a column\n",
    "A column in a `DataFrame` can be deleted using either `del` or `.pop` as how it can be done in a `dict`."
   ]
  },
  {
   "cell_type": "code",
   "execution_count": 17,
   "metadata": {},
   "outputs": [
    {
     "name": "stdout",
     "output_type": "stream",
     "text": [
      "df\n",
      "          a         b         c\n",
      "0  0.873564  0.746882  0.152166\n",
      "1  0.740629  0.629259  0.097803\n",
      "2  0.902456  0.251619  0.204443\n",
      "3  0.109453  0.932686  0.449789\n",
      "4  0.468472  0.595999  0.106902\n",
      "\n",
      "df without a\n",
      "          b         c\n",
      "0  0.746882  0.152166\n",
      "1  0.629259  0.097803\n",
      "2  0.251619  0.204443\n",
      "3  0.932686  0.449789\n",
      "4  0.595999  0.106902\n",
      "\n",
      "df without a and b\n",
      "          c\n",
      "0  0.152166\n",
      "1  0.097803\n",
      "2  0.204443\n",
      "3  0.449789\n",
      "4  0.106902\n",
      "\n",
      "b only\n",
      "0    0.746882\n",
      "1    0.629259\n",
      "2    0.251619\n",
      "3    0.932686\n",
      "4    0.595999\n",
      "Name: b, dtype: float64\n"
     ]
    }
   ],
   "source": [
    "import pandas as pd\n",
    "import numpy as np\n",
    "df = pd.DataFrame({\n",
    "    'a': np.random.random(500),\n",
    "    'b': np.random.random(500),\n",
    "    'c': np.random.random(500)\n",
    "})\n",
    "print(\"df\")\n",
    "print(df.head())\n",
    "\n",
    "del df['a']\n",
    "print(\"\\ndf without a\")\n",
    "print(df.head())\n",
    "\n",
    "b = df.pop('b')\n",
    "print(\"\\ndf without a and b\")\n",
    "print(df.head())\n",
    "\n",
    "print(\"\\nb only\")\n",
    "print(b.head())"
   ]
  },
  {
   "cell_type": "markdown",
   "metadata": {},
   "source": [
    "## 3.4.3 Indexing and slicing DataFrame\n",
    "The indexing and slicing methods for a `Series` apply similarly to a `DataFrame`. To summarise, we can use square brackets `[]`, `.loc`, and `.iloc` to access the data in a `DataFrame`.\n",
    "\n",
    "### 3.4.3.1 Using square brackets []\n",
    "- A label/column name\n",
    "\n",
    "Using a square bracket directly with a label or column name allows us to access a column."
   ]
  },
  {
   "cell_type": "code",
   "execution_count": 18,
   "metadata": {},
   "outputs": [
    {
     "name": "stdout",
     "output_type": "stream",
     "text": [
      "0    0.987829\n",
      "1    0.818976\n",
      "2    0.185146\n",
      "3    0.272635\n",
      "4    0.521882\n",
      "5    0.224682\n",
      "6    0.567891\n",
      "7    0.442619\n",
      "8    0.123388\n",
      "9    0.730673\n",
      "Name: a, dtype: float64\n"
     ]
    }
   ],
   "source": [
    "import pandas as pd\n",
    "import numpy as np\n",
    "df = pd.DataFrame({\n",
    "    'a': np.random.random(10),\n",
    "    'b': np.random.random(10)\n",
    "})\n",
    "print(df['a'])"
   ]
  },
  {
   "cell_type": "markdown",
   "metadata": {},
   "source": [
    "- A list of labels\n",
    "\n",
    "If we pass a list of labels, we are able to access multiple columns."
   ]
  },
  {
   "cell_type": "code",
   "execution_count": 19,
   "metadata": {},
   "outputs": [
    {
     "name": "stdout",
     "output_type": "stream",
     "text": [
      "          a         c\n",
      "0  0.745274  0.984375\n",
      "1  0.717472  0.320426\n",
      "2  0.251486  0.513033\n",
      "3  0.615348  0.554777\n",
      "4  0.793531  0.855106\n",
      "5  0.247286  0.410728\n",
      "6  0.053735  0.141510\n",
      "7  0.556726  0.277877\n",
      "8  0.046031  0.320483\n",
      "9  0.157992  0.151165\n"
     ]
    }
   ],
   "source": [
    "import pandas as pd\n",
    "import numpy as np\n",
    "df = pd.DataFrame({\n",
    "    'a': np.random.random(10),\n",
    "    'b': np.random.random(10),\n",
    "    'c': np.random.random(10)\n",
    "})\n",
    "print(df[['a','c']])"
   ]
  },
  {
   "cell_type": "markdown",
   "metadata": {},
   "source": [
    "- Access specific row and column\n",
    "\n",
    "The first pair of square brackets `[]` allows us to access a column. After accessing a column, we will get a `Series`. To access a specific object, we can then use the indexing methods for a `Series`.\n",
    "\n",
    "Note that in this case the indices of the rows are equivalent to the integer position of the row, therefore `.loc` and `.iloc` of the column Series return the same value."
   ]
  },
  {
   "cell_type": "code",
   "execution_count": 20,
   "metadata": {},
   "outputs": [
    {
     "name": "stdout",
     "output_type": "stream",
     "text": [
      "0.6900977276985747\n",
      "0.6900977276985747\n",
      "0.6900977276985747\n"
     ]
    }
   ],
   "source": [
    "import pandas as pd\n",
    "import numpy as np\n",
    "df = pd.DataFrame({\n",
    "    'a': np.random.random(10),\n",
    "    'b': np.random.random(10),\n",
    "    'c': np.random.random(10)\n",
    "})\n",
    "print(df['a'][0])\n",
    "print(df['a'].loc[0])\n",
    "print(df['a'].iloc[0])"
   ]
  },
  {
   "cell_type": "markdown",
   "metadata": {},
   "source": [
    "### 3.4.3.2 Using .loc\n",
    "Just like in a Series, .loc is label-based and .iloc is position-based. As DataFrame is 2-dimensional, we can specify two arguments for .loc, first for the row, and second for the column. If only one argument is specified, it is assumed to be for the row, and all columns are included. Therefore `df.loc[0]` is equivalent to `df.loc[0,:]`.\n",
    "\n",
    "- `.loc` with a label\n"
   ]
  },
  {
   "cell_type": "code",
   "execution_count": null,
   "metadata": {},
   "outputs": [],
   "source": [
    "import pandas as pd\n",
    "import numpy as np\n",
    "df = pd.DataFrame({\n",
    "    'a': np.random.random(5),\n",
    "    'b': np.random.random(5),\n",
    "    'c': np.random.random(5)\n",
    "})\n",
    "print(\"Row 0 of df:\")\n",
    "print(df.loc[0])\n",
    "\n",
    "print(\"\\nColumn 'a' of df\")\n",
    "print(df.loc[:,'a'])\n",
    "\n",
    "print(\"\\nRow 0 column 'a' of df\")\n",
    "print(df.loc[0,'a'])"
   ]
  },
  {
   "cell_type": "markdown",
   "metadata": {},
   "source": [
    "- `.loc` with a list of labels\n",
    "\n",
    "If we pass a list of labels to either rows or columns, multiple rows or columns will be selected. "
   ]
  },
  {
   "cell_type": "code",
   "execution_count": 21,
   "metadata": {},
   "outputs": [
    {
     "name": "stdout",
     "output_type": "stream",
     "text": [
      "          a         c\n",
      "0  0.273602  0.597380\n",
      "2  0.352606  0.876664\n"
     ]
    }
   ],
   "source": [
    "import pandas as pd\n",
    "import numpy as np\n",
    "df = pd.DataFrame({\n",
    "    'a': np.random.random(5),\n",
    "    'b': np.random.random(5),\n",
    "    'c': np.random.random(5)\n",
    "})\n",
    "print(df.loc[[0,2], ['a','c']])"
   ]
  },
  {
   "cell_type": "markdown",
   "metadata": {},
   "source": [
    "- `.loc` with a slice object\n",
    "\n",
    "A slice object can also be used as the input to `.loc`. This will behave similar to how it is in `Series`. To recap, a slice object of the labels will include the stop (in the syntax of `start:stop:step`)."
   ]
  },
  {
   "cell_type": "code",
   "execution_count": 22,
   "metadata": {},
   "outputs": [
    {
     "name": "stdout",
     "output_type": "stream",
     "text": [
      "          a         b\n",
      "0  0.976181  0.231602\n",
      "1  0.728874  0.461467\n",
      "2  0.153624  0.243355\n"
     ]
    }
   ],
   "source": [
    "import pandas as pd\n",
    "import numpy as np\n",
    "df = pd.DataFrame({\n",
    "    'a': np.random.random(5),\n",
    "    'b': np.random.random(5),\n",
    "    'c': np.random.random(5)\n",
    "})\n",
    "print(df.loc[0:2, 'a':'b'])"
   ]
  },
  {
   "cell_type": "markdown",
   "metadata": {},
   "source": [
    "### 3.4.3.3 Using a .iloc\n",
    "`.iloc` is used similar to `.loc` with the exception that `.iloc` is integer position based. \n",
    "\n",
    "- `.iloc` with an integer\n",
    "\n",
    "The first input of `.iloc` is the position of the row, and the second input is the position of the column."
   ]
  },
  {
   "cell_type": "code",
   "execution_count": 23,
   "metadata": {},
   "outputs": [
    {
     "name": "stdout",
     "output_type": "stream",
     "text": [
      "          a         b         c\n",
      "0  0.132338  0.661030  0.607319\n",
      "1  0.163062  0.305606  0.496013\n",
      "2  0.159727  0.884978  0.250282\n",
      "3  0.087804  0.806166  0.659464\n",
      "4  0.435611  0.092973  0.823869\n",
      "Row 0 column 'b' of df\n",
      "0.6610297025061675\n"
     ]
    }
   ],
   "source": [
    "import pandas as pd\n",
    "import numpy as np\n",
    "df = pd.DataFrame({\n",
    "    'a': np.random.random(5),\n",
    "    'b': np.random.random(5),\n",
    "    'c': np.random.random(5)\n",
    "})\n",
    "print(df)\n",
    "print(\"Row 0 column 'b' of df\")\n",
    "print(df.iloc[0,1])"
   ]
  },
  {
   "cell_type": "markdown",
   "metadata": {},
   "source": [
    "- `.iloc` with a list of integers\n",
    "\n",
    "Using a list of integers we can access multiple values at once."
   ]
  },
  {
   "cell_type": "code",
   "execution_count": 24,
   "metadata": {},
   "outputs": [
    {
     "name": "stdout",
     "output_type": "stream",
     "text": [
      "          a         c\n",
      "0  0.249774  0.281501\n",
      "2  0.214454  0.314240\n"
     ]
    }
   ],
   "source": [
    "import pandas as pd\n",
    "import numpy as np\n",
    "df = pd.DataFrame({\n",
    "    'a': np.random.random(5),\n",
    "    'b': np.random.random(5),\n",
    "    'c': np.random.random(5)\n",
    "})\n",
    "print(df.iloc[[0,2], [0,2]])"
   ]
  },
  {
   "cell_type": "markdown",
   "metadata": {},
   "source": [
    "- `.iloc` with a slice object\n",
    "\n",
    "We can also access multiple values when providing the input of a slice object to `.iloc`. Note that when using slice objects with `.iloc`, the stop in `start:stop:step` is not included in the returned value."
   ]
  },
  {
   "cell_type": "code",
   "execution_count": 25,
   "metadata": {},
   "outputs": [
    {
     "name": "stdout",
     "output_type": "stream",
     "text": [
      "          a         b\n",
      "0  0.343884  0.764536\n",
      "1  0.894613  0.516874\n",
      "2  0.648928  0.512561\n",
      "          a         b\n",
      "0  0.343884  0.764536\n",
      "1  0.894613  0.516874\n"
     ]
    }
   ],
   "source": [
    "import pandas as pd\n",
    "import numpy as np\n",
    "df = pd.DataFrame({\n",
    "    'a': np.random.random(5),\n",
    "    'b': np.random.random(5),\n",
    "    'c': np.random.random(5)\n",
    "})\n",
    "print(df.loc[0:2, 'a':'b'])\n",
    "print(df.iloc[0:2, 0:2])"
   ]
  },
  {
   "cell_type": "markdown",
   "metadata": {},
   "source": [
    "## 3.4.4 Combining multiple DataFrame\n",
    "There are times when we need to combine multiple `DataFrame`. `pandas` provides the `pandas.concat` to perform this operation."
   ]
  },
  {
   "cell_type": "markdown",
   "metadata": {},
   "source": [
    "### 3.4.4.1 Join two DataFrame vertically\n",
    "If we have two DataFrame that we want to combine them vertically, we can pass the `DataFrame` in a list to `pandas.concat`.\n",
    "\n"
   ]
  },
  {
   "cell_type": "code",
   "execution_count": 26,
   "metadata": {},
   "outputs": [
    {
     "name": "stdout",
     "output_type": "stream",
     "text": [
      "          a         b\n",
      "0  0.014359  0.576625\n",
      "1  0.392585  0.623005\n",
      "2  0.564056  0.727451\n",
      "3  0.269994  0.437383\n",
      "4  0.962171  0.847473\n",
      "5  0.397421  0.051164\n"
     ]
    }
   ],
   "source": [
    "import pandas as pd\n",
    "import numpy as np\n",
    "df1 = pd.DataFrame({\n",
    "    'a': np.random.random(3),\n",
    "    'b': np.random.random(3),\n",
    "}, index=[0,1,2])\n",
    "\n",
    "df2 = pd.DataFrame({\n",
    "    'a': np.random.random(3),\n",
    "    'b': np.random.random(3),\n",
    "}, index=[3,4,5])\n",
    "\n",
    "df3 = pd.concat([df1, df2])\n",
    "print(df3)"
   ]
  },
  {
   "cell_type": "markdown",
   "metadata": {},
   "source": [
    "By default, `pandas.concat` combines the `DataFrame` vertically, i.e. aligning according to column labels. The row label will be duplicated if there are rows with the same label in the individual `DataFrame`. To solve this, we could use the input argument keys for `pandas.concat`. The length of keys is expected to be the same as the number of `DataFrame` to be combined.\n",
    "\n",
    "This will create a MultiIndexed `DataFrame`. The row can be accessed by specifying a tuple as the row label, for e.g. `df3.loc[('x',0)]`. "
   ]
  },
  {
   "cell_type": "code",
   "execution_count": 27,
   "metadata": {},
   "outputs": [
    {
     "name": "stdout",
     "output_type": "stream",
     "text": [
      "            a         b\n",
      "x 0  0.343425  0.201986\n",
      "  1  0.062913  0.862907\n",
      "  2  0.211079  0.975835\n",
      "y 2  0.997838  0.316083\n",
      "  4  0.948251  0.799546\n",
      "  5  0.033855  0.757045\n",
      "\n",
      "a    0.343425\n",
      "b    0.201986\n",
      "Name: (x, 0), dtype: float64\n"
     ]
    }
   ],
   "source": [
    "import pandas as pd\n",
    "import numpy as np\n",
    "df1 = pd.DataFrame({\n",
    "    'a': np.random.random(3),\n",
    "    'b': np.random.random(3),\n",
    "}, index=[0,1,2])\n",
    "\n",
    "df2 = pd.DataFrame({\n",
    "    'a': np.random.random(3),\n",
    "    'b': np.random.random(3),\n",
    "}, index=[2,4,5])\n",
    "\n",
    "df3 = pd.concat([df1, df2], keys=['x','y'])\n",
    "print(df3)\n",
    "print()\n",
    "print(df3.loc[('x',0)])"
   ]
  },
  {
   "cell_type": "markdown",
   "metadata": {},
   "source": [
    "If the columns in one `DataFrame` is difference from the other `DataFrame`, the default join method of `pandas.concat` is outer, i.e. all columns will be used, and the empty cells will be populated with `NaN`. "
   ]
  },
  {
   "cell_type": "code",
   "execution_count": 28,
   "metadata": {},
   "outputs": [
    {
     "name": "stdout",
     "output_type": "stream",
     "text": [
      "          a         b         c\n",
      "0  0.982702  0.272621       NaN\n",
      "1  0.735202  0.957563       NaN\n",
      "2  0.260090  0.281759       NaN\n",
      "3       NaN  0.419164  0.001033\n",
      "4       NaN  0.585137  0.288881\n",
      "5       NaN  0.754931  0.437966\n"
     ]
    }
   ],
   "source": [
    "import pandas as pd\n",
    "import numpy as np\n",
    "df1 = pd.DataFrame({\n",
    "    'a': np.random.random(3),\n",
    "    'b': np.random.random(3),\n",
    "}, index=[0,1,2])\n",
    "\n",
    "df2 = pd.DataFrame({\n",
    "    'b': np.random.random(3),\n",
    "    'c': np.random.random(3),\n",
    "}, index=[3,4,5])\n",
    "\n",
    "df3 = pd.concat([df1, df2])\n",
    "print(df3)"
   ]
  },
  {
   "cell_type": "markdown",
   "metadata": {},
   "source": [
    "We can specify `join=\"inner\"` to `pandas.concat` so the resultant `DataFrame` only contains the columns that both `DataFrame` have."
   ]
  },
  {
   "cell_type": "code",
   "execution_count": 29,
   "metadata": {},
   "outputs": [
    {
     "name": "stdout",
     "output_type": "stream",
     "text": [
      "          b\n",
      "0  0.711002\n",
      "1  0.890062\n",
      "2  0.547762\n",
      "3  0.978967\n",
      "4  0.586402\n",
      "5  0.530345\n"
     ]
    }
   ],
   "source": [
    "import pandas as pd\n",
    "import numpy as np\n",
    "df1 = pd.DataFrame({\n",
    "    'a': np.random.random(3),\n",
    "    'b': np.random.random(3),\n",
    "}, index=[0,1,2])\n",
    "\n",
    "df2 = pd.DataFrame({\n",
    "    'b': np.random.random(3),\n",
    "    'c': np.random.random(3),\n",
    "}, index=[3,4,5])\n",
    "\n",
    "df3 = pd.concat([df1, df2], join=\"inner\")\n",
    "print(df3)"
   ]
  },
  {
   "cell_type": "markdown",
   "metadata": {},
   "source": [
    "### 3.4.4.2 Join two DataFrame horizontally\n",
    "To join multiple `DataFrame` horizontally, i.e. aligning according to row labels, we need to specify `axis=1` for `pandas.concat`. `axis=0` is the default, which allows us to join the `DataFrame` vertically."
   ]
  },
  {
   "cell_type": "code",
   "execution_count": 30,
   "metadata": {},
   "outputs": [
    {
     "name": "stdout",
     "output_type": "stream",
     "text": [
      "          a         b         b         c\n",
      "0  0.808630  0.303642  0.193114  0.558099\n",
      "1  0.689054  0.285900  0.437384  0.878497\n",
      "2  0.266834  0.131028  0.736600  0.923503\n"
     ]
    }
   ],
   "source": [
    "import pandas as pd\n",
    "import numpy as np\n",
    "df1 = pd.DataFrame({\n",
    "    'a': np.random.random(3),\n",
    "    'b': np.random.random(3),\n",
    "}, index=[0,1,2])\n",
    "\n",
    "df2 = pd.DataFrame({\n",
    "    'b': np.random.random(3),\n",
    "    'c': np.random.random(3),\n",
    "}, index=[0,1,2])\n",
    "\n",
    "df3 = pd.concat([df1, df2], axis=1)\n",
    "print(df3)"
   ]
  },
  {
   "cell_type": "markdown",
   "metadata": {},
   "source": [
    "If keys are specified, it will be assigned to the columns.\n",
    "\n"
   ]
  },
  {
   "cell_type": "code",
   "execution_count": 31,
   "metadata": {},
   "outputs": [
    {
     "name": "stdout",
     "output_type": "stream",
     "text": [
      "          x                   y          \n",
      "          a         b         b         c\n",
      "0  0.537523  0.258672  0.108395  0.243456\n",
      "1  0.634627  0.625525  0.045429  0.414441\n",
      "2  0.270642  0.614936  0.402201  0.033993\n"
     ]
    }
   ],
   "source": [
    "import pandas as pd\n",
    "import numpy as np\n",
    "df1 = pd.DataFrame({\n",
    "    'a': np.random.random(3),\n",
    "    'b': np.random.random(3),\n",
    "}, index=[0,1,2])\n",
    "\n",
    "df2 = pd.DataFrame({\n",
    "    'b': np.random.random(3),\n",
    "    'c': np.random.random(3),\n",
    "}, index=[0,1,2])\n",
    "\n",
    "df3 = pd.concat([df1, df2], axis=1, keys=['x','y'])\n",
    "print(df3)"
   ]
  },
  {
   "cell_type": "markdown",
   "metadata": {},
   "source": [
    "If there are row labels that do not exist in both the `DataFrame`, we can use join to determine the behaviour of joining. "
   ]
  },
  {
   "cell_type": "code",
   "execution_count": 32,
   "metadata": {},
   "outputs": [
    {
     "name": "stdout",
     "output_type": "stream",
     "text": [
      "          a         b         c         d\n",
      "0  0.880935  0.298531       NaN       NaN\n",
      "1  0.490882  0.290139  0.320837  0.294359\n",
      "2  0.118602  0.751244  0.970755  0.532803\n",
      "3       NaN       NaN  0.208567  0.047179\n",
      "          a         b         c         d\n",
      "1  0.490882  0.290139  0.320837  0.294359\n",
      "2  0.118602  0.751244  0.970755  0.532803\n"
     ]
    }
   ],
   "source": [
    "import pandas as pd\n",
    "import numpy as np\n",
    "df1 = pd.DataFrame({\n",
    "    'a': np.random.random(3),\n",
    "    'b': np.random.random(3),\n",
    "}, index=[0,1,2])\n",
    "\n",
    "df2 = pd.DataFrame({\n",
    "    'c': np.random.random(3),\n",
    "    'd': np.random.random(3),\n",
    "}, index=[1,2,3])\n",
    "\n",
    "df3 = pd.concat([df1, df2], axis=1, join='outer')\n",
    "print(df3)\n",
    "df4 = pd.concat([df1, df2], axis=1, join='inner')\n",
    "print(df4)"
   ]
  },
  {
   "cell_type": "markdown",
   "metadata": {},
   "source": [
    "`join='outer'` uses all row labels, whereas `join='inner'` uses only the row labels exist in both `DataFrame`.\n",
    "\n"
   ]
  },
  {
   "cell_type": "markdown",
   "metadata": {},
   "source": [
    "### 3.4.4.3 DataFrame.append\n",
    "`DataFrame.append` creates a vertical combine of multiple `DataFrame`. `DataFrame.append` is initiated by a `DataFrame` object to append another `DataFrame` object. "
   ]
  },
  {
   "cell_type": "code",
   "execution_count": null,
   "metadata": {},
   "outputs": [],
   "source": [
    "import pandas as pd\n",
    "import numpy as np\n",
    "\n",
    "df1 = pd.DataFrame({\n",
    "    'a': np.random.random(3),\n",
    "    'b': np.random.random(3),\n",
    "}, index=[0,1,2])\n",
    "\n",
    "df2 = pd.DataFrame({\n",
    "    'c': np.random.random(3),\n",
    "    'd': np.random.random(3),\n",
    "}, index=[1,2,3])\n",
    "\n",
    "df3 = pd.DataFrame({\n",
    "    'a': np.random.random(3),\n",
    "    'd': np.random.random(3),\n",
    "}, index=[0,1,2])\n",
    "\n",
    "df4 = df1.append([df2,df3])\n",
    "print(df4)"
   ]
  },
  {
   "cell_type": "markdown",
   "metadata": {},
   "source": [
    "We can use `ignore_index=True` to remove the original row indices of the `DataFrame` and reassign the row indices in increasing order."
   ]
  },
  {
   "cell_type": "code",
   "execution_count": null,
   "metadata": {},
   "outputs": [],
   "source": [
    "import pandas as pd\n",
    "import numpy as np\n",
    "df1 = pd.DataFrame({\n",
    "    'a': np.random.random(3),\n",
    "    'b': np.random.random(3),\n",
    "}, index=[0,1,2])\n",
    "df2 = pd.DataFrame({\n",
    "    'c': np.random.random(3),\n",
    "    'd': np.random.random(3),\n",
    "}, index=[1,2,3])\n",
    "df3 = pd.DataFrame({\n",
    "    'a': np.random.random(3),\n",
    "    'd': np.random.random(3),\n",
    "}, index=[0,1,2])\n",
    "\n",
    "df4 = df1.append([df2,df3], ignore_index=True)\n",
    "print(df4)"
   ]
  },
  {
   "cell_type": "markdown",
   "metadata": {},
   "source": [
    "## 3.4.5 Operations on Series and DataFrame\n",
    "### 3.4.5.1 Arithmetic and comparison"
   ]
  },
  {
   "cell_type": "markdown",
   "metadata": {},
   "source": [
    "## 3.4.6 Looping with DataFrame\n",
    "pandas provides useful methods in `DataFrame` for us to perform looping on the `DataFrame`. The methods include `.items`, `.iteritems`, `.iterrows`, and `.itertuples`. \n",
    "\n",
    "\n",
    "### 3.4.6.1 .items and .iteritems"
   ]
  }
 ],
 "metadata": {
  "kernelspec": {
   "display_name": "Python 3",
   "language": "python",
   "name": "python3"
  },
  "language_info": {
   "codemirror_mode": {
    "name": "ipython",
    "version": 3
   },
   "file_extension": ".py",
   "mimetype": "text/x-python",
   "name": "python",
   "nbconvert_exporter": "python",
   "pygments_lexer": "ipython3",
   "version": "3.12.2"
  }
 },
 "nbformat": 4,
 "nbformat_minor": 2
}
