{
 "cells": [
  {
   "cell_type": "markdown",
   "metadata": {},
   "source": [
    "# 3.4 DataFrame \n",
    "`DataFrame` is a data structure provided by pandas to store 2-dimensional labeled data that can be conceptually viewed as a table with rows and columns.\n",
    "\n",
    "- **From `dict` of lists**\n",
    "\n",
    "`DataFrame` can be created from a `dict` of `lists`. The keys in the `dict` are used as the label of the columns in the `DataFrame`. All lists should have the same size."
   ]
  },
  {
   "cell_type": "code",
   "execution_count": 1,
   "metadata": {},
   "outputs": [
    {
     "name": "stdout",
     "output_type": "stream",
     "text": [
      "   A  B\n",
      "0  1  a\n",
      "1  2  b\n",
      "2  3  c\n",
      "3  4  d\n",
      "4  5  e\n",
      "5  6  f\n"
     ]
    }
   ],
   "source": [
    "import pandas as pd\n",
    "\n",
    "d = {\n",
    "    \"A\": [1,2,3,4,5,6],\n",
    "    \"B\": ['a','b','c','d','e','f']\n",
    "}\n",
    "df = pd.DataFrame(d)\n",
    "print(df)"
   ]
  },
  {
   "cell_type": "markdown",
   "metadata": {},
   "source": [
    "By default, each row will be labelled with their integer positions. However this can be defined by providing the input argument index to `DataFrame`. "
   ]
  },
  {
   "cell_type": "code",
   "execution_count": 2,
   "metadata": {},
   "outputs": [
    {
     "name": "stdout",
     "output_type": "stream",
     "text": [
      "     A  B\n",
      "I    1  a\n",
      "II   2  b\n",
      "III  3  c\n",
      "IV   4  d\n",
      "V    5  e\n",
      "VI   6  f\n"
     ]
    }
   ],
   "source": [
    "import pandas as pd\n",
    "\n",
    "d = {\n",
    "    \"A\": [1,2,3,4,5,6],\n",
    "    \"B\": ['a','b','c','d','e','f']\n",
    "}\n",
    "df = pd.DataFrame(d, index=['I','II','III','IV','V','VI'])\n",
    "print(df)"
   ]
  },
  {
   "cell_type": "markdown",
   "metadata": {},
   "source": [
    "`dict` of `ndarray` can also be used with similar syntax to create a `DataFrame`.\n",
    "\n"
   ]
  },
  {
   "cell_type": "code",
   "execution_count": 3,
   "metadata": {},
   "outputs": [
    {
     "name": "stdout",
     "output_type": "stream",
     "text": [
      "     A  B\n",
      "I    1  a\n",
      "II   2  b\n",
      "III  3  c\n",
      "IV   4  d\n",
      "V    5  e\n",
      "VI   6  f\n"
     ]
    }
   ],
   "source": [
    "import pandas as pd\n",
    "import numpy as np\n",
    "d = {\n",
    "    \"A\": np.array([1,2,3,4,5,6]),\n",
    "    \"B\": np.array(['a','b','c','d','e','f'])\n",
    "}\n",
    "df = pd.DataFrame(d, index=['I','II','III','IV','V','VI'])\n",
    "print(df)"
   ]
  },
  {
   "cell_type": "markdown",
   "metadata": {},
   "source": [
    "- **From `dict` of Series**\n",
    "  \n",
    "`DataFrame` can also be created from a `dict` of `Series`. The main thing of a `Series` and a `list` is that `Series` is labeled, meaning each item of a Series is labelled with an index. Therefore when we pass a `dict` of `Series` to create a `DataFrame`, the items with same label/index are placed in the same row. The labels of the rows follow the label in the Series whereas the labels of the columns follow the key of the `dict`."
   ]
  },
  {
   "cell_type": "code",
   "execution_count": 4,
   "metadata": {},
   "outputs": [
    {
     "name": "stdout",
     "output_type": "stream",
     "text": [
      "       A    B\n",
      "I    1.0    a\n",
      "II   2.0    b\n",
      "III  3.0    c\n",
      "IV   4.0    d\n",
      "V    5.0    e\n",
      "VI   6.0  NaN\n",
      "VII  NaN    f\n"
     ]
    }
   ],
   "source": [
    "import pandas as pd\n",
    "d = {\n",
    "    \"A\": pd.Series([1,2,3,4,5,6], index=['I','II','III','IV','V','VI']),\n",
    "    \"B\": pd.Series(['a','b','c','d','e','f'], index=['I','II','III','IV','V','VII'])\n",
    "}\n",
    "df = pd.DataFrame(d)\n",
    "print(df)"
   ]
  },
  {
   "cell_type": "markdown",
   "metadata": {},
   "source": [
    "If one `Series` contains a label not exist in the other `Series`, it will be filled with `NaN` (not-a-number). Note that in this case we did not pass the input argument index to DataFrame. Therefore all labels from all the `Series` are used to create the labels for the `DataFrame`. This can be observed in the previous code snippet. `d[\"A\"]` has `index VI` but not `VII` whereas `d[\"B\"]` does not have index `VI` but `VII`. The created df has indices of `I`, `II`, `III`, `IV`, `V`, `VI`, `VII` with `NaN` in column `A` row `VII` and column `B` row `VI`.\n",
    "\n",
    "The created `DataFrame` will only contain labels specified by the index."
   ]
  },
  {
   "cell_type": "code",
   "execution_count": 5,
   "metadata": {},
   "outputs": [
    {
     "name": "stdout",
     "output_type": "stream",
     "text": [
      "    A  B\n",
      "I   1  a\n",
      "II  2  b\n",
      "IV  4  d\n"
     ]
    }
   ],
   "source": [
    "import pandas as pd\n",
    "d = {\n",
    "    \"A\": pd.Series([1,2,3,4,5,6], index=['I','II','III','IV','V','VI']),\n",
    "    \"B\": pd.Series(['a','b','c','d','e','f'], index=['I','II','III','IV','V','VII'])\n",
    "}\n",
    "df = pd.DataFrame(d, index=['I','II','IV'])\n",
    "print(df)"
   ]
  },
  {
   "cell_type": "markdown",
   "metadata": {},
   "source": [
    "- **From `list` of `dict`**\n",
    "\n",
    "`DataFrame` can be created form a `list` of `dict`. Each `dict` is considered as a row in the `DataFrame`, and the keys in each dict are the labels of the columns in the `DataFrame`.\n",
    "\n",
    "The labels of the rows can be specified with the index argument in `DataFrame`."
   ]
  },
  {
   "cell_type": "code",
   "execution_count": 6,
   "metadata": {},
   "outputs": [
    {
     "name": "stdout",
     "output_type": "stream",
     "text": [
      "   a  b    c\n",
      "0  1  2  3.0\n",
      "1  5  4  NaN\n"
     ]
    }
   ],
   "source": [
    "import pandas as pd\n",
    "d = [\n",
    "    {'a':1, 'b':2, 'c':3},\n",
    "    {'a':5, 'b':4}\n",
    "]\n",
    "df = pd.DataFrame(d)\n",
    "print(df)"
   ]
  },
  {
   "cell_type": "markdown",
   "metadata": {},
   "source": [
    "- **From `dict` of `dict`**\n",
    "\n",
    "`DataFrame` can also be created with a `dict` of `dict`. The keys of the external `dict` are used for the labels of the column (just like in the `dict` of `lists`) and the keys of the internal `dict` are used for the labels of the rows (just like in the `list` of `dict`)."
   ]
  },
  {
   "cell_type": "code",
   "execution_count": 7,
   "metadata": {},
   "outputs": [
    {
     "name": "stdout",
     "output_type": "stream",
     "text": [
      "   a  b  c  d\n",
      "x  1  3  5  7\n",
      "y  2  4  6  8\n"
     ]
    }
   ],
   "source": [
    "import pandas as pd\n",
    "d = {\n",
    "    'a': { 'x': 1, 'y': 2 },\n",
    "    'b': { 'x': 3, 'y': 4 },\n",
    "    'c': { 'x': 5, 'y': 6 },\n",
    "    'd': { 'x': 7, 'y': 8 }\n",
    "}\n",
    "df = pd.DataFrame(d)\n",
    "print(df)"
   ]
  },
  {
   "cell_type": "markdown",
   "metadata": {},
   "source": [
    "- **MultiIndexed DataFrame**\n",
    "\n",
    "MultiIndexed `DataFrame` is a type of `DataFrame` where we have multiple level of indexing. For example, for the labels of the columns, we can have `a`, `b`, `c` under the group of `A`, and also `a`, `b`, `c` under the group of `B`. Let's go for an example before this is getting more confusing. "
   ]
  },
  {
   "cell_type": "code",
   "execution_count": 8,
   "metadata": {},
   "outputs": [
    {
     "name": "stdout",
     "output_type": "stream",
     "text": [
      "       A              B\n",
      "       a    b    c    a\n",
      "X x  1.0  3.0  5.0  NaN\n",
      "  y  2.0  4.0  6.0  NaN\n",
      "  z  NaN  NaN  NaN  7.0\n",
      "Y x  NaN  NaN  NaN  8.0\n"
     ]
    }
   ],
   "source": [
    "import pandas as pd\n",
    "d = {\n",
    "    ('A', 'a'): { ('X', 'x'): 1, ('X', 'y'): 2 },\n",
    "    ('A', 'b'): { ('X', 'x'): 3, ('X', 'y'): 4 },\n",
    "    ('A', 'c'): { ('X', 'x'): 5, ('X', 'y'): 6 },\n",
    "    ('B', 'a'): { ('X', 'z'): 7, ('Y', 'x'): 8 }\n",
    "}\n",
    "df = pd.DataFrame(d)\n",
    "print(df)"
   ]
  },
  {
   "cell_type": "markdown",
   "metadata": {},
   "source": [
    "As the `DataFrame` is created with a `dict` of `dict`, the keys of the external dict are used as the columns whereas the keys of the internal `dict` are used as the rows."
   ]
  }
 ],
 "metadata": {
  "kernelspec": {
   "display_name": "Python 3",
   "language": "python",
   "name": "python3"
  },
  "language_info": {
   "codemirror_mode": {
    "name": "ipython",
    "version": 3
   },
   "file_extension": ".py",
   "mimetype": "text/x-python",
   "name": "python",
   "nbconvert_exporter": "python",
   "pygments_lexer": "ipython3",
   "version": "3.12.2"
  }
 },
 "nbformat": 4,
 "nbformat_minor": 2
}
