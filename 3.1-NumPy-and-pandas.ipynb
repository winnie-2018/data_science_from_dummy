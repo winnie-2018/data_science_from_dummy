{
 "cells": [
  {
   "cell_type": "markdown",
   "metadata": {},
   "source": [
    "# 3.1 NumPy and pandas\n",
    "[NumpPy](https://numpy.org/) and [pandas](https://pandas.pydata.org/) are two important Python libraries in data science as they provide useful data structures, data analysis functions, and data manipulation functions for small and large-scale data.\n",
    "\n",
    "- **NumPy** introduces the `ndarray` data structure to store the data and provides efficient functions for numerical operations on the data.\n",
    "\n",
    "- **pandas** is a library built on top of NumPy to introduce useful and efficient data manipulation tools. pandas provides the data structures of `Series` and `DataFrame` that are similar to a tabular data format. \n",
    "\n",
    "This lesson is structured into two parts:\n",
    "\n",
    "- The first part discusses the basics of NumPy with `ndarray` and important numerical operations provided by NumPy. \n",
    "\n",
    "- The second part explains the basics of pandas starting from the data structures before going into the important data manipulation functions provided by pandas for `Series` and `DataFrame`. \n",
    "\n",
    "This lesson will introduce the useful functions provided by NumPy and pandas libraries. For a complete list of functions, you may refer to the official documentation from https://numpy.org/doc/stable/reference/index.html and https://pandas.pydata.org/docs/reference/index.html."
   ]
  }
 ],
 "metadata": {
  "language_info": {
   "name": "python"
  }
 },
 "nbformat": 4,
 "nbformat_minor": 2
}
