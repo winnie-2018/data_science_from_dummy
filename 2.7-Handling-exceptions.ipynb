{
 "cells": [
  {
   "cell_type": "markdown",
   "metadata": {},
   "source": [
    "# 2.7 Handling exceptions\n",
    "When errors occur in the code, exceptions will be raised and the program halts. Sometimes these exceptions can be anticipated and there are logical ways to handle them for the program to continue. We can use `try...except...else...finally` to capture exceptions and specify actions to be taken when exceptions occur.\n",
    "\n",
    "The `try` block provides the code to be run. If any exception that has been specified with `except` statement is raised in the `try` block, then the code in the `except` block will be executed. If no exception is raised, the `else` block will be executed. The code in `finally` block will always be executed regardless of whether an exception is being raised. The code in `finally` block is also considered as clean-up actions."
   ]
  },
  {
   "cell_type": "code",
   "execution_count": 1,
   "metadata": {},
   "outputs": [
    {
     "name": "stdout",
     "output_type": "stream",
     "text": [
      "outcome for divide(2,1)\n",
      "result is 2.0\n",
      "the code in finally block\n",
      "\n",
      "outcome for divide(2,0)\n",
      "y is 0. Division by zero is not permitted\n",
      "the code in finally block\n",
      "\n",
      "outcome for divide(2,1)\n",
      "the code in finally block\n"
     ]
    },
    {
     "ename": "TypeError",
     "evalue": "unsupported operand type(s) for /: 'str' and 'int'",
     "output_type": "error",
     "traceback": [
      "\u001b[1;31m---------------------------------------------------------------------------\u001b[0m",
      "\u001b[1;31mTypeError\u001b[0m                                 Traceback (most recent call last)",
      "Cell \u001b[1;32mIn[1], line 16\u001b[0m\n\u001b[0;32m     14\u001b[0m divide(\u001b[38;5;241m2\u001b[39m,\u001b[38;5;241m0\u001b[39m)\n\u001b[0;32m     15\u001b[0m \u001b[38;5;28mprint\u001b[39m(\u001b[38;5;124m\"\u001b[39m\u001b[38;5;124m\"\u001b[39m)\n\u001b[1;32m---> 16\u001b[0m \u001b[43mdivide\u001b[49m\u001b[43m(\u001b[49m\u001b[38;5;124;43m\"\u001b[39;49m\u001b[38;5;124;43m2\u001b[39;49m\u001b[38;5;124;43m\"\u001b[39;49m\u001b[43m,\u001b[49m\u001b[38;5;241;43m1\u001b[39;49m\u001b[43m)\u001b[49m\n",
      "Cell \u001b[1;32mIn[1], line 4\u001b[0m, in \u001b[0;36mdivide\u001b[1;34m(x, y)\u001b[0m\n\u001b[0;32m      2\u001b[0m \u001b[38;5;28mprint\u001b[39m(\u001b[38;5;124mf\u001b[39m\u001b[38;5;124m\"\u001b[39m\u001b[38;5;124moutcome for divide(\u001b[39m\u001b[38;5;132;01m{\u001b[39;00mx\u001b[38;5;132;01m}\u001b[39;00m\u001b[38;5;124m,\u001b[39m\u001b[38;5;132;01m{\u001b[39;00my\u001b[38;5;132;01m}\u001b[39;00m\u001b[38;5;124m)\u001b[39m\u001b[38;5;124m\"\u001b[39m)\n\u001b[0;32m      3\u001b[0m \u001b[38;5;28;01mtry\u001b[39;00m:\n\u001b[1;32m----> 4\u001b[0m     result \u001b[38;5;241m=\u001b[39m \u001b[43mx\u001b[49m\u001b[38;5;241;43m/\u001b[39;49m\u001b[43my\u001b[49m\n\u001b[0;32m      5\u001b[0m \u001b[38;5;28;01mexcept\u001b[39;00m \u001b[38;5;167;01mZeroDivisionError\u001b[39;00m:\n\u001b[0;32m      6\u001b[0m     \u001b[38;5;28mprint\u001b[39m(\u001b[38;5;124m\"\u001b[39m\u001b[38;5;124my is 0. Division by zero is not permitted\u001b[39m\u001b[38;5;124m\"\u001b[39m)\n",
      "\u001b[1;31mTypeError\u001b[0m: unsupported operand type(s) for /: 'str' and 'int'"
     ]
    }
   ],
   "source": [
    "def divide(x,y):\n",
    "    print(f\"outcome for divide({x},{y})\")\n",
    "    try:\n",
    "        result = x/y\n",
    "    except ZeroDivisionError:\n",
    "        print(\"y is 0. Division by zero is not permitted\")\n",
    "    else:\n",
    "        print(f\"result is {result}\")\n",
    "    finally:\n",
    "        print(f\"the code in finally block\")\n",
    "\n",
    "divide(2,1)\n",
    "print(\"\")\n",
    "divide(2,0)\n",
    "print(\"\")\n",
    "divide(\"2\",1)"
   ]
  },
  {
   "cell_type": "markdown",
   "metadata": {},
   "source": [
    "* The first test case `divide(2,1)` provides the input arguments that will not raise any exception. The code in the `try`, `else`, and `finally` blocks are executed.\n",
    "\n",
    "* The second test case `divide(2,0)` provides the input arguments that will raise the exception `ZeroDivisionError`, which we have considered and included in the `except` block. The code in `except` `ZeroDivisionError` and `finally` blocks are executed.\n",
    "\n",
    "* The third test case `divide(\"2\",1)` provides the input arguments that will raise the exception `TypeError`, which has not been considered in the `except` block. Therefore the `TypeError` exception is raised. As shown in the terminal output, the code in the `finally` block will still be executed before the `exception` is being raised.\n",
    "\n",
    "> `divide(\"2\",1)` raises `TypeError` exception because the operation / is supposed to happen between two numbers. \"2\" is passed as a string, not a number, and therefore exception is raised.\n",
    "\n",
    "> When an exception is raise, we will see the class name of the exception in the terminal output: `TypeError: unsupported operand type(s) for /: 'str' and 'int'`. Therefore we know what exception to be captured if we want to handle it.\n",
    "\n",
    "What happens if the code in `finally` block is moved out of the block? Will the code be executed when an unhandled exception is raised?\n",
    "```\n",
    "...\n",
    "    else:\n",
    "        print(f\"result is {result}\")\n",
    "    print(f\"the code in finally block\")\n",
    "    \n",
    "    ...\n",
    "```\n",
    "\n",
    "It is also possible that there are multiple exceptions we want to capture and handle differently. To do so, we can provide multiple except blocks with different exceptions. For example,"
   ]
  },
  {
   "cell_type": "code",
   "execution_count": 2,
   "metadata": {},
   "outputs": [
    {
     "name": "stdout",
     "output_type": "stream",
     "text": [
      "outcome for divide(2,1)\n",
      "x and y must be numbers\n",
      "the code in finally block\n"
     ]
    }
   ],
   "source": [
    "def divide(x,y):\n",
    "    print(f\"outcome for divide({x},{y})\")\n",
    "    try:\n",
    "        result = x/y\n",
    "    except ZeroDivisionError:\n",
    "        print(\"y is 0. Division by zero is not permitted\")\n",
    "    except TypeError:\n",
    "        print(\"x and y must be numbers\")\n",
    "    else:\n",
    "        print(f\"result is {result}\")\n",
    "    finally:\n",
    "        print(f\"the code in finally block\")\n",
    "\n",
    "divide(\"2\",1)"
   ]
  },
  {
   "cell_type": "markdown",
   "metadata": {},
   "source": [
    "If we want to handle multiple exceptions with the same code, we can use `except` (`ZeroDivisionError`, `TypeError`) to capture the exceptions."
   ]
  },
  {
   "cell_type": "code",
   "execution_count": 3,
   "metadata": {},
   "outputs": [
    {
     "name": "stdout",
     "output_type": "stream",
     "text": [
      "outcome for divide(2,1)\n",
      "Error! Error!\n",
      "the code in finally block\n"
     ]
    }
   ],
   "source": [
    "def divide(x,y):\n",
    "    print(f\"outcome for divide({x},{y})\")\n",
    "    try:\n",
    "        result = x/y\n",
    "    except (ZeroDivisionError, TypeError):\n",
    "        print(\"Error! Error!\")\n",
    "    else:\n",
    "        print(f\"result is {result}\")\n",
    "    finally:\n",
    "        print(f\"the code in finally block\")\n",
    "\n",
    "divide(\"2\",1)"
   ]
  },
  {
   "cell_type": "markdown",
   "metadata": {},
   "source": [
    "Sometimes we want to capture all kinds of exceptions and handle them in the same way. There are two ways to achieve this. \n",
    "\n",
    "The first is to use a bare `except`: without specifying the type of exception. In this way, we may access the exception using `sys.exc_info()`."
   ]
  },
  {
   "cell_type": "code",
   "execution_count": 4,
   "metadata": {},
   "outputs": [
    {
     "name": "stdout",
     "output_type": "stream",
     "text": [
      "(<class 'ZeroDivisionError'>, ZeroDivisionError('division by zero'), <traceback object at 0x000001AF1BF60400>)\n"
     ]
    }
   ],
   "source": [
    "import sys\n",
    "\n",
    "try:\n",
    "    5/0\n",
    "except:\n",
    "    print(sys.exc_info())"
   ]
  },
  {
   "cell_type": "markdown",
   "metadata": {},
   "source": [
    "The second way is to use the class `Exception`. This will capture all types of exceptions while providing you the handle to the exception."
   ]
  },
  {
   "cell_type": "code",
   "execution_count": 5,
   "metadata": {},
   "outputs": [
    {
     "name": "stdout",
     "output_type": "stream",
     "text": [
      "division by zero\n"
     ]
    }
   ],
   "source": [
    "try:\n",
    "    5/0\n",
    "except Exception as e:\n",
    "    print(e)"
   ]
  },
  {
   "cell_type": "markdown",
   "metadata": {},
   "source": [
    "Note that in the `except` statement, we can use as to save the captured exception to a variable.\n",
    "\n",
    "> The `except`, `else`, and `finally` blocks are optional. However, with a try block specified, we need at least one of the `except` and `finally` blocks. The `else` block can only be used if at least one `except` block is specified."
   ]
  }
 ],
 "metadata": {
  "kernelspec": {
   "display_name": "Python 3",
   "language": "python",
   "name": "python3"
  },
  "language_info": {
   "codemirror_mode": {
    "name": "ipython",
    "version": 3
   },
   "file_extension": ".py",
   "mimetype": "text/x-python",
   "name": "python",
   "nbconvert_exporter": "python",
   "pygments_lexer": "ipython3",
   "version": "3.12.2"
  }
 },
 "nbformat": 4,
 "nbformat_minor": 2
}
