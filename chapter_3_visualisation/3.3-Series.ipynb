{
 "cells": [
  {
   "cell_type": "markdown",
   "metadata": {},
   "source": [
    "# 3.3 Series\n",
    "`Series` is one of the two data structures the `pandas library supports`. The other data structure provided by `pandas` is the `DataFrame`.\n",
    "\n",
    "`Series` is a one-dimensional labeled array that contains any data type. A Series object is created with the `pandas.Series(data)` where data is an array-like objects (Python `list`, `ndarray`) or a Python dictionary `dict`."
   ]
  },
  {
   "cell_type": "code",
   "execution_count": 1,
   "metadata": {},
   "outputs": [
    {
     "name": "stdout",
     "output_type": "stream",
     "text": [
      "0    1\n",
      "1    2\n",
      "2    3\n",
      "dtype: int64\n"
     ]
    }
   ],
   "source": [
    "import pandas as pd\n",
    "\n",
    "arr = pd.Series([1,2,3])\n",
    "print(arr)"
   ]
  },
  {
   "cell_type": "markdown",
   "metadata": {},
   "source": [
    "From the printed output, the left column is the label of each row (a.k.a. index of the row) and the right column is the data. We can also see that the data type for this `Series` is `int64`.\n",
    "\n",
    "By default, `Series` uses the numerical index. We can change the index by specifying the argument `index=`. The value of `index` should be an array-like object with the same size as the data."
   ]
  },
  {
   "cell_type": "code",
   "execution_count": 2,
   "metadata": {},
   "outputs": [
    {
     "name": "stdout",
     "output_type": "stream",
     "text": [
      "a    1\n",
      "b    2\n",
      "c    3\n",
      "dtype: int64\n"
     ]
    }
   ],
   "source": [
    "import pandas as pd\n",
    "\n",
    "arr = pd.Series([1,2,3], index=['a','b','c'])\n",
    "print(arr)"
   ]
  },
  {
   "cell_type": "markdown",
   "metadata": {},
   "source": [
    "arr now has `['a','b','c']` as index instead of `[0,1,2]`. \n",
    "\n",
    "We can get the index of the `Series` with `Series.index`. "
   ]
  },
  {
   "cell_type": "code",
   "execution_count": 3,
   "metadata": {},
   "outputs": [
    {
     "name": "stdout",
     "output_type": "stream",
     "text": [
      "Index(['a', 'b', 'c'], dtype='object')\n"
     ]
    }
   ],
   "source": [
    "import pandas as pd\n",
    "\n",
    "arr = pd.Series([1,2,3], index=['a','b','c'])\n",
    "print(arr.index)"
   ]
  },
  {
   "cell_type": "markdown",
   "metadata": {},
   "source": [
    "If we pass a Python dictionary `dict` to create a `Series`,  the key of the `dict` becomes the index of the data."
   ]
  },
  {
   "cell_type": "code",
   "execution_count": 4,
   "metadata": {},
   "outputs": [
    {
     "name": "stdout",
     "output_type": "stream",
     "text": [
      "b    1\n",
      "a    2\n",
      "c    3\n",
      "dtype: int64\n"
     ]
    }
   ],
   "source": [
    "import pandas as pd\n",
    "\n",
    "arr = pd.Series({'b':1, 'a':2, 'c':3})\n",
    "print(arr)"
   ]
  },
  {
   "cell_type": "markdown",
   "metadata": {},
   "source": [
    "Note that the created Series follows the order of the `dict` instead of a sorted manner. If we pass the argument `index=`, the `Series` will follow the order in the index."
   ]
  },
  {
   "cell_type": "code",
   "execution_count": 5,
   "metadata": {},
   "outputs": [
    {
     "name": "stdout",
     "output_type": "stream",
     "text": [
      "a    2.0\n",
      "b    1.0\n",
      "c    3.0\n",
      "d    NaN\n",
      "dtype: float64\n"
     ]
    }
   ],
   "source": [
    "import pandas as pd\n",
    "\n",
    "arr = pd.Series({'b':1, 'a':2, 'c':3, 'e':4}, index=['a','b','c','d'])\n",
    "print(arr)"
   ]
  },
  {
   "cell_type": "markdown",
   "metadata": {},
   "source": [
    "In the created `Series`, only items with key in index is created. If an index does not exist as a key to the dictionary, it will be populated as `NaN`, which stands for **not-a-number**. If a key in the dictionary does not exist in the index, it will not be created in the Series.\n",
    "\n",
    "We can pass a scalar value, i.e. a single value, to create a `Series` with multiple `index`."
   ]
  },
  {
   "cell_type": "code",
   "execution_count": 6,
   "metadata": {},
   "outputs": [
    {
     "name": "stdout",
     "output_type": "stream",
     "text": [
      "a    1\n",
      "b    1\n",
      "c    1\n",
      "dtype: int64\n"
     ]
    }
   ],
   "source": [
    "import pandas as pd\n",
    "\n",
    "arr = pd.Series(1, index=['a','b','c'])\n",
    "print(arr)"
   ]
  },
  {
   "cell_type": "markdown",
   "metadata": {},
   "source": [
    "The same value will be used for all the indices created. \n",
    "\n"
   ]
  },
  {
   "cell_type": "markdown",
   "metadata": {},
   "source": [
    "## 3.3.1 Indexing and slicing Series\n",
    "**Access single item**\n",
    "\n",
    "The data in a `Series` can be accessed with their respective label (`index`)."
   ]
  },
  {
   "cell_type": "code",
   "execution_count": 7,
   "metadata": {},
   "outputs": [
    {
     "name": "stdout",
     "output_type": "stream",
     "text": [
      "2\n"
     ]
    }
   ],
   "source": [
    "import pandas as pd\n",
    "\n",
    "arr = pd.Series([1,2,3], index=['a','b','c'])\n",
    "print(arr['b'])"
   ]
  },
  {
   "cell_type": "markdown",
   "metadata": {},
   "source": [
    "If non-numerical index is specified, we can use numbers to access the data based on their position/sequence, i.e. 0 for the first item, 1 for the second item, and so forth."
   ]
  },
  {
   "cell_type": "code",
   "execution_count": null,
   "metadata": {},
   "outputs": [],
   "source": [
    "import pandas as pd\n",
    "\n",
    "arr = pd.Series([1,2,3], index=['a','b','c'])\n",
    "print(arr[0])"
   ]
  },
  {
   "cell_type": "markdown",
   "metadata": {},
   "source": [
    "If the `Series` is indexed with numerical values, numbers will be treated as the index instead of the position.\n",
    "\n"
   ]
  },
  {
   "cell_type": "code",
   "execution_count": 15,
   "metadata": {},
   "outputs": [
    {
     "name": "stdout",
     "output_type": "stream",
     "text": [
      "3    1\n",
      "0    2\n",
      "1    3\n",
      "dtype: int64\n",
      "2\n"
     ]
    }
   ],
   "source": [
    "import pandas as pd\n",
    "\n",
    "arr = pd.Series([1,2,3], index=[3,0,1])\n",
    "print(arr)\n",
    "print(arr[0])"
   ]
  },
  {
   "cell_type": "markdown",
   "metadata": {},
   "source": [
    "### 3.3.1.1 Slice a Series \n",
    "A `Series` can be sliced using a range of numerical index."
   ]
  },
  {
   "cell_type": "code",
   "execution_count": 16,
   "metadata": {},
   "outputs": [
    {
     "name": "stdout",
     "output_type": "stream",
     "text": [
      "b    2\n",
      "c    3\n",
      "dtype: int64\n"
     ]
    }
   ],
   "source": [
    "import pandas as pd\n",
    "\n",
    "arr = pd.Series([1,2,3], index=['a','b','c'])\n",
    "print(arr[1:])"
   ]
  },
  {
   "cell_type": "markdown",
   "metadata": {},
   "source": [
    "To access multiple items that are not positioned together, we can use a list of index to slice them. This applies to the label as well as the numerical indices.\n"
   ]
  },
  {
   "cell_type": "code",
   "execution_count": null,
   "metadata": {},
   "outputs": [],
   "source": [
    "import pandas as pd\n",
    "\n",
    "arr = pd.Series([1,2,3,4,5], index=['a','b','c','d','e'])\n",
    "print(arr[[0,2,4]])\n",
    "print(arr[['a','c','e']])"
   ]
  },
  {
   "cell_type": "markdown",
   "metadata": {},
   "source": [
    "Boolean indexing also applies for `Series`."
   ]
  },
  {
   "cell_type": "code",
   "execution_count": 18,
   "metadata": {},
   "outputs": [
    {
     "name": "stdout",
     "output_type": "stream",
     "text": [
      "d    4\n",
      "e    5\n",
      "dtype: int64\n",
      "a    1\n",
      "c    3\n",
      "e    5\n",
      "dtype: int64\n"
     ]
    }
   ],
   "source": [
    "import pandas as pd\n",
    "\n",
    "arr = pd.Series([1,2,3,4,5], index=['a','b','c','d','e'])\n",
    "print(arr[arr > 3])\n",
    "print(arr[arr % 2 == 1]) # odd numbers"
   ]
  },
  {
   "cell_type": "markdown",
   "metadata": {},
   "source": [
    "### 3.3.1.2 Indexing with .loc and .iloc\n",
    "pandas has also provided two methods for Series to perform indexing and slicing. In short, `.loc` is label based indexing and `.iloc` is integer position based indexing. Note that the inputs for `.loc` and `.iloc` are specified within square brackets `[]` instead of parentheses `()`.\n",
    "\n",
    "Label is the index that has been specified when a `Series` is created. Similar to the basic indexing and slicing using square brackets `[]`, we can use the following inputs allowed for `.loc`:\n",
    "\n",
    "- a single label\n",
    "- a list of labels\n",
    "- a slice object with labels\n",
    "\n",
    "**.loc with a single label**\n",
    "\n",
    "When we are using a single label as the input of `.loc`, it will be treated as the label and return the value of the label if the label exists in the `Series`. This is equivalent to `.at`."
   ]
  },
  {
   "cell_type": "code",
   "execution_count": 19,
   "metadata": {},
   "outputs": [
    {
     "name": "stdout",
     "output_type": "stream",
     "text": [
      "1\n",
      "1\n",
      "a\n",
      "a\n"
     ]
    }
   ],
   "source": [
    "import pandas as pd\n",
    "\n",
    "arr = pd.Series([1,2,3,4,5], index=['a','b','c','d','e'])\n",
    "print(arr.loc['a'])\n",
    "print(arr.at['a'])\n",
    "\n",
    "arr2 = pd.Series(['a','b','c','d','e'], index=[1,3,5,7,9])\n",
    "print(arr2.loc[1])\n",
    "print(arr2.at[1])"
   ]
  },
  {
   "cell_type": "markdown",
   "metadata": {},
   "source": [
    "**.loc with a list of labels**\n",
    "\n",
    "Multiple values can be accessed when we specify multiple labels in a list to `.loc`."
   ]
  },
  {
   "cell_type": "code",
   "execution_count": 20,
   "metadata": {},
   "outputs": [
    {
     "name": "stdout",
     "output_type": "stream",
     "text": [
      "a    1\n",
      "c    3\n",
      "e    5\n",
      "dtype: int64\n"
     ]
    }
   ],
   "source": [
    "import pandas as pd\n",
    "\n",
    "arr = pd.Series([1,2,3,4,5], index=['a','b','c','d','e'])\n",
    "print(arr.loc[['a','c','e']])"
   ]
  },
  {
   "cell_type": "markdown",
   "metadata": {},
   "source": [
    "**.loc with a slice object with labels**\n",
    "\n",
    "A slice object refers to using a colon `:` to specify a range of values."
   ]
  },
  {
   "cell_type": "code",
   "execution_count": 21,
   "metadata": {},
   "outputs": [
    {
     "name": "stdout",
     "output_type": "stream",
     "text": [
      "a    1\n",
      "b    2\n",
      "c    3\n",
      "d    4\n",
      "dtype: int64\n"
     ]
    }
   ],
   "source": [
    "import pandas as pd\n",
    "\n",
    "arr = pd.Series([1,2,3,4,5], index=['a','b','c','d','e'])\n",
    "print(arr.loc['a':'d'])"
   ]
  },
  {
   "cell_type": "markdown",
   "metadata": {},
   "source": [
    "Note that, while using a Python list with the syntax of `arr[start:stop:step]`, the sliced values do not include the value of stop. However in Series, using `.loc`, the value of the label stop is included. The following code snippet shows an example to illustrate this difference in behaviour."
   ]
  },
  {
   "cell_type": "code",
   "execution_count": 22,
   "metadata": {},
   "outputs": [
    {
     "name": "stdout",
     "output_type": "stream",
     "text": [
      "a    1\n",
      "b    2\n",
      "c    3\n",
      "d    4\n",
      "dtype: int64\n",
      "[1, 2, 3]\n"
     ]
    }
   ],
   "source": [
    "import pandas as pd\n",
    "\n",
    "arr = pd.Series([1,2,3,4,5], index=['a','b','c','d','e'])\n",
    "print(arr.loc['a':'d'])\n",
    "\n",
    "arr2 = [1,2,3,4,5]\n",
    "print(arr2[0:3])"
   ]
  },
  {
   "cell_type": "markdown",
   "metadata": {},
   "source": [
    "Similarly the allowed inputs for `.iloc` include\n",
    "- a single integer,\n",
    "- a list of integers, and\n",
    "- a slice object with integers.\n",
    "\n",
    "Only integers are allowed for `.iloc` as they will be interpreted as the position in the `Series`."
   ]
  },
  {
   "cell_type": "markdown",
   "metadata": {},
   "source": [
    "**.iloc with a single integer**\n",
    "\n",
    "The integer passed to `.iloc` will always be treated as the position even if the indices of the `Series` are integers. This is equivalent to `.iat`."
   ]
  },
  {
   "cell_type": "code",
   "execution_count": 23,
   "metadata": {},
   "outputs": [
    {
     "name": "stdout",
     "output_type": "stream",
     "text": [
      "1\n",
      "1\n",
      "b\n",
      "b\n"
     ]
    }
   ],
   "source": [
    "import pandas as pd\n",
    "\n",
    "arr = pd.Series([1,2,3,4,5], index=['a','b','c','d','e'])\n",
    "print(arr.iloc[0])\n",
    "print(arr.iat[0])\n",
    "\n",
    "arr2 = pd.Series(['a','b','c','d','e'], index=[1,3,5,7,9])\n",
    "print(arr2.iloc[1])\n",
    "print(arr2.iat[1])"
   ]
  },
  {
   "cell_type": "markdown",
   "metadata": {},
   "source": [
    "**.iloc with a list of integers**\n",
    "\n",
    "Multiple values can be accessed with a list of integers as the input for `.iloc`. "
   ]
  },
  {
   "cell_type": "code",
   "execution_count": 24,
   "metadata": {},
   "outputs": [
    {
     "name": "stdout",
     "output_type": "stream",
     "text": [
      "a    1\n",
      "b    2\n",
      "d    4\n",
      "dtype: int64\n"
     ]
    }
   ],
   "source": [
    "import pandas as pd\n",
    "\n",
    "arr = pd.Series([1,2,3,4,5], index=['a','b','c','d','e'])\n",
    "print(arr.iloc[[0,1,3]])"
   ]
  },
  {
   "cell_type": "markdown",
   "metadata": {},
   "source": [
    "**.iloc with a slice object with integers**\n",
    "\n",
    "We can use a slice object with integers to access or slice a range of values in a `Series`. Note that with .iloc the behaviour is similar to using the syntax `start:stop:step`, where the value of stop is not included, unless for `.loc`.\n",
    "\n"
   ]
  },
  {
   "cell_type": "code",
   "execution_count": 25,
   "metadata": {},
   "outputs": [
    {
     "name": "stdout",
     "output_type": "stream",
     "text": [
      "b    2\n",
      "c    3\n",
      "dtype: int64\n",
      "[2, 3]\n"
     ]
    }
   ],
   "source": [
    "import pandas as pd\n",
    "\n",
    "arr = pd.Series([1,2,3,4,5], index=['a','b','c','d','e'])\n",
    "print(arr.iloc[1:3])\n",
    "\n",
    "arr2 = [1,2,3,4,5]\n",
    "print(arr2[1:3])"
   ]
  },
  {
   "cell_type": "markdown",
   "metadata": {},
   "source": [
    "**How about boolean indexing?**\n",
    "\n",
    "Boolean indexing is available for both `.loc` and `.iloc` with the same expected outcome."
   ]
  },
  {
   "cell_type": "code",
   "execution_count": 26,
   "metadata": {},
   "outputs": [
    {
     "name": "stdout",
     "output_type": "stream",
     "text": [
      "a    1\n",
      "b    2\n",
      "dtype: int64\n",
      "a    1\n",
      "b    2\n",
      "dtype: int64\n"
     ]
    }
   ],
   "source": [
    "import pandas as pd\n",
    "\n",
    "arr = pd.Series([1,2,3,4,5], index=['a','b','c','d','e'])\n",
    "boo = [True, True, False, False, False]\n",
    "print(arr.loc[boo])\n",
    "print(arr.iloc[boo])"
   ]
  },
  {
   "cell_type": "markdown",
   "metadata": {},
   "source": [
    "How about if we want to slice the values that's less than 3? Can we do `arr.loc[arr<3]` and `arr.iloc[arr<3]`? Short answer, yes for `arr.loc[arr<3]`, it will return the expected result, whereas no for `arr.iloc[arr<3]`, it will raise a `ValueError` exception.\n",
    "\n",
    "To understand this behaviour, we need to first understand the output of `arr<3`."
   ]
  },
  {
   "cell_type": "code",
   "execution_count": 27,
   "metadata": {},
   "outputs": [
    {
     "name": "stdout",
     "output_type": "stream",
     "text": [
      "a     True\n",
      "b     True\n",
      "c    False\n",
      "d    False\n",
      "e    False\n",
      "dtype: bool\n"
     ]
    }
   ],
   "source": [
    "import pandas as pd\n",
    "\n",
    "arr = pd.Series([1,2,3,4,5], index=['a','b','c','d','e'])\n",
    "print(arr<3)"
   ]
  },
  {
   "cell_type": "markdown",
   "metadata": {},
   "source": [
    "As seen from the previous code snippet, arr<3 creates a Series with the same label/index as the original `Series`. The boolean values are therefore mapped to the specific labels. In this case, we have a and b being True and others being False. Therefore doing `arr.loc[arr<3]` will produce the output identical to `arr.loc[['a','b']]`. "
   ]
  },
  {
   "cell_type": "code",
   "execution_count": 28,
   "metadata": {},
   "outputs": [
    {
     "name": "stdout",
     "output_type": "stream",
     "text": [
      "a    1\n",
      "b    2\n",
      "dtype: int64\n"
     ]
    }
   ],
   "source": [
    "import pandas as pd\n",
    "\n",
    "arr = pd.Series([1,2,3,4,5], index=['a','b','c','d','e'])\n",
    "print(arr.loc[arr<3])"
   ]
  },
  {
   "cell_type": "markdown",
   "metadata": {},
   "source": [
    "If we use `arr.iloc[arr<3]`, `iloc` will try to map the `a` and `b` with the integer position, which are not available. A workaround would be to convert the Series created from `arr<3` to list before passing as input for `.iloc`. This will create a list of boolean values, which will be mapped according to the position instead of label."
   ]
  },
  {
   "cell_type": "code",
   "execution_count": 29,
   "metadata": {},
   "outputs": [
    {
     "name": "stdout",
     "output_type": "stream",
     "text": [
      "[True, True, False, False, False]\n",
      "a    1\n",
      "b    2\n",
      "dtype: int64\n"
     ]
    }
   ],
   "source": [
    "import pandas as pd\n",
    "\n",
    "arr = pd.Series([1,2,3,4,5], index=['a','b','c','d','e'])\n",
    "lessthan3 = list(arr<3)\n",
    "print(lessthan3)\n",
    "print(arr.iloc[lessthan3])"
   ]
  },
  {
   "cell_type": "markdown",
   "metadata": {},
   "source": [
    "How about if the labels of the `Series` are integers? To avoid confusion of whether the integers refer to the label or the position, `.iloc` blocked the usage. We can see the exception raised when this situation happens in the following code snippet."
   ]
  },
  {
   "cell_type": "code",
   "execution_count": 30,
   "metadata": {},
   "outputs": [
    {
     "name": "stdout",
     "output_type": "stream",
     "text": [
      "5     True\n",
      "4     True\n",
      "3    False\n",
      "2    False\n",
      "1    False\n",
      "dtype: bool\n",
      "\n",
      ".loc\n",
      "5    1\n",
      "4    2\n",
      "dtype: int64\n",
      "\n",
      ".iloc\n"
     ]
    },
    {
     "ename": "NotImplementedError",
     "evalue": "iLocation based boolean indexing on an integer type is not available",
     "output_type": "error",
     "traceback": [
      "\u001b[1;31m---------------------------------------------------------------------------\u001b[0m",
      "\u001b[1;31mNotImplementedError\u001b[0m                       Traceback (most recent call last)",
      "Cell \u001b[1;32mIn[30], line 11\u001b[0m\n\u001b[0;32m      8\u001b[0m \u001b[38;5;28mprint\u001b[39m(arr\u001b[38;5;241m.\u001b[39mloc[lessthan3])\n\u001b[0;32m     10\u001b[0m \u001b[38;5;28mprint\u001b[39m(\u001b[38;5;124m\"\u001b[39m\u001b[38;5;130;01m\\n\u001b[39;00m\u001b[38;5;124m.iloc\u001b[39m\u001b[38;5;124m\"\u001b[39m)\n\u001b[1;32m---> 11\u001b[0m \u001b[38;5;28mprint\u001b[39m(\u001b[43marr\u001b[49m\u001b[38;5;241;43m.\u001b[39;49m\u001b[43miloc\u001b[49m\u001b[43m[\u001b[49m\u001b[43mlessthan3\u001b[49m\u001b[43m]\u001b[49m)\n",
      "File \u001b[1;32mc:\\Users\\Winnie Ng\\AppData\\Local\\Programs\\Python\\Python312\\Lib\\site-packages\\pandas\\core\\indexing.py:1191\u001b[0m, in \u001b[0;36m_LocationIndexer.__getitem__\u001b[1;34m(self, key)\u001b[0m\n\u001b[0;32m   1189\u001b[0m maybe_callable \u001b[38;5;241m=\u001b[39m com\u001b[38;5;241m.\u001b[39mapply_if_callable(key, \u001b[38;5;28mself\u001b[39m\u001b[38;5;241m.\u001b[39mobj)\n\u001b[0;32m   1190\u001b[0m maybe_callable \u001b[38;5;241m=\u001b[39m \u001b[38;5;28mself\u001b[39m\u001b[38;5;241m.\u001b[39m_check_deprecated_callable_usage(key, maybe_callable)\n\u001b[1;32m-> 1191\u001b[0m \u001b[38;5;28;01mreturn\u001b[39;00m \u001b[38;5;28;43mself\u001b[39;49m\u001b[38;5;241;43m.\u001b[39;49m\u001b[43m_getitem_axis\u001b[49m\u001b[43m(\u001b[49m\u001b[43mmaybe_callable\u001b[49m\u001b[43m,\u001b[49m\u001b[43m \u001b[49m\u001b[43maxis\u001b[49m\u001b[38;5;241;43m=\u001b[39;49m\u001b[43maxis\u001b[49m\u001b[43m)\u001b[49m\n",
      "File \u001b[1;32mc:\\Users\\Winnie Ng\\AppData\\Local\\Programs\\Python\\Python312\\Lib\\site-packages\\pandas\\core\\indexing.py:1738\u001b[0m, in \u001b[0;36m_iLocIndexer._getitem_axis\u001b[1;34m(self, key, axis)\u001b[0m\n\u001b[0;32m   1735\u001b[0m     key \u001b[38;5;241m=\u001b[39m np\u001b[38;5;241m.\u001b[39masarray(key)\n\u001b[0;32m   1737\u001b[0m \u001b[38;5;28;01mif\u001b[39;00m com\u001b[38;5;241m.\u001b[39mis_bool_indexer(key):\n\u001b[1;32m-> 1738\u001b[0m     \u001b[38;5;28;43mself\u001b[39;49m\u001b[38;5;241;43m.\u001b[39;49m\u001b[43m_validate_key\u001b[49m\u001b[43m(\u001b[49m\u001b[43mkey\u001b[49m\u001b[43m,\u001b[49m\u001b[43m \u001b[49m\u001b[43maxis\u001b[49m\u001b[43m)\u001b[49m\n\u001b[0;32m   1739\u001b[0m     \u001b[38;5;28;01mreturn\u001b[39;00m \u001b[38;5;28mself\u001b[39m\u001b[38;5;241m.\u001b[39m_getbool_axis(key, axis\u001b[38;5;241m=\u001b[39maxis)\n\u001b[0;32m   1741\u001b[0m \u001b[38;5;66;03m# a list of integers\u001b[39;00m\n",
      "File \u001b[1;32mc:\\Users\\Winnie Ng\\AppData\\Local\\Programs\\Python\\Python312\\Lib\\site-packages\\pandas\\core\\indexing.py:1578\u001b[0m, in \u001b[0;36m_iLocIndexer._validate_key\u001b[1;34m(self, key, axis)\u001b[0m\n\u001b[0;32m   1576\u001b[0m \u001b[38;5;28;01mif\u001b[39;00m \u001b[38;5;28mhasattr\u001b[39m(key, \u001b[38;5;124m\"\u001b[39m\u001b[38;5;124mindex\u001b[39m\u001b[38;5;124m\"\u001b[39m) \u001b[38;5;129;01mand\u001b[39;00m \u001b[38;5;28misinstance\u001b[39m(key\u001b[38;5;241m.\u001b[39mindex, Index):\n\u001b[0;32m   1577\u001b[0m     \u001b[38;5;28;01mif\u001b[39;00m key\u001b[38;5;241m.\u001b[39mindex\u001b[38;5;241m.\u001b[39minferred_type \u001b[38;5;241m==\u001b[39m \u001b[38;5;124m\"\u001b[39m\u001b[38;5;124minteger\u001b[39m\u001b[38;5;124m\"\u001b[39m:\n\u001b[1;32m-> 1578\u001b[0m         \u001b[38;5;28;01mraise\u001b[39;00m \u001b[38;5;167;01mNotImplementedError\u001b[39;00m(\n\u001b[0;32m   1579\u001b[0m             \u001b[38;5;124m\"\u001b[39m\u001b[38;5;124miLocation based boolean \u001b[39m\u001b[38;5;124m\"\u001b[39m\n\u001b[0;32m   1580\u001b[0m             \u001b[38;5;124m\"\u001b[39m\u001b[38;5;124mindexing on an integer type \u001b[39m\u001b[38;5;124m\"\u001b[39m\n\u001b[0;32m   1581\u001b[0m             \u001b[38;5;124m\"\u001b[39m\u001b[38;5;124mis not available\u001b[39m\u001b[38;5;124m\"\u001b[39m\n\u001b[0;32m   1582\u001b[0m         )\n\u001b[0;32m   1583\u001b[0m     \u001b[38;5;28;01mraise\u001b[39;00m \u001b[38;5;167;01mValueError\u001b[39;00m(\n\u001b[0;32m   1584\u001b[0m         \u001b[38;5;124m\"\u001b[39m\u001b[38;5;124miLocation based boolean indexing cannot use \u001b[39m\u001b[38;5;124m\"\u001b[39m\n\u001b[0;32m   1585\u001b[0m         \u001b[38;5;124m\"\u001b[39m\u001b[38;5;124man indexable as a mask\u001b[39m\u001b[38;5;124m\"\u001b[39m\n\u001b[0;32m   1586\u001b[0m     )\n\u001b[0;32m   1587\u001b[0m \u001b[38;5;28;01mreturn\u001b[39;00m\n",
      "\u001b[1;31mNotImplementedError\u001b[0m: iLocation based boolean indexing on an integer type is not available"
     ]
    }
   ],
   "source": [
    "import pandas as pd\n",
    "\n",
    "arr = pd.Series([1,2,3,4,5], index=[5,4,3,2,1])\n",
    "lessthan3 = arr < 3\n",
    "print(lessthan3)\n",
    "\n",
    "print(\"\\n.loc\")\n",
    "print(arr.loc[lessthan3])\n",
    "\n",
    "print(\"\\n.iloc\")\n",
    "print(arr.iloc[lessthan3])"
   ]
  }
 ],
 "metadata": {
  "kernelspec": {
   "display_name": "Python 3",
   "language": "python",
   "name": "python3"
  },
  "language_info": {
   "codemirror_mode": {
    "name": "ipython",
    "version": 3
   },
   "file_extension": ".py",
   "mimetype": "text/x-python",
   "name": "python",
   "nbconvert_exporter": "python",
   "pygments_lexer": "ipython3",
   "version": "3.12.2"
  }
 },
 "nbformat": 4,
 "nbformat_minor": 2
}
