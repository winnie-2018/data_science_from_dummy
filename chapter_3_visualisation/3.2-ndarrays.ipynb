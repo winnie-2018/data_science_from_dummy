{
 "cells": [
  {
   "cell_type": "markdown",
   "metadata": {},
   "source": [
    "# 3.2 ndarrays\n",
    "An `ndarray` is a multidimensional container of items of the same type and size, in other words, an N-dimensional array. \n",
    "\n",
    "- **Create**\n",
    "  \n",
    "An `ndarray` is created by using the `numpy.array` function. The simplest way of creating an `ndarray` is by passing a list into the function `numpy.array`. "
   ]
  },
  {
   "cell_type": "code",
   "execution_count": 1,
   "metadata": {},
   "outputs": [
    {
     "name": "stdout",
     "output_type": "stream",
     "text": [
      "[[1 2 3]\n",
      " [4 5 6]]\n"
     ]
    }
   ],
   "source": [
    "import numpy as np\n",
    "\n",
    "arr = np.array([[1,2,3],[4,5,6]])\n",
    "print(arr)"
   ]
  },
  {
   "cell_type": "markdown",
   "metadata": {},
   "source": [
    "- **Size**\n",
    "\n",
    "The above code snippet creates an `ndarray` of size 2 by 3 (also written as 2 x 3). It's always advisable that, for an `ndarray`, there is a fixed size for each dimension. For example, `[[1,2,3],[4,5,6]]` is a 2-dimensional array of 2 by 3; the first dimension has the size of 2 and the second dimension has the size of 3. If we consider the first dimension being the rows and the second dimension being the columns, we can construct a table of 2 by 3 of this array. \n",
    "\n",
    "~~~\n",
    "|  1  |  2  |  3  |\n",
    "|  4  |  5  |  6  |\n",
    "~~~\n",
    "\n",
    "An example of array with unfixed size for every dimension is `[[1,2,3],[4,5]]`. The first dimension has the size of 2, and for the second dimension, the first item has the size of 3 whereas the second item has the size of 2. It's perfectly okay to create such array as a normal Python array. However, to create it as an `ndarray`, we will receive an error as shown in the following code snippet."
   ]
  },
  {
   "cell_type": "code",
   "execution_count": 2,
   "metadata": {},
   "outputs": [
    {
     "ename": "ValueError",
     "evalue": "setting an array element with a sequence. The requested array has an inhomogeneous shape after 1 dimensions. The detected shape was (2,) + inhomogeneous part.",
     "output_type": "error",
     "traceback": [
      "\u001b[1;31m---------------------------------------------------------------------------\u001b[0m",
      "\u001b[1;31mValueError\u001b[0m                                Traceback (most recent call last)",
      "Cell \u001b[1;32mIn[2], line 4\u001b[0m\n\u001b[0;32m      1\u001b[0m \u001b[38;5;28;01mimport\u001b[39;00m \u001b[38;5;21;01mnumpy\u001b[39;00m \u001b[38;5;28;01mas\u001b[39;00m \u001b[38;5;21;01mnp\u001b[39;00m\n\u001b[0;32m      3\u001b[0m pyarr \u001b[38;5;241m=\u001b[39m [[\u001b[38;5;241m1\u001b[39m,\u001b[38;5;241m2\u001b[39m,\u001b[38;5;241m3\u001b[39m],[\u001b[38;5;241m4\u001b[39m,\u001b[38;5;241m5\u001b[39m]]\n\u001b[1;32m----> 4\u001b[0m arr \u001b[38;5;241m=\u001b[39m \u001b[43mnp\u001b[49m\u001b[38;5;241;43m.\u001b[39;49m\u001b[43marray\u001b[49m\u001b[43m(\u001b[49m\u001b[43mpyarr\u001b[49m\u001b[43m)\u001b[49m\n\u001b[0;32m      5\u001b[0m \u001b[38;5;28mprint\u001b[39m(arr)\n",
      "\u001b[1;31mValueError\u001b[0m: setting an array element with a sequence. The requested array has an inhomogeneous shape after 1 dimensions. The detected shape was (2,) + inhomogeneous part."
     ]
    }
   ],
   "source": [
    "import numpy as np\n",
    "\n",
    "pyarr = [[1,2,3],[4,5]]\n",
    "arr = np.array(pyarr)\n",
    "print(arr)"
   ]
  },
  {
   "cell_type": "markdown",
   "metadata": {},
   "source": [
    "After we run the code snippet above, we will get an error about deprecation. The main reason creating an ndarray from array with unfixed size is not recommended is because ndarray is creating data similar to a table. By having unfixed size as shown in the code snippet above, the ndarray created is actually a 1d array with two elements. The first element is a list of `[1,2,3]`, and the second element is a list of `[4,5]`. The ndarray is **not**\n",
    "\n",
    "```\n",
    "[[1,2,3],\n",
    " [4,5,None]]\n",
    "```\n",
    "Therefore be cautious and always be aware of what we are expecting the code to produce for us.\n",
    "\n",
    "- **Type**\n",
    "\n",
    "The intended use of an `ndarray` is to contain items of the same type. To ensure all items are of the same type, we can pass the type as the second argument when creating the array with `numpy.array`. This is useful when the array is constructed elsewhere and we can use it to validate if all items are as intended."
   ]
  },
  {
   "cell_type": "code",
   "execution_count": 3,
   "metadata": {},
   "outputs": [
    {
     "name": "stdout",
     "output_type": "stream",
     "text": [
      "[[1 2 3]\n",
      " [4 5 6]]\n"
     ]
    }
   ],
   "source": [
    "import numpy as np\n",
    "\n",
    "arr = np.array([[1,2,3],[4,5,6]], np.int32)\n",
    "print(arr)"
   ]
  },
  {
   "cell_type": "markdown",
   "metadata": {},
   "source": [
    "The previous code snippet informs numpy.array that the items are supposed to be (and will be converted into) `numpy.int32`. If we provide a text character as one of the items, as it can't be converted to a `numpy.int32`, an exception will be raised."
   ]
  },
  {
   "cell_type": "code",
   "execution_count": 4,
   "metadata": {},
   "outputs": [
    {
     "ename": "ValueError",
     "evalue": "invalid literal for int() with base 10: 'a'",
     "output_type": "error",
     "traceback": [
      "\u001b[1;31m---------------------------------------------------------------------------\u001b[0m",
      "\u001b[1;31mValueError\u001b[0m                                Traceback (most recent call last)",
      "Cell \u001b[1;32mIn[4], line 3\u001b[0m\n\u001b[0;32m      1\u001b[0m \u001b[38;5;28;01mimport\u001b[39;00m \u001b[38;5;21;01mnumpy\u001b[39;00m \u001b[38;5;28;01mas\u001b[39;00m \u001b[38;5;21;01mnp\u001b[39;00m\n\u001b[1;32m----> 3\u001b[0m arr \u001b[38;5;241m=\u001b[39m \u001b[43mnp\u001b[49m\u001b[38;5;241;43m.\u001b[39;49m\u001b[43marray\u001b[49m\u001b[43m(\u001b[49m\u001b[43m[\u001b[49m\u001b[43m[\u001b[49m\u001b[38;5;241;43m1\u001b[39;49m\u001b[43m,\u001b[49m\u001b[38;5;241;43m2\u001b[39;49m\u001b[43m,\u001b[49m\u001b[38;5;241;43m3\u001b[39;49m\u001b[43m]\u001b[49m\u001b[43m,\u001b[49m\u001b[43m[\u001b[49m\u001b[38;5;241;43m4\u001b[39;49m\u001b[43m,\u001b[49m\u001b[38;5;241;43m5\u001b[39;49m\u001b[43m,\u001b[49m\u001b[38;5;124;43m'\u001b[39;49m\u001b[38;5;124;43ma\u001b[39;49m\u001b[38;5;124;43m'\u001b[39;49m\u001b[43m]\u001b[49m\u001b[43m]\u001b[49m\u001b[43m,\u001b[49m\u001b[43m \u001b[49m\u001b[43mnp\u001b[49m\u001b[38;5;241;43m.\u001b[39;49m\u001b[43mint32\u001b[49m\u001b[43m)\u001b[49m\n\u001b[0;32m      4\u001b[0m \u001b[38;5;28mprint\u001b[39m(arr)\n",
      "\u001b[1;31mValueError\u001b[0m: invalid literal for int() with base 10: 'a'"
     ]
    }
   ],
   "source": [
    "import numpy as np\n",
    "\n",
    "arr = np.array([[1,2,3],[4,5,'a']], np.int32)\n",
    "print(arr)"
   ]
  },
  {
   "cell_type": "markdown",
   "metadata": {},
   "source": [
    "The data type (`dtype`) passed as the second argument of `numpy.array` has to be a numpy data type. The list of numpy data types can be found [here](https://numpy.org/doc/stable/reference/arrays.scalars.html)."
   ]
  },
  {
   "cell_type": "markdown",
   "metadata": {},
   "source": [
    "- **Information of a numpy.array**\n",
    "\n",
    "Once we created an `ndarray`, the library provided some useful methods to access the information of the `ndarray`."
   ]
  },
  {
   "cell_type": "code",
   "execution_count": 5,
   "metadata": {},
   "outputs": [
    {
     "name": "stdout",
     "output_type": "stream",
     "text": [
      "Number of dimensions: 2\n",
      "Shape: (2, 3)\n",
      "Number of items: 6\n",
      "Item type: int32\n"
     ]
    }
   ],
   "source": [
    "import numpy as np\n",
    "\n",
    "arr = np.array([[1,2,3],[4,5,6]], np.int32)\n",
    "print(f\"Number of dimensions: {arr.ndim}\")\n",
    "print(f\"Shape: {arr.shape}\")\n",
    "print(f\"Number of items: {arr.size}\")\n",
    "print(f\"Item type: {arr.dtype}\")"
   ]
  },
  {
   "cell_type": "markdown",
   "metadata": {},
   "source": [
    "- **Create ndarray of specific values**\n",
    "\n",
    "NumPy provides `numpy.empty` to create an empty array of a specific shape. To create an ndarray of shape 2 by 3, we will use `numpy.empty`(`[2,3]`). By default, the `ndarray` is created with `dtype=numpy.float64`. This can be changed by passing the `dtype=...` argument to change the type of the items.\n",
    "\n"
   ]
  },
  {
   "cell_type": "code",
   "execution_count": 6,
   "metadata": {},
   "outputs": [
    {
     "name": "stdout",
     "output_type": "stream",
     "text": [
      "[[9.34577196e-307 9.34598246e-307 1.60218491e-306]\n",
      " [1.69119873e-306 1.24611673e-306 1.05699581e-307]]\n"
     ]
    }
   ],
   "source": [
    "import numpy as np\n",
    "\n",
    "arr = np.empty([2,3])\n",
    "print(arr)"
   ]
  },
  {
   "cell_type": "markdown",
   "metadata": {},
   "source": [
    "We can then use the `.fill` method of the ndarray to populate all the items as a certain value.\n",
    "\n"
   ]
  },
  {
   "cell_type": "code",
   "execution_count": 7,
   "metadata": {},
   "outputs": [
    {
     "name": "stdout",
     "output_type": "stream",
     "text": [
      "[[3. 3. 3.]\n",
      " [3. 3. 3.]]\n"
     ]
    }
   ],
   "source": [
    "import numpy as np\n",
    "\n",
    "arr = np.empty([2,3])\n",
    "arr.fill(3)\n",
    "print(arr)"
   ]
  },
  {
   "cell_type": "markdown",
   "metadata": {},
   "source": [
    "To accelerate this process, NumPy has also provided the function of `numpy.ones`, `numpy.zeros`, and `numpy.full`:\n",
    "\n",
    "- `numpy.ones` creates an array filled with 1's\n",
    "- `numpy.zeros` creates an array filled with 0's \n",
    "- `numpy.full` creates an array filled with specified value."
   ]
  },
  {
   "cell_type": "code",
   "execution_count": 8,
   "metadata": {},
   "outputs": [
    {
     "name": "stdout",
     "output_type": "stream",
     "text": [
      "[[1. 1. 1.]\n",
      " [1. 1. 1.]]\n",
      "\n",
      "[[0. 0. 0.]\n",
      " [0. 0. 0.]]\n",
      "\n",
      "[[3 3 3]\n",
      " [3 3 3]]\n"
     ]
    }
   ],
   "source": [
    "import numpy as np\n",
    "\n",
    "shape = [2,3]\n",
    "arr = np.ones(shape)\n",
    "print(arr)\n",
    "print(\"\")\n",
    "arr = np.zeros(shape)\n",
    "print(arr)\n",
    "print(\"\")\n",
    "arr = np.full(shape, 3)\n",
    "print(arr)"
   ]
  },
  {
   "cell_type": "markdown",
   "metadata": {},
   "source": [
    "If we have an array and we want to create an empty array with the same shape, NumPy provides the function `numpy.empty_like` to help us to achieve it."
   ]
  },
  {
   "cell_type": "code",
   "execution_count": 9,
   "metadata": {},
   "outputs": [
    {
     "name": "stdout",
     "output_type": "stream",
     "text": [
      "[[4 4 4]\n",
      " [4 4 4]]\n"
     ]
    }
   ],
   "source": [
    "import numpy as np\n",
    "\n",
    "ori = np.array([[1,2,3],[4,5,6]])\n",
    "arr = np.empty_like(ori) \n",
    "arr.fill(4)\n",
    "print(arr)"
   ]
  },
  {
   "cell_type": "markdown",
   "metadata": {},
   "source": [
    "Similar functions such as `numpy.ones_like`, `numpy.zeros_like`, and `numpy.full_like` create arrays pre-filled with different values."
   ]
  },
  {
   "cell_type": "markdown",
   "metadata": {},
   "source": [
    "## 3.2.1 Indexing and slicing ndarrays\n",
    "Indexing allows us to access a certain item in an array using an index. Slicing allows us to extract a group of items from the arrays using their indices."
   ]
  },
  {
   "cell_type": "markdown",
   "metadata": {},
   "source": [
    "**Basic**\n",
    "\n",
    "The basic indexing and slicing for a 1-D ndarray is identical to that of the standard Python list. To access a single item, we will just use the syntax of `arr[index]`, whereas for a range of items, we use the syntax of `start:stop:step`. \n",
    "\n",
    "The `start`, `stop`, and `step` are all optional. If step is not specified, it's assumed to be 1. If stop is not specified, it's assumed to include up to the last item. If start is not specified, it's assumed to include from the first item. Generally, if we are not to specify step, we will omit the second colon `:`. So to include every item, we can also use `arr[:]`.\n",
    "\n",
    "> To slice an array with in reverse order, we can use a negative value as step. For example, `arr[4:2:-1]` will give us `[4, 3]`. If we only specify `arr[4:2]`, the output will be an empty array.\n",
    "\n",
    "> Negative indexing for start and stop are used to refer to index of the item counting from reverse order. `-1` will refer to the last item, `-2` the second last item, and so on."
   ]
  },
  {
   "cell_type": "code",
   "execution_count": 10,
   "metadata": {},
   "outputs": [
    {
     "name": "stdout",
     "output_type": "stream",
     "text": [
      "[2, 3]\n",
      "[2]\n"
     ]
    }
   ],
   "source": [
    "import numpy as np\n",
    "\n",
    "arr = [0,1,2,3,4,5]\n",
    "narr = np.array(arr)\n",
    "\n",
    "print(arr[2:4])\n",
    "print(narr[2:4:2])"
   ]
  },
  {
   "cell_type": "markdown",
   "metadata": {},
   "source": [
    "**Two dimensions and above**\n",
    "- Indexing single item\n",
    "\n",
    "To access a single item in an ndarray with more than one dimension, we can use multiple pairs of square brackets similar to the Python list."
   ]
  },
  {
   "cell_type": "code",
   "execution_count": 11,
   "metadata": {},
   "outputs": [
    {
     "name": "stdout",
     "output_type": "stream",
     "text": [
      "6\n",
      "6\n"
     ]
    }
   ],
   "source": [
    "import numpy as np\n",
    "\n",
    "arr = [ [1,2,3], [4,5,6] ]\n",
    "narr = np.array(arr)\n",
    "\n",
    "print(arr[1][2])\n",
    "print(narr[1][2])"
   ]
  },
  {
   "cell_type": "markdown",
   "metadata": {},
   "source": [
    "The example shows the indexing of the item of index 1 in the first dimension, and index `2` in the second dimension. The item of index `1` in the first dimension is `[4,5,6]`, and the item of index `2` in the indexed item is `6`.\n",
    "\n",
    "For ndarray, we can also index with a list of indices, where the first index is for the first dimension, the second for the second dimension, and so on. So to access the same item as the previous example, we will use `[1,2]` as the index for narr."
   ]
  },
  {
   "cell_type": "code",
   "execution_count": 12,
   "metadata": {},
   "outputs": [
    {
     "name": "stdout",
     "output_type": "stream",
     "text": [
      "6\n"
     ]
    }
   ],
   "source": [
    "import numpy as np\n",
    "\n",
    "arr = [ [1,2,3], [4,5,6] ]\n",
    "narr = np.array(arr)\n",
    "\n",
    "print(narr[1,2])"
   ]
  },
  {
   "cell_type": "markdown",
   "metadata": {},
   "source": [
    "Note that indexing with a list of indices will not work for a Python list. For a Python list, taking the example of `arr = [[1,2,3],[4,5,6]]`, to index the value 6, which is the third element of the second element, we would need to do `arr[1][2]`. If we do `arr[1,2]`, an exception will be raised."
   ]
  },
  {
   "cell_type": "code",
   "execution_count": 13,
   "metadata": {},
   "outputs": [
    {
     "name": "stdout",
     "output_type": "stream",
     "text": [
      "6\n"
     ]
    },
    {
     "ename": "TypeError",
     "evalue": "list indices must be integers or slices, not tuple",
     "output_type": "error",
     "traceback": [
      "\u001b[1;31m---------------------------------------------------------------------------\u001b[0m",
      "\u001b[1;31mTypeError\u001b[0m                                 Traceback (most recent call last)",
      "Cell \u001b[1;32mIn[13], line 3\u001b[0m\n\u001b[0;32m      1\u001b[0m arr \u001b[38;5;241m=\u001b[39m [ [\u001b[38;5;241m1\u001b[39m,\u001b[38;5;241m2\u001b[39m,\u001b[38;5;241m3\u001b[39m], [\u001b[38;5;241m4\u001b[39m,\u001b[38;5;241m5\u001b[39m,\u001b[38;5;241m6\u001b[39m] ]\n\u001b[0;32m      2\u001b[0m \u001b[38;5;28mprint\u001b[39m(arr[\u001b[38;5;241m1\u001b[39m][\u001b[38;5;241m2\u001b[39m])\n\u001b[1;32m----> 3\u001b[0m \u001b[38;5;28mprint\u001b[39m(\u001b[43marr\u001b[49m\u001b[43m[\u001b[49m\u001b[38;5;241;43m1\u001b[39;49m\u001b[43m,\u001b[49m\u001b[38;5;241;43m2\u001b[39;49m\u001b[43m]\u001b[49m)\n",
      "\u001b[1;31mTypeError\u001b[0m: list indices must be integers or slices, not tuple"
     ]
    }
   ],
   "source": [
    "arr = [ [1,2,3], [4,5,6] ]\n",
    "print(arr[1][2])\n",
    "print(arr[1,2])"
   ]
  },
  {
   "cell_type": "markdown",
   "metadata": {},
   "source": [
    "- Slicing\n",
    "\n",
    "To slice an ndarray of multiple dimensions, we can apply the syntax start:stop:step on each dimension. Take the following example of a 3-dimensional array with the size of 3 by 3 by 3."
   ]
  },
  {
   "cell_type": "code",
   "execution_count": 14,
   "metadata": {},
   "outputs": [
    {
     "name": "stdout",
     "output_type": "stream",
     "text": [
      "[[[ 5  6]\n",
      "  [ 8  9]]\n",
      "\n",
      " [[15 16]\n",
      "  [18 19]]]\n"
     ]
    }
   ],
   "source": [
    "import numpy as np\n",
    "\n",
    "arr = [ \n",
    "    [ [1,2,3], [4,5,6], [7,8,9] ], \n",
    "    [ [11,12,13], [14,15,16], [17,18,19] ], \n",
    "    [ [21,22,23], [24,25,26], [27,28,29] ]\n",
    "]\n",
    "narr = np.array(arr)\n",
    "print(narr[:2, 1:, 1:])"
   ]
  },
  {
   "cell_type": "markdown",
   "metadata": {},
   "source": [
    "The example shows an attempt to slice the ndarray with `[:2, 1:, 1:]`. To break it down, for the first dimension `:2`, we are slicing items with an index of `0` and `1`, i.e. \n",
    "\n",
    "```\n",
    "[\n",
    "    [[1,2,3], [4,5,6], [7,8,9]],\n",
    "    [[11,12,13], [14,15,16], [17,18,19]]\n",
    "]\n",
    "```\n",
    "\n",
    "For the second dimension `1:`, we are slicing items with an index of 1 and 2. Therefore we will get\n",
    "```\n",
    "[\n",
    "    [[4,5,6], [7,8,9]],\n",
    "    [[14,15,16], [17,18,19]]\n",
    "]\n",
    "```\n",
    "\n",
    "For the third dimension `1:`, we are slicing items with an index of 1 and 2 again. Therefore we will have\n",
    "```\n",
    "[\n",
    "    [[5,6], [8,9]],\n",
    "    [[15,16], [18,19]]\n",
    "]\n",
    "```"
   ]
  },
  {
   "cell_type": "markdown",
   "metadata": {},
   "source": [
    "**Advanced indexing**\n",
    "- Indexing with integer array\n",
    "\n",
    "Aside from using the syntax of `start:stop:step`, we can also use a list of integers for each dimension. However, the outcome of this is different from using the syntax of `start:stop:step`. "
   ]
  },
  {
   "cell_type": "code",
   "execution_count": 15,
   "metadata": {},
   "outputs": [
    {
     "name": "stdout",
     "output_type": "stream",
     "text": [
      "[ 2 19]\n"
     ]
    }
   ],
   "source": [
    "import numpy as np\n",
    "\n",
    "arr = [ \n",
    "    [ [1,2,3], [4,5,6], [7,8,9] ], \n",
    "    [ [11,12,13], [14,15,16], [17,18,19] ], \n",
    "    [ [21,22,23], [24,25,26], [27,28,29] ]\n",
    "]\n",
    "narr = np.array(arr)\n",
    "print(narr[[0,1], [0,2], [1,2]])"
   ]
  },
  {
   "cell_type": "markdown",
   "metadata": {},
   "source": [
    "In this example, `narr[[0,1],[0,2],[1,2]]`, we are indexing two items. The first item is `narr[0,0,1]` and the second item is `narr[1,2,2]`. \n",
    "\n",
    "> The use of `start:stop:step` and the integer list can be combined. However, the interaction is more complicated. We won't be discussing on that in this lesson but you may explore it further.\n",
    "\n",
    "- Indexing with boolean array\n",
    "\n",
    "An ndarray can also be indexed with a boolean array. The shape of the boolean array to be used as an index is expected to have the same shape as the array to be indexed."
   ]
  },
  {
   "cell_type": "code",
   "execution_count": 16,
   "metadata": {},
   "outputs": [
    {
     "name": "stdout",
     "output_type": "stream",
     "text": [
      "[ 1  2  3  4 11 12 13 14 21 22 23 24]\n"
     ]
    }
   ],
   "source": [
    "import numpy as np\n",
    "\n",
    "arr = [ \n",
    "    [ [1,2,3], [4,5,6], [7,8,9] ], \n",
    "    [ [11,12,13], [14,15,16], [17,18,19] ], \n",
    "    [ [21,22,23], [24,25,26], [27,28,29] ]\n",
    "]\n",
    "narr = np.array(arr)\n",
    "print(narr[narr % 10 < 5])"
   ]
  },
  {
   "cell_type": "markdown",
   "metadata": {},
   "source": [
    "`narr % 10 < 5` produces a boolean array with the same shape of `narr` populated with the value of `True` and `False`. The output array is a flattened array of the items with the indices of True in the boolean array."
   ]
  },
  {
   "cell_type": "markdown",
   "metadata": {},
   "source": [
    "## 3.2.1 View and copy of an ndarray\n",
    "NumPy provides different methods to create a view or a copy of an ndarray. \n",
    "\n",
    "**View**\n",
    "\n",
    "A view of an ndarray is a shallow copy of the original array. Changes of value in the original array or the shallow copy will be reflected in the other array.\n",
    "\n",
    "As shown in the example, updating the value in the original array changes the value in the view array, and vice versa."
   ]
  },
  {
   "cell_type": "code",
   "execution_count": 17,
   "metadata": {},
   "outputs": [
    {
     "name": "stdout",
     "output_type": "stream",
     "text": [
      "Updating original array\n",
      "\tOriginal: 0\n",
      "\tView: 0\n",
      "Updating view array\n",
      "\tOriginal: 2\n",
      "\tView: 2\n"
     ]
    }
   ],
   "source": [
    "import numpy as np\n",
    "\n",
    "arr = [[1,2,3], [4,5,6]]\n",
    "narr = np.array(arr)\n",
    "narrview = narr.view()\n",
    "\n",
    "print(\"Updating original array\")\n",
    "narr[0,0] = 0\n",
    "print(f\"\\tOriginal: {narr[0,0]}\")\n",
    "print(f\"\\tView: {narrview[0,0]}\")\n",
    "\n",
    "print(\"Updating view array\")\n",
    "narrview[0,0] = 2\n",
    "print(f\"\\tOriginal: {narr[0,0]}\")\n",
    "print(f\"\\tView: {narrview[0,0]}\")"
   ]
  },
  {
   "cell_type": "markdown",
   "metadata": {},
   "source": [
    "**Copy**\n",
    "\n",
    "A copy of an ndarray creates a deep copy of the original array. Changes of value in one array will not reflect in the other array."
   ]
  },
  {
   "cell_type": "code",
   "execution_count": 18,
   "metadata": {},
   "outputs": [
    {
     "name": "stdout",
     "output_type": "stream",
     "text": [
      "Updating original array\n",
      "\tOriginal: 0\n",
      "\tCopy: 1\n",
      "Updating copy array\n",
      "\tOriginal: 0\n",
      "\tCopy: 2\n"
     ]
    }
   ],
   "source": [
    "import numpy as np\n",
    "\n",
    "arr = [[1,2,3], [4,5,6]]\n",
    "narr = np.array(arr)\n",
    "narrcopy = narr.copy()\n",
    "\n",
    "print(\"Updating original array\")\n",
    "narr[0,0] = 0\n",
    "print(f\"\\tOriginal: {narr[0,0]}\")\n",
    "print(f\"\\tCopy: {narrcopy[0,0]}\")\n",
    "\n",
    "print(\"Updating copy array\")\n",
    "narrcopy[0,0] = 2\n",
    "print(f\"\\tOriginal: {narr[0,0]}\")\n",
    "print(f\"\\tCopy: {narrcopy[0,0]}\")"
   ]
  },
  {
   "cell_type": "markdown",
   "metadata": {},
   "source": [
    "## 3.2.3 Operations on ndarrays\n",
    "\n",
    "### 3.2.3.1 Arithmetic and comparison\n",
    "\n",
    "When arithmetic and comparison operators are applied on ndarrays, they are assumed to be element-wise operations. It means that if we apply the operation of plus `+` on two `ndarrays` with values of `[1,2,3]` and `[4,5,6]`, the first item in the first array `(1)` will be summed with the first item in the second array `(4)`; the second item with the second item, and so on. \n",
    "\n",
    "Due to this behaviour, when applying arithmetic and comparison operators, the ndarrays should have equal shape. The arithmetic operators are inclusive of `+`, `-`, `*`, `/`, `//`, `%`, `divmod()`, `**` or `pow()`, `<<`, `>>`, `&`, `^`, `|`, `~`, whereas the comparison operators are inclusive of `==`, `<`, `>`, `<=`, `>=`, `!=`."
   ]
  },
  {
   "cell_type": "code",
   "execution_count": 19,
   "metadata": {},
   "outputs": [
    {
     "name": "stdout",
     "output_type": "stream",
     "text": [
      "[5 7 9]\n"
     ]
    }
   ],
   "source": [
    "import numpy as np\n",
    "\n",
    "a = np.array([1,2,3])\n",
    "b = np.array([4,5,6])\n",
    "print(a + b)"
   ]
  },
  {
   "cell_type": "markdown",
   "metadata": {},
   "source": [
    "### 3.2.3.2 Data analysis\n",
    "NumPy has provided various methods for `ndarray` to perform analysis on the data. Among which include but not limited to `.max`, `.argmax`, `.min`, `.argmin`, `.sum`, `.cumsum`, `.mean`, `.var`, `.std`.\n",
    "\n",
    "methods|functions\n",
    "---------|---------------------\n",
    ".max     |maximum value\n",
    ".argmax  |index of the maximum value\n",
    ".min     |minimum value\n",
    ".argmin  |index of the minimum value\n",
    ".sum     |sum of the values\n",
    ".cumsum  |cumulative sum of the values\n",
    ".mean    |mean of the values\n",
    ".var     |variance of the values\n",
    ".std     |standard deviation of the values"
   ]
  },
  {
   "cell_type": "code",
   "execution_count": 20,
   "metadata": {},
   "outputs": [
    {
     "name": "stdout",
     "output_type": "stream",
     "text": [
      "maximum value: 6 at index 5\n",
      "minimum value: 1 at index 0\n",
      "total: 21\n",
      "cumulative sum: [ 1  3  6 10 15 21]\n",
      "mean: 3.5\n",
      "variance: 2.9166666666666665\n",
      "standard deviation: 1.707825127659933\n"
     ]
    }
   ],
   "source": [
    "import numpy as np\n",
    "\n",
    "narr = np.array([1,2,3,4,5,6])\n",
    "print(f\"maximum value: {narr.max()} at index {narr.argmax()}\")\n",
    "print(f\"minimum value: {narr.min()} at index {narr.argmin()}\")\n",
    "print(f\"total: {narr.sum()}\")\n",
    "print(f\"cumulative sum: {narr.cumsum()}\")\n",
    "print(f\"mean: {narr.mean()}\")\n",
    "print(f\"variance: {narr.var()}\")\n",
    "print(f\"standard deviation: {narr.std()}\")"
   ]
  },
  {
   "cell_type": "markdown",
   "metadata": {},
   "source": [
    "For all of these methods, there is an optional argument of axis to specify the axis of operation. If no axis is specified, all items are included for calculation. Number of axes of an ndarray equals to the number of dimensions it has.` [1,2,3]` has one axis; `[[1,2,3],[4,5,6]]` has two axes; `[ [ [1,2,3],[4,5,6] ], [ [7,8,9],[10,11,12] ] ]` has three axes."
   ]
  },
  {
   "cell_type": "code",
   "execution_count": 21,
   "metadata": {},
   "outputs": [
    {
     "name": "stdout",
     "output_type": "stream",
     "text": [
      "[4 5 6]\n",
      "[5 6]\n"
     ]
    }
   ],
   "source": [
    "import numpy as np\n",
    "\n",
    "narr = np.array([[1,5,3], [4,2,6]])\n",
    "print(narr.max(axis=0))\n",
    "print(narr.max(axis=1))"
   ]
  },
  {
   "cell_type": "markdown",
   "metadata": {},
   "source": [
    "The axis index is counted from the outer-most dimension to the inner-most dimension. For the 2-d array of\n",
    "\n",
    "```\n",
    "[\n",
    "    [1, 5, 3],\n",
    "    [4, 2, 6]\n",
    "]\n",
    "```\n",
    "\n",
    "when we use `.max(axis=0)`, we are requesting for the maximum value along axis 0, i.e. the outermost dimension. Axis 0 is the vertical axis in the shown layout. Therefore, to find the maximum values along axis 0, we are comparing 1 and 4, 5 and 2, 3 and 6. The maximum values along axis 0 are `[4,5,6]`.\n",
    "\n",
    "Axis 1 is the axis inner of axis 0. In this case, axis 1 is the horizontal axis. Finding the maximum values along axis 1 means we are comparing 1, 5, and 3, and 4, 2, and 6. The maximum values along axis 1 are `[5,6]`. \n",
    "\n",
    "\n",
    "To illustrate the concept of axis for 3-d array, we use the following example,\n",
    "\n",
    "```\n",
    "[\n",
    "    [ [7, 2, 9], [ 4, 11,  6] ], \n",
    "    [ [1, 8, 3], [10,  5, 12] ]\n",
    "]\n",
    "```\n",
    "\n",
    "the maximum values along axis 0 are obtained by comparing the elements in first line with the elements in second line, i.e. `[ [7,8,9], [10,11,12] ]`. \n",
    "\n",
    "The maximum values along axis 1 are obtained by comparing across the second dimension, meaning, we are comparing 7 and 4, 2 and 11, 9 and 6 for the first line. The outcome of it is` [ [7,11,9], [10,8,12] ]`. Another way to view this is, by removing the outer-most dimension, the first item is\n",
    "\n",
    "```\n",
    "[\n",
    "    [7,  2, 9],\n",
    "    [4, 11, 6]\n",
    "]\n",
    "```\n",
    "Therefore axis 1 in the original 3-d array becomes the axis 0 in the extracted 2-d array. So we compare vertically in this extracted array.\n",
    "\n",
    "The maximum values along axis 2 in the 3-d array is obtained by comparing in the third dimension. In this case we are comparing within the inner-most item. So the output of `.max(axis=2)` is` [[9,11], [8,12]]`.\n",
    "\n",
    "> The concept of the axis can be confusing. Spend some time to test it out to understand it better."
   ]
  },
  {
   "cell_type": "code",
   "execution_count": 22,
   "metadata": {},
   "outputs": [
    {
     "name": "stdout",
     "output_type": "stream",
     "text": [
      "[[ 7  8  9]\n",
      " [10 11 12]]\n"
     ]
    }
   ],
   "source": [
    "import numpy as np\n",
    "\n",
    "narr = np.array([[[7,2,9],[4,11,6]], [[1,8,3],[10,5,12]]])\n",
    "print(narr.max(axis=0))"
   ]
  },
  {
   "cell_type": "markdown",
   "metadata": {},
   "source": [
    "### 3.2.3.3 All and any\n",
    "As mentioned earlier, the arithmetic and comparison operators perform element-wise operations. There are times we want to check if all the items fulfill certain criteria or if there's any item that fulfill certain criteria. For this, NumPy provides .all and .any for an `ndarray`. The two methods also accept the argument axis."
   ]
  },
  {
   "cell_type": "code",
   "execution_count": 23,
   "metadata": {},
   "outputs": [
    {
     "name": "stdout",
     "output_type": "stream",
     "text": [
      "morethan array: \n",
      "[[False  True False]\n",
      " [ True False  True]]\n",
      "\n",
      "All more than 3? False\n",
      "Any more than 3? True\n"
     ]
    }
   ],
   "source": [
    "import numpy as np\n",
    "\n",
    "narr = np.array([[1,5,3], [4,2,6]])\n",
    "threshold = 3\n",
    "morethan = narr > threshold\n",
    "print(\"morethan array: \")\n",
    "print(morethan)\n",
    "print(\"\")\n",
    "print(f\"All more than {threshold}? {morethan.all()}\")\n",
    "print(f\"Any more than {threshold}? {morethan.any()}\")"
   ]
  },
  {
   "cell_type": "markdown",
   "metadata": {},
   "source": [
    "### 3.2.3.4 Sort\n",
    "`ndarray`.sort provides the function to sort the array in place. This means that the array itself will be modified in the process of sorting. The argument axis also applies to this function. By default, the sort is applied along the last axis (inner-most)."
   ]
  },
  {
   "cell_type": "code",
   "execution_count": 24,
   "metadata": {},
   "outputs": [
    {
     "name": "stdout",
     "output_type": "stream",
     "text": [
      "[[1 5 3]\n",
      " [4 2 6]]\n",
      "[[1 3 5]\n",
      " [2 4 6]]\n"
     ]
    }
   ],
   "source": [
    "import numpy as np\n",
    "\n",
    "narr = np.array([[1,5,3], [4,2,6]])\n",
    "print(narr)\n",
    "\n",
    "narr.sort()\n",
    "print(narr)"
   ]
  },
  {
   "cell_type": "markdown",
   "metadata": {},
   "source": [
    "> What are the outputs of different axes?\n",
    "\n",
    "To not sort the array in-place, we could use numpy.sort to return a sorted array as the output instead of modify the array in-place."
   ]
  },
  {
   "cell_type": "code",
   "execution_count": 25,
   "metadata": {},
   "outputs": [
    {
     "name": "stdout",
     "output_type": "stream",
     "text": [
      "narr = \n",
      "[[1 5 3]\n",
      " [4 2 6]]\n",
      "\n",
      "sorted narr = \n",
      "[[1 3 5]\n",
      " [2 4 6]]\n",
      "\n",
      "narr = \n",
      "[[1 5 3]\n",
      " [4 2 6]]\n"
     ]
    }
   ],
   "source": [
    "import numpy as np\n",
    "\n",
    "narr = np.array([[1,5,3], [4,2,6]])\n",
    "print(f\"narr = \\n{narr}\")\n",
    "\n",
    "sortednarr = np.sort(narr)\n",
    "print(f\"\\nsorted narr = \\n{sortednarr}\")\n",
    "print(f\"\\nnarr = \\n{narr}\")"
   ]
  },
  {
   "cell_type": "markdown",
   "metadata": {},
   "source": [
    "### 3.2.3.5 Reshape\n",
    "Occasionally we need to change the shape of an array. We can use `ndarray.reshape` or ndarray.resize to achieve it. ndarray.reshape returns an array with the new shape, whereas ndarray.resize changes the array in place."
   ]
  },
  {
   "cell_type": "code",
   "execution_count": 26,
   "metadata": {},
   "outputs": [
    {
     "name": "stdout",
     "output_type": "stream",
     "text": [
      "After reshape\n",
      "narr = \n",
      "[[1 2 3]\n",
      " [4 5 6]]\n",
      "newnarr = \n",
      "[[1 2]\n",
      " [3 4]\n",
      " [5 6]]\n",
      "\n",
      "After resize\n",
      "narr = \n",
      "[[1 2]\n",
      " [3 4]\n",
      " [5 6]]\n"
     ]
    }
   ],
   "source": [
    "import numpy as np\n",
    "\n",
    "narr = np.array([[1,2,3],[4,5,6]])\n",
    "newnarr = narr.reshape((3,2))\n",
    "print(\"After reshape\")\n",
    "print(\"narr = \")\n",
    "print(narr)\n",
    "print(\"newnarr = \")\n",
    "print(newnarr)\n",
    "\n",
    "narr.resize((3,2))\n",
    "print(\"\\nAfter resize\")\n",
    "print(\"narr = \")\n",
    "print(narr)"
   ]
  },
  {
   "cell_type": "markdown",
   "metadata": {},
   "source": [
    "If there is not enough item to fill the new array, the additional slots will be filled with default value depending on the data type."
   ]
  },
  {
   "cell_type": "code",
   "execution_count": 27,
   "metadata": {},
   "outputs": [
    {
     "name": "stdout",
     "output_type": "stream",
     "text": [
      "After resize\n",
      "narr = \n",
      "[[1 2 3 4]\n",
      " [5 6 0 0]]\n"
     ]
    }
   ],
   "source": [
    "import numpy as np\n",
    "\n",
    "narr = np.array([[1,2,3],[4,5,6]])\n",
    "narr.resize((2,4))\n",
    "print(\"After resize\")\n",
    "print(\"narr = \")\n",
    "print(narr)"
   ]
  },
  {
   "cell_type": "markdown",
   "metadata": {},
   "source": [
    "If there is not enough slot to fit all items in the new array, the additional items will be removed."
   ]
  },
  {
   "cell_type": "code",
   "execution_count": 28,
   "metadata": {},
   "outputs": [
    {
     "name": "stdout",
     "output_type": "stream",
     "text": [
      "After resize\n",
      "narr = \n",
      "[[1 2]\n",
      " [3 4]]\n"
     ]
    }
   ],
   "source": [
    "import numpy as np\n",
    "\n",
    "narr = np.array([[1,2,3],[4,5,6]])\n",
    "narr.resize((2,2))\n",
    "print(\"After resize\")\n",
    "print(\"narr = \")\n",
    "print(narr)"
   ]
  },
  {
   "cell_type": "markdown",
   "metadata": {},
   "source": [
    "In both cases, no exception or warning will be raised. Therefore we must be cautious in performing reshape or resize.\n",
    "\n"
   ]
  }
 ],
 "metadata": {
  "kernelspec": {
   "display_name": "Python 3",
   "language": "python",
   "name": "python3"
  },
  "language_info": {
   "codemirror_mode": {
    "name": "ipython",
    "version": 3
   },
   "file_extension": ".py",
   "mimetype": "text/x-python",
   "name": "python",
   "nbconvert_exporter": "python",
   "pygments_lexer": "ipython3",
   "version": "3.12.2"
  }
 },
 "nbformat": 4,
 "nbformat_minor": 2
}
