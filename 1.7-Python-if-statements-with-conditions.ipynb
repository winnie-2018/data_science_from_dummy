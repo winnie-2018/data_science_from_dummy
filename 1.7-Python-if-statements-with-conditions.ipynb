{
 "cells": [
  {
   "cell_type": "markdown",
   "metadata": {},
   "source": [
    "# 1.7 Python if statements with conditions\n",
    "Python supports the commonly used logical condition operators as listed below:\n",
    "\n",
    "Logical condition         |Example\n",
    "--------------------------|---------\n",
    "Equals                    |a == b\n",
    "Not Equals                |a != b\n",
    "Less than                 |a < b\n",
    "Less than or equal to     |a <= b\n",
    "Greater than              |a > b\n",
    "Greater than or equal to  |a >= b\n",
    "\n",
    "These conditions can be used in several ways, most commonly in if statements and loops.\n",
    "\n",
    "## 1.7.1 If statements\n",
    "An \"if statement\" is written by using the `if` keyword. After the `if` keyword, a logical comparison expression should be defined and then followed by a `:` sign. \n",
    "\n",
    "Try the example if statement by clicking the following Run button below. In this example, we use two variables, `x`, and `y`, as part of the if statement to test whether `y` is greater than `x`. If it is, then we print to screen that \"`y is greater than x`\".\n",
    "\n"
   ]
  },
  {
   "cell_type": "code",
   "execution_count": 1,
   "metadata": {},
   "outputs": [
    {
     "name": "stdout",
     "output_type": "stream",
     "text": [
      "x is greater than y\n"
     ]
    }
   ],
   "source": [
    "x = 25\n",
    "y = 100\n",
    "if y > x:\n",
    "  print(\"x is greater than y\")"
   ]
  },
  {
   "cell_type": "markdown",
   "metadata": {},
   "source": [
    "## 1.7.2 Indentation\n",
    "Python relies on indentation (whitespace at the beginning of a line) to define the scope in the code; if the following then statement does not have an indentation, an error will be raised."
   ]
  },
  {
   "cell_type": "code",
   "execution_count": 2,
   "metadata": {},
   "outputs": [
    {
     "ename": "IndentationError",
     "evalue": "expected an indented block after 'if' statement on line 3 (4016782734.py, line 4)",
     "output_type": "error",
     "traceback": [
      "\u001b[1;36m  Cell \u001b[1;32mIn[2], line 4\u001b[1;36m\u001b[0m\n\u001b[1;33m    print(\"x is greater than y\")\u001b[0m\n\u001b[1;37m    ^\u001b[0m\n\u001b[1;31mIndentationError\u001b[0m\u001b[1;31m:\u001b[0m expected an indented block after 'if' statement on line 3\n"
     ]
    }
   ],
   "source": [
    "x = 25\n",
    "y = 100\n",
    "if y > x:\n",
    "print(\"x is greater than y\")"
   ]
  },
  {
   "cell_type": "markdown",
   "metadata": {},
   "source": [
    "## 1.7.3 If statements with Elif\n",
    "The Python `elif` keyword means \"if the previous conditions were not true, then try this condition\".\n",
    "\n",
    "In the example, `x` is smaller than `y`, so the first condition is `False`, but the `elif` condition is `True`, so we print to output screen that \"`x is smaller than y`\"."
   ]
  },
  {
   "cell_type": "code",
   "execution_count": 3,
   "metadata": {},
   "outputs": [
    {
     "name": "stdout",
     "output_type": "stream",
     "text": [
      "x is smaller than y\n"
     ]
    }
   ],
   "source": [
    "x = 25\n",
    "y = 100\n",
    "if x > y:\n",
    "    print(\"x is greater than y\")\n",
    "elif x < y:\n",
    "    print(\"x is smaller than y\")"
   ]
  },
  {
   "cell_type": "markdown",
   "metadata": {},
   "source": [
    "## 1.7.4 If statements with Else\n",
    "The else keyword captures anything which is not captured by the preceding conditions. \n",
    "\n",
    "In this example, `x` and `y` are both `25`, so the first condition is not true, also the `elif` condition is not true, so the program goes to the else condition and prints to screen that \"`x and y are equal`\"."
   ]
  },
  {
   "cell_type": "code",
   "execution_count": 4,
   "metadata": {},
   "outputs": [
    {
     "name": "stdout",
     "output_type": "stream",
     "text": [
      "x and y are equal\n"
     ]
    }
   ],
   "source": [
    "x = 25\n",
    "y = 25\n",
    "if x > y:\n",
    "    print(\"x is greater than y\")\n",
    "elif x < y:\n",
    "    print(\"x is smaller than y\")\n",
    "else:\n",
    "    print(\"x and y are equal\")"
   ]
  },
  {
   "cell_type": "markdown",
   "metadata": {},
   "source": [
    "We can also have an else without the `elif` to capture the rest of the conditions that escaped from the first if condition."
   ]
  },
  {
   "cell_type": "code",
   "execution_count": 5,
   "metadata": {},
   "outputs": [
    {
     "name": "stdout",
     "output_type": "stream",
     "text": [
      "x is not greater than y\n"
     ]
    }
   ],
   "source": [
    "x = 25\n",
    "y = 100\n",
    "if x > y:\n",
    "    print(\"x is greater than y\")\n",
    "else:\n",
    "    print(\"x is not greater than y\")"
   ]
  },
  {
   "cell_type": "markdown",
   "metadata": {},
   "source": [
    "## 1.7.5 Shorthand If ... Else\n",
    "If there is only one statement to execute, we can use a shorthand `if` statement by putting it on the same line. Similarly, for shorthand `if ... else` statement, one for `if`, and one for `else`, all on the same line. "
   ]
  },
  {
   "cell_type": "code",
   "execution_count": 6,
   "metadata": {},
   "outputs": [
    {
     "name": "stdout",
     "output_type": "stream",
     "text": [
      "J\n"
     ]
    }
   ],
   "source": [
    "i = 25\n",
    "j = 220\n",
    "if i > j: print(\"i is greater than j\")   # One line if statement\n",
    "\n",
    "print(\"I\") if i > j else print(\"J\")   # One line if else statement"
   ]
  },
  {
   "cell_type": "markdown",
   "metadata": {},
   "source": [
    "## 1.7.6 Using And and Or operators with If statements\n",
    "We can use the `and` and `or` keywords as logical operators to combine conditional statements."
   ]
  },
  {
   "cell_type": "code",
   "execution_count": 7,
   "metadata": {},
   "outputs": [
    {
     "name": "stdout",
     "output_type": "stream",
     "text": [
      "x is at least either greater than y or z\n"
     ]
    }
   ],
   "source": [
    "x = 22\n",
    "y = 100\n",
    "z = 5\n",
    "# To test if x is greater than y, AND if x is greater than z\n",
    "if x > y and x > z:\n",
    "  print(\"x is the largest number.\")\n",
    "\n",
    "#To test if x is greater than y, OR if x is greater than z:\n",
    "if x > y or x > z:\n",
    "  print(\"x is at least either greater than y or z\")"
   ]
  },
  {
   "cell_type": "markdown",
   "metadata": {},
   "source": [
    "## 1.7.7 Nested If\n",
    "We can include if statements inside if statements, this is called nested if statements. The following shows the examples."
   ]
  },
  {
   "cell_type": "code",
   "execution_count": 8,
   "metadata": {},
   "outputs": [
    {
     "name": "stdout",
     "output_type": "stream",
     "text": [
      "a is more than twelve,\n",
      "and also more than twenty five!\n"
     ]
    }
   ],
   "source": [
    "a = 50\n",
    "if a > 12:\n",
    "  print(\"a is more than twelve,\")\n",
    "  if a > 25:\n",
    "    print(\"and also more than twenty five!\")\n",
    "  elif a == 25:\n",
    "    print(\"because it is twenty five!\")\n",
    "  else:\n",
    "    print(\"but less than twenty five.\")\n",
    "else:\n",
    "  print(\"a is less than twelve.\") "
   ]
  }
 ],
 "metadata": {
  "kernelspec": {
   "display_name": "Python 3",
   "language": "python",
   "name": "python3"
  },
  "language_info": {
   "codemirror_mode": {
    "name": "ipython",
    "version": 3
   },
   "file_extension": ".py",
   "mimetype": "text/x-python",
   "name": "python",
   "nbconvert_exporter": "python",
   "pygments_lexer": "ipython3",
   "version": "3.12.2"
  }
 },
 "nbformat": 4,
 "nbformat_minor": 2
}
