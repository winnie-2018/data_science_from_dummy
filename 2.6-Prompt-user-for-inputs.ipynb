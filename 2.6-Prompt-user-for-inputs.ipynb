{
 "cells": [
  {
   "cell_type": "markdown",
   "metadata": {},
   "source": [
    "# 2.6 Prompt user for inputs\n",
    "When we execute a script, there are times we require user inputs to perform a certain task. We can use the built-in function input (https://docs.python.org/3/library/functions.html#input) to request input from the user in a terminal.\n",
    "\n",
    "> input([prompt])\n",
    "\n",
    "The function has an optional input argument, which should be a string to be shown to prompt the user. When this function is executed, the `prompt` will be displayed and the program will pause until the user press `return` (Enter key). The keyboard input from the user between the pause and the return will be captured as a string and will become the output of the function.\n",
    "\n"
   ]
  },
  {
   "cell_type": "code",
   "execution_count": 2,
   "metadata": {},
   "outputs": [
    {
     "name": "stdout",
     "output_type": "stream",
     "text": [
      "y\n"
     ]
    }
   ],
   "source": [
    "decision = input(\"Should we continue? (Y/n)\")\n",
    "print(decision)"
   ]
  },
  {
   "cell_type": "markdown",
   "metadata": {},
   "source": [
    "In this example, the input from the user is saved into the variable `decision`. As the output will always be saved as a string, if the rest of the program requires the input to be processed as other data type, we will need to convert the value to another type."
   ]
  },
  {
   "cell_type": "code",
   "execution_count": 3,
   "metadata": {},
   "outputs": [
    {
     "name": "stdout",
     "output_type": "stream",
     "text": [
      "number + 1 = 3.0\n"
     ]
    }
   ],
   "source": [
    "number = input(\"Give me a number: \")\n",
    "number = float(number)\n",
    "print(f\"number + 1 = {number + 1}\")"
   ]
  },
  {
   "cell_type": "markdown",
   "metadata": {},
   "source": [
    "Always consider the exceptions that the user might provide a value other than the requested. For example, if a user provides an alphabet in this example, the program will raise an error because an alphabet cannot be converted to a float. Therefore we might need to include some lines of code to validate if the input is what we expected.\n",
    "\n",
    "In this case, we may use `string.isnumeric()` function to perform validation."
   ]
  },
  {
   "cell_type": "code",
   "execution_count": 4,
   "metadata": {},
   "outputs": [
    {
     "name": "stdout",
     "output_type": "stream",
     "text": [
      "number + 1 = 6.0\n"
     ]
    }
   ],
   "source": [
    "number = \"\"\n",
    "while not number.isnumeric():\n",
    "    number = input(\"Give me a number: \")\n",
    "number = float(number)\n",
    "print(f\"number + 1 = {number + 1}\")"
   ]
  }
 ],
 "metadata": {
  "kernelspec": {
   "display_name": "Python 3",
   "language": "python",
   "name": "python3"
  },
  "language_info": {
   "codemirror_mode": {
    "name": "ipython",
    "version": 3
   },
   "file_extension": ".py",
   "mimetype": "text/x-python",
   "name": "python",
   "nbconvert_exporter": "python",
   "pygments_lexer": "ipython3",
   "version": "3.12.2"
  }
 },
 "nbformat": 4,
 "nbformat_minor": 2
}
