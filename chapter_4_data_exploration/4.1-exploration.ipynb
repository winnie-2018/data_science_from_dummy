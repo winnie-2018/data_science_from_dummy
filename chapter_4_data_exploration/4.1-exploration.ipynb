{
 "cells": [
  {
   "cell_type": "markdown",
   "metadata": {},
   "source": [
    "# 4.1 Data Exploration \n",
    "\n",
    "Note: Credit Card Fraud dataset is downloaded from https://www.kaggle.com/datasets/mlg-ulb/creditcardfraud?resource=download\n",
    "\n",
    "## Basic Exploration\n",
    "\n",
    "1. Import `pandas` library\n",
    "2. Import dataset"
   ]
  },
  {
   "cell_type": "code",
   "execution_count": null,
   "metadata": {},
   "outputs": [],
   "source": [
    "import pandas as pd\n",
    "\n",
    "df = pd.read_csv('../datasets/creditcard.csv')"
   ]
  },
  {
   "cell_type": "markdown",
   "metadata": {},
   "source": [
    "3. Check the number of rows and columns in the loaded data\n",
    "\n",
    "Output: (row numbers, column numbers)"
   ]
  },
  {
   "cell_type": "code",
   "execution_count": null,
   "metadata": {},
   "outputs": [],
   "source": [
    "df.shape"
   ]
  },
  {
   "cell_type": "markdown",
   "metadata": {},
   "source": [
    "4. Print information about a DataFrame including the index dtype and columns, non-null values and memory usage.\n",
    "\n",
    "All columns say float64 next to them, indicating they are of float data type, that is, numbers such as ..., -0.4, 1.29, 0.0, 1.5, 3.5,... . The exception is the Class column. This contains integer values that indicate if a transaction is fraudulent or not. "
   ]
  },
  {
   "cell_type": "code",
   "execution_count": null,
   "metadata": {},
   "outputs": [],
   "source": [
    "df.info()"
   ]
  },
  {
   "cell_type": "markdown",
   "metadata": {},
   "source": [
    "5. Print the first few rows of the DataFrame"
   ]
  },
  {
   "cell_type": "code",
   "execution_count": null,
   "metadata": {},
   "outputs": [],
   "source": [
    "df.head()"
   ]
  },
  {
   "cell_type": "markdown",
   "metadata": {},
   "source": [
    "5.1 Print more..."
   ]
  },
  {
   "cell_type": "code",
   "execution_count": null,
   "metadata": {},
   "outputs": [],
   "source": [
    "df.head(10)"
   ]
  },
  {
   "cell_type": "markdown",
   "metadata": {},
   "source": [
    "6. Print last few rows"
   ]
  },
  {
   "cell_type": "code",
   "execution_count": null,
   "metadata": {},
   "outputs": [],
   "source": [
    "df.tail()"
   ]
  },
  {
   "cell_type": "markdown",
   "metadata": {},
   "source": [
    "7. Print columns of the dataframe"
   ]
  },
  {
   "cell_type": "code",
   "execution_count": null,
   "metadata": {},
   "outputs": [],
   "source": [
    "df.columns"
   ]
  },
  {
   "cell_type": "markdown",
   "metadata": {},
   "source": [
    "## Further Exploration\n",
    "\n",
    "1. View the top n rows of the specific column"
   ]
  },
  {
   "cell_type": "code",
   "execution_count": null,
   "metadata": {},
   "outputs": [],
   "source": [
    "df[['Class', 'Time', 'Amount']].head()"
   ]
  },
  {
   "cell_type": "markdown",
   "metadata": {},
   "source": [
    "2. View last few rows of Dataframe"
   ]
  },
  {
   "cell_type": "code",
   "execution_count": null,
   "metadata": {},
   "outputs": [],
   "source": [
    "df[['Class', 'Time', 'Amount']].tail()"
   ]
  },
  {
   "cell_type": "markdown",
   "metadata": {},
   "source": [
    "3. Check the unique values of the class. \n",
    "\n",
    "The `Class` column, which decides if a transaction is fraudulent or not, should contain only two possible values (0,1), as we were informed by the client. It is useful to check the unique values of the class. \n",
    "\n",
    "Count the number of unique values using the .nunique() method on the Series (column) Class. \n"
   ]
  },
  {
   "cell_type": "code",
   "execution_count": null,
   "metadata": {},
   "outputs": [],
   "source": [
    "df['Class'].nunique()"
   ]
  },
  {
   "cell_type": "markdown",
   "metadata": {},
   "source": [
    "4. Check what these unique values are\n",
    "\n",
    "After we know there are two unique values for the Class column, we can check what these unique values are:\n",
    "\n",
    "[0 1] that shows there are two unique values for the Class column that are 0 and 1. "
   ]
  },
  {
   "cell_type": "code",
   "execution_count": null,
   "metadata": {},
   "outputs": [],
   "source": [
    "df['Class'].unique()"
   ]
  },
  {
   "cell_type": "markdown",
   "metadata": {},
   "source": [
    "5. Find and store value counts\n",
    "\n",
    "Also, we can use the `.value_counts()` method on the `Class` Series to know the value of Class and how often they occur.  We will perform this operation in this step and store the value counts in the `class_counts` variable.\n",
    "\n",
    "Store the value counts in the variable defined as `id_counts` and then display the stored values"
   ]
  },
  {
   "cell_type": "code",
   "execution_count": null,
   "metadata": {},
   "outputs": [],
   "source": [
    "class_counts = df['Class'].value_counts() \n",
    "print(class_counts)"
   ]
  },
  {
   "cell_type": "markdown",
   "metadata": {},
   "source": [
    "Based on the previous output, it shows all the class values have been reported by the client and there is no other value that is not defined by the data dictionary. "
   ]
  },
  {
   "cell_type": "markdown",
   "metadata": {},
   "source": [
    "6. Check rows that have missing values for specific features.\n",
    "\n",
    "There are several ways to check missing values. Although it is not within the context of this subject to dive into details of how to deal with missing values, we just later mention an example of missing values and a possible way to explore and check them. \n",
    "\n",
    "We can create a class mask"
   ]
  },
  {
   "cell_type": "code",
   "execution_count": null,
   "metadata": {},
   "outputs": [],
   "source": [
    "class_mask = df['Class'].isnull()\n",
    "print(class_mask[0:5])"
   ]
  },
  {
   "cell_type": "markdown",
   "metadata": {},
   "source": [
    "Output shows that `isnull()` method returns `False` if the value is missing for a specific row for a specific feature (`Class` in this case). Similarly, `isnull()` method returns `True` if the value is missing for a specific row for a specific feature."
   ]
  },
  {
   "cell_type": "markdown",
   "metadata": {},
   "source": [
    "You can also count the number of missing values"
   ]
  },
  {
   "cell_type": "code",
   "execution_count": null,
   "metadata": {},
   "outputs": [],
   "source": [
    "print(sum(class_mask))"
   ]
  },
  {
   "cell_type": "markdown",
   "metadata": {},
   "source": [
    "- `notnull()` returns `True` : the value is not missing for a specific row for a specific feature (`Class` in this case)\n",
    "- `notnull()` returns `False` : the value is missing for a specific row for a specific feature,"
   ]
  },
  {
   "cell_type": "code",
   "execution_count": null,
   "metadata": {},
   "outputs": [],
   "source": [
    "class_mask_notNull = df['Class'].notnull()\n",
    "print(class_mask_notNull[0:5])\n",
    "print(sum(class_mask_notNull))"
   ]
  },
  {
   "cell_type": "markdown",
   "metadata": {},
   "source": [
    "7. Generate a tabular report of summary statistics of specific features\n",
    "\n",
    "Outpur shows \n",
    "- count of Amount feature values\n",
    "- mean\n",
    "- standard deviation std\n",
    "- minimum value min  \n",
    "- maximum value max \n",
    " \n",
    "We can notice that there are `284807` values. The minimum amount is `0.0` and the maximum is `25691.16`. \n",
    "\n",
    "Analysing these values could provide good indicators on the feature itself and if it could help to achieve the goal of the business problem (e.g. predicting if credit transaction is fraudulent based on the amount spent). "
   ]
  },
  {
   "cell_type": "code",
   "execution_count": null,
   "metadata": {},
   "outputs": [],
   "source": [
    "df[['Amount']].describe()"
   ]
  }
 ],
 "metadata": {
  "kernelspec": {
   "display_name": "Python 3",
   "language": "python",
   "name": "python3"
  },
  "language_info": {
   "codemirror_mode": {
    "name": "ipython",
    "version": 3
   },
   "file_extension": ".py",
   "mimetype": "text/x-python",
   "name": "python",
   "nbconvert_exporter": "python",
   "pygments_lexer": "ipython3",
   "version": "3.12.2"
  }
 },
 "nbformat": 4,
 "nbformat_minor": 2
}
