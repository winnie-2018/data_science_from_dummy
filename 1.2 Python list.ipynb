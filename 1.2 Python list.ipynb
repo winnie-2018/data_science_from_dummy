{
 "cells": [
  {
   "cell_type": "markdown",
   "metadata": {},
   "source": [
    "# 1.2 Python list\n",
    "We can use Lists to store multiple items in a single variable. List items can be of any data type such as string, int, and boolean data types, and may contain different data types. List items are ordered (meaning items have a defined order), changeable, and allow duplicate values. \n",
    "\n",
    "List items are indexed, the first item has an index [0], the second item has an index [1] etc. Since lists are indexed, lists can have items with the same value. Negative indexing indicates start accessing an item from the end. The -1 refers to the last item, -2 refers to the second-last item, and so on. If we add a new item to a list, the new item will be placed at the end of the list. \n",
    "\n",
    "Lists are created using square brackets [].\n",
    "\n",
    "## 1.2.1 Accessing items from a list\n",
    "The following shows examples of how we can access items from a list. Try it yourself by clicking the Run button above the console window:"
   ]
  },
  {
   "cell_type": "code",
   "execution_count": 1,
   "metadata": {},
   "outputs": [
    {
     "name": "stdout",
     "output_type": "stream",
     "text": [
      "['milk', 'cereal', 'orange', 'juice', 'bread']\n",
      "cereal\n",
      "bread\n",
      "juice\n"
     ]
    }
   ],
   "source": [
    "mylist = [\"milk\", \"cereal\", \"orange\", \"juice\",\"bread\"]\n",
    "print(mylist)\n",
    "print(mylist[1])\n",
    "print(mylist[-1])\n",
    "print(mylist[-2])"
   ]
  },
  {
   "cell_type": "markdown",
   "metadata": {},
   "source": [
    "## 1.2.2 Data types of list items\n",
    "List items can be of any data type. The following examples show a list can contain string, integer, and boolean data types, or a list can contain a combination of items with different data types."
   ]
  },
  {
   "cell_type": "code",
   "execution_count": 2,
   "metadata": {},
   "outputs": [
    {
     "name": "stdout",
     "output_type": "stream",
     "text": [
      "['milk', 'cereal', 'orange']\n",
      "[1, 5, 7]\n",
      "[True, False]\n",
      "['milk', 12, True, 'Hi', 9.5]\n"
     ]
    }
   ],
   "source": [
    "mylist1 = [\"milk\", \"cereal\", \"orange\"]\n",
    "mylist2 = [1, 5, 7]\n",
    "mylist3 = [True, False]\n",
    "mylist4 = [\"milk\", 12, True, \"Hi\", 9.5]\n",
    "print(mylist1)\n",
    "print(mylist2)\n",
    "print(mylist3)\n",
    "print(mylist4)"
   ]
  },
  {
   "cell_type": "markdown",
   "metadata": {},
   "source": [
    "## 1.2.3 Change list Item value using index number\n",
    "We can change the value of a specific item by referring to the index number, or values of items within a specific range by referring to the range of index numbers. If the number of items to be changed is more than the list, the remaining items will move accordingly. That means the length of the list will change when the number of items is more than the number of items replaced.\n",
    "\n",
    "The following examples demonstrate how a list will change according to different scenarios:"
   ]
  },
  {
   "cell_type": "code",
   "execution_count": 3,
   "metadata": {},
   "outputs": [
    {
     "name": "stdout",
     "output_type": "stream",
     "text": [
      "['milk', 'grain', 'orange', 'juice', 'bread', 'apple']\n",
      "['milk', 'grain', 'orange', 'coke', 'pizza', 'apple']\n",
      "['milk', 'egg', 'berry', 'orange', 'coke', 'pizza', 'apple']\n",
      "['milk', 'noodle', 'orange', 'coke', 'pizza', 'apple']\n"
     ]
    }
   ],
   "source": [
    "mylist = [\"milk\", \"cereal\", \"orange\", \"juice\",\"bread\", \"apple\"]\n",
    "mylist[1] = \"grain\"   # change the second item\n",
    "print(mylist)\n",
    "mylist[3:5] = [\"coke\", \"pizza\"] # change the values \"juice\" and \"bread\" with \"coke\" and \"pizza\":\n",
    "print(mylist)\n",
    "mylist[1:2] = [\"egg\", \"berry\"] # change the 2nd value by replacing it with two new values\n",
    "print(mylist)\n",
    "mylist[1:3] = [\"noodle\"] # change the 2nd and 3rd values by replacing it with one value\n",
    "print(mylist)"
   ]
  },
  {
   "cell_type": "markdown",
   "metadata": {},
   "source": [
    "## 1.2.4 Methods for a Python list \n",
    "We can use Python built-in methods to manipulate a list and its items. The following presents the methods for a Python list:\n",
    "\n",
    "Method       |Description\n",
    "-------------|----------------\n",
    "insert()     |inserts a list item at a specified index\n",
    "append()     |appends elements from another list to the current list\n",
    "extend()     |adds an item to the end of the list\n",
    "remove()     |removes the specified item\n",
    "pop()        |removes the specified index\n",
    "sort()       |sorts a list in ascending by default (use keyword argument reverse = True to sort descendingly)\n",
    "copy()       |makes a copy of a list\n",
    "del          |keyword to removes the specified index or delete the list completely\n",
    "clear()      |empties the content of a list\n",
    "\n",
    "The following examples demonstrate how we can use the append(), insert(), extend(), and copy() methods to add items to a list or copy items from another list:"
   ]
  },
  {
   "cell_type": "code",
   "execution_count": 4,
   "metadata": {},
   "outputs": [
    {
     "name": "stdout",
     "output_type": "stream",
     "text": [
      "['milk', 'cereal', 'orange', 'juice', 'bread', 'apple', 'egg']\n",
      "['milk', 'coffee', 'cereal', 'orange', 'juice', 'bread', 'apple', 'egg']\n",
      "['milk', 'coffee', 'cereal', 'orange', 'juice', 'bread', 'apple', 'egg', 'almond', 'walnut', 'pecan']\n",
      "['milk', 'coffee', 'cereal', 'orange', 'juice', 'bread', 'apple', 'egg', 'almond', 'walnut', 'pecan']\n"
     ]
    }
   ],
   "source": [
    "mylist = [\"milk\", \"cereal\", \"orange\", \"juice\",\"bread\", \"apple\"]\n",
    "mylist.append(\"egg\")    # append an item to the end of the list\n",
    "print(mylist)\n",
    "mylist.insert(1, \"coffee\")  # inserts an item at the specified index, 2nd position\n",
    "print(mylist)  \n",
    "nuts = [\"almond\", \"walnut\", \"pecan\"]\n",
    "mylist.extend(nuts)   # add the items of nuts to mylist\n",
    "print(mylist)\n",
    "mylist2 = mylist.copy()   # copy mylist to mylist2\n",
    "print(mylist2)"
   ]
  },
  {
   "cell_type": "markdown",
   "metadata": {},
   "source": [
    "We can use the methods below to get rid of items from a list \n",
    "\n",
    "1. `remove()`\n",
    "2. `pop()` \n",
    "3. `clear()`, \n",
    "4. `del` keyword"
   ]
  },
  {
   "cell_type": "code",
   "execution_count": 5,
   "metadata": {},
   "outputs": [
    {
     "name": "stdout",
     "output_type": "stream",
     "text": [
      "['milk', 'cereal', 'orange', 'juice', 'bread', 'apple']\n",
      "['milk', 'cereal', 'juice', 'bread', 'apple']\n",
      "['milk', 'cereal', 'juice', 'bread']\n",
      "['cereal', 'juice', 'bread']\n",
      "[]\n"
     ]
    }
   ],
   "source": [
    "mylist = [\"milk\", \"cereal\", \"orange\", \"juice\",\"bread\", \"apple\", \"pecan\"]\n",
    "mylist.remove(\"pecan\")  # remove \"pecan\"\n",
    "print(mylist)\n",
    "mylist.pop(2)        # remove the third item\n",
    "print(mylist)\n",
    "mylist.pop()         # no index specified, it removes the last item\n",
    "print(mylist)\n",
    "del mylist[0]      # remove the first item in the list\n",
    "print(mylist)\n",
    "mylist.clear()   # clear the list content\n",
    "print(mylist)\n",
    "del mylist   # delete the entire list. if you print the mylist, error will occur"
   ]
  },
  {
   "cell_type": "markdown",
   "metadata": {},
   "source": [
    "To sort items within a list, we can use the sort() method. By default, the sort() method will sort items in ascending order. To sort a list's items in descend order, include the reverse = True argument in the sort() method as shown in the following examples: \n",
    "\n"
   ]
  },
  {
   "cell_type": "code",
   "execution_count": 6,
   "metadata": {},
   "outputs": [
    {
     "name": "stdout",
     "output_type": "stream",
     "text": [
      "['apple', 'bread', 'cereal', 'juice', 'milk', 'orange', 'pecan']\n",
      "['pecan', 'orange', 'milk', 'juice', 'cereal', 'bread', 'apple']\n"
     ]
    }
   ],
   "source": [
    "mylist = [\"milk\", \"cereal\", \"orange\", \"juice\",\"bread\", \"apple\", \"pecan\"]\n",
    "mylist.sort()       # sort the list in ascending order\n",
    "print(mylist)\n",
    "mylist.sort(reverse = True)  # sort the list in ascending order\n",
    "print(mylist)"
   ]
  },
  {
   "cell_type": "markdown",
   "metadata": {},
   "source": [
    "## 1.2.5 Check if an item exists\n",
    "The following example shows how we can use if statement to determine if a specified item is present in a list using the in keyword:"
   ]
  },
  {
   "cell_type": "code",
   "execution_count": 7,
   "metadata": {},
   "outputs": [
    {
     "name": "stdout",
     "output_type": "stream",
     "text": [
      "Yes, 'cereal' is in the list\n"
     ]
    }
   ],
   "source": [
    "mylist = [\"milk\", \"cereal\", \"orange\", \"juice\"]\n",
    "if \"cereal\" in mylist:\n",
    "  print(\"Yes, 'cereal' is in the list\")\n"
   ]
  },
  {
   "cell_type": "markdown",
   "metadata": {},
   "source": [
    "## 1.2.6 Determining number of items in a list\n",
    "We can use len() to determine how many items a list has, use the len() function. Try the following examples and observe the results:"
   ]
  },
  {
   "cell_type": "code",
   "execution_count": 8,
   "metadata": {},
   "outputs": [
    {
     "name": "stdout",
     "output_type": "stream",
     "text": [
      "4\n"
     ]
    }
   ],
   "source": [
    "a = [\"milk\", \"cereal\", \"orange\", \"juice\"]  \n",
    "print(len(a))"
   ]
  }
 ],
 "metadata": {
  "kernelspec": {
   "display_name": "Python 3",
   "language": "python",
   "name": "python3"
  },
  "language_info": {
   "codemirror_mode": {
    "name": "ipython",
    "version": 3
   },
   "file_extension": ".py",
   "mimetype": "text/x-python",
   "name": "python",
   "nbconvert_exporter": "python",
   "pygments_lexer": "ipython3",
   "version": "3.12.2"
  }
 },
 "nbformat": 4,
 "nbformat_minor": 2
}
