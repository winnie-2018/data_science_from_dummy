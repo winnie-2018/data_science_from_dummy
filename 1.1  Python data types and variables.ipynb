{
 "cells": [
  {
   "cell_type": "markdown",
   "metadata": {},
   "source": [
    "# Basic Python"
   ]
  },
  {
   "cell_type": "markdown",
   "metadata": {},
   "source": [
    "# 1.1  Python data types and variables\n",
    "In this topic, we will learn to use variables and different data types in Python programming to represent data, including declaring, assigning, and reassigning values using Python variables."
   ]
  },
  {
   "cell_type": "markdown",
   "metadata": {},
   "source": [
    "## 2.1.1 Variables\n",
    "A variable is a location in computer memory, given a specific name, used for storing object references. The names given to variables are called identifiers. There are specific rules applied to an identifier:\n",
    "\n",
    "Identifiers may only begin with an underscore (_) or a letter, not numbers. Therefore, myvar or my_var is valid, 1var is invalid.\n",
    "\n",
    "Identifiers may consist of numbers, letters, and underscores, no other characters. So, for example, we can have python_101 or _python101, but we cannot have $python$ because the $ sign is invalid.\n",
    "\n",
    "There is no limit on the length of an identifier name, although keeping them concise is recommended.\n",
    "\n",
    "We cannot use any Python keywords as an identifier name. They are reserved words for use by Python for specific purposes. "
   ]
  },
  {
   "cell_type": "markdown",
   "metadata": {},
   "source": [
    "### 2.1.2 Python keywords \n",
    "Following lists some of the commonly used Python keywords: \n",
    "\n",
    "`and`|`as`|`break`|`class`|`continue`|`def`|`del`|`elif`|`else`\n",
    "-----|----|-------|-------|----------|-----|-----|------|-------             \n",
    "`for`|`from`|`global`|`if`|`import`|`in`|`is`|`lambda`|`not`\n",
    "`return`|`True`|`try`|`while`|`with`|`yield`|`False`|`or`|`None`\n",
    "\n",
    "The above keywords may get altered or removed in different versions of Python. Some extra might get added. We can always get the list of keywords in the current Python version we use by typing the following codes in the Python console. You can click on the Run button to see the list of keywords printed using the Python command print(keyword.kwlist) in the following example"
   ]
  },
  {
   "cell_type": "code",
   "execution_count": 2,
   "metadata": {},
   "outputs": [
    {
     "data": {
      "text/plain": [
       "3"
      ]
     },
     "execution_count": 2,
     "metadata": {},
     "output_type": "execute_result"
    }
   ],
   "source": [
    "import keyword\n",
    "print(keyword.kwlist)"
   ]
  }
 ],
 "metadata": {
  "kernelspec": {
   "display_name": "Python 3",
   "language": "python",
   "name": "python3"
  },
  "language_info": {
   "codemirror_mode": {
    "name": "ipython",
    "version": 3
   },
   "file_extension": ".py",
   "mimetype": "text/x-python",
   "name": "python",
   "nbconvert_exporter": "python",
   "pygments_lexer": "ipython3",
   "version": "3.12.2"
  }
 },
 "nbformat": 4,
 "nbformat_minor": 2
}
